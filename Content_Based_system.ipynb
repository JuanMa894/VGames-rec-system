{
 "cells": [
  {
   "cell_type": "code",
   "execution_count": 74,
   "metadata": {},
   "outputs": [],
   "source": [
    "import pandas as pd\n",
    "import numpy as np\n",
    "import matplotlib.pyplot as plt\n",
    "import seaborn as sns\n",
    "%matplotlib inline\n",
    "\n",
    "from sklearn.feature_extraction.text import CountVectorizer\n",
    "from sklearn.metrics.pairwise import cosine_similarity"
   ]
  },
  {
   "cell_type": "markdown",
   "metadata": {},
   "source": [
    "## Data understanding\n",
    "\n",
    "https://www.reddit.com/r/datasets/comments/2awdgx/i_made_this_dataset_of_all_of_igns_game_reviews/"
   ]
  },
  {
   "cell_type": "code",
   "execution_count": 52,
   "metadata": {
    "scrolled": true
   },
   "outputs": [
    {
     "name": "stdout",
     "output_type": "stream",
     "text": [
      "<class 'pandas.core.frame.DataFrame'>\n",
      "RangeIndex: 17534 entries, 0 to 17533\n",
      "Data columns (total 5 columns):\n",
      " #   Column      Non-Null Count  Dtype  \n",
      "---  ------      --------------  -----  \n",
      " 0   Game        17534 non-null  object \n",
      " 1   Platform    17534 non-null  object \n",
      " 2   Score       17534 non-null  float64\n",
      " 3   Genre       17534 non-null  object \n",
      " 4   Unnamed: 4  0 non-null      float64\n",
      "dtypes: float64(2), object(3)\n",
      "memory usage: 685.0+ KB\n"
     ]
    }
   ],
   "source": [
    "meta = pd.read_csv('./data/IGN_data.csv')\n",
    "meta.info()"
   ]
  },
  {
   "cell_type": "code",
   "execution_count": 73,
   "metadata": {},
   "outputs": [
    {
     "data": {
      "text/plain": [
       "Game        0\n",
       "Platform    0\n",
       "Score       0\n",
       "Genre       0\n",
       "dtype: int64"
      ]
     },
     "execution_count": 73,
     "metadata": {},
     "output_type": "execute_result"
    }
   ],
   "source": [
    "meta.isna().sum()"
   ]
  },
  {
   "cell_type": "code",
   "execution_count": 53,
   "metadata": {},
   "outputs": [],
   "source": [
    "meta.drop(columns='Unnamed: 4', inplace=True)"
   ]
  },
  {
   "cell_type": "code",
   "execution_count": 54,
   "metadata": {},
   "outputs": [
    {
     "data": {
      "text/plain": [
       "12208"
      ]
     },
     "execution_count": 54,
     "metadata": {},
     "output_type": "execute_result"
    }
   ],
   "source": [
    "meta.Game.nunique()"
   ]
  },
  {
   "cell_type": "code",
   "execution_count": 55,
   "metadata": {},
   "outputs": [
    {
     "data": {
      "text/plain": [
       "56"
      ]
     },
     "execution_count": 55,
     "metadata": {},
     "output_type": "execute_result"
    }
   ],
   "source": [
    "meta.Platform.nunique()"
   ]
  },
  {
   "cell_type": "code",
   "execution_count": 56,
   "metadata": {},
   "outputs": [
    {
     "data": {
      "text/plain": [
       "96"
      ]
     },
     "execution_count": 56,
     "metadata": {},
     "output_type": "execute_result"
    }
   ],
   "source": [
    "meta.Genre.nunique()"
   ]
  },
  {
   "cell_type": "markdown",
   "metadata": {},
   "source": [
    "12208 different games, 56 different consoles/platforms, 96 genres"
   ]
  },
  {
   "cell_type": "code",
   "execution_count": 57,
   "metadata": {},
   "outputs": [
    {
     "data": {
      "text/plain": [
       "0             Xbox One\n",
       "1                Wii U\n",
       "2        PlayStation 3\n",
       "3        PlayStation 4\n",
       "4                   PC\n",
       "5             Xbox One\n",
       "6             Xbox 360\n",
       "7                   PC\n",
       "8     PlayStation Vita\n",
       "9                   PC\n",
       "10       PlayStation 4\n",
       "11    PlayStation Vita\n",
       "12                  PC\n",
       "13       PlayStation 4\n",
       "14                  PC\n",
       "15       PlayStation 3\n",
       "16              iPhone\n",
       "17                  PC\n",
       "18              iPhone\n",
       "19       PlayStation 4\n",
       "Name: Platform, dtype: object"
      ]
     },
     "execution_count": 57,
     "metadata": {},
     "output_type": "execute_result"
    }
   ],
   "source": [
    "meta['Platform'].head(20)"
   ]
  },
  {
   "cell_type": "markdown",
   "metadata": {},
   "source": [
    "dataset includes phone games too"
   ]
  },
  {
   "cell_type": "code",
   "execution_count": 58,
   "metadata": {},
   "outputs": [
    {
     "data": {
      "text/plain": [
       "PC                      3026\n",
       "PlayStation 2           1683\n",
       "Xbox 360                1582\n",
       "Wii                     1347\n",
       "PlayStation 3           1295\n",
       "Nintendo DS             1040\n",
       "PlayStation              952\n",
       "Wireless                 905\n",
       "Xbox                     822\n",
       "iPhone                   815\n",
       "PlayStation Portable     625\n",
       "Game Boy Advance         620\n",
       "GameCube                 509\n",
       "Game Boy Color           356\n",
       "Nintendo 64              301\n",
       "Dreamcast                286\n",
       "Nintendo DSi             255\n",
       "Nintendo 3DS             173\n",
       "PlayStation Vita         114\n",
       "iPad                      94\n",
       "Lynx                      82\n",
       "Wii U                     78\n",
       "Macintosh                 70\n",
       "Genesis                   58\n",
       "PlayStation 4             47\n",
       "NES                       46\n",
       "TurboGrafx-16             39\n",
       "Xbox One                  35\n",
       "Android                   33\n",
       "NeoGeo Pocket Color       31\n",
       "N-Gage                    30\n",
       "Super NES                 28\n",
       "Game Boy                  22\n",
       "Sega 32X                  18\n",
       "iPod                      16\n",
       "Windows Phone             14\n",
       "Master System             13\n",
       "Arcade                    11\n",
       "NeoGeo                    10\n",
       "Linux                      8\n",
       "Nintendo 64DD              7\n",
       "Saturn                     6\n",
       "Commodore 64/128           6\n",
       "Atari 2600                 5\n",
       "WonderSwan                 4\n",
       "Game.Com                   3\n",
       "TurboGrafx-CD              3\n",
       "Atari 5200                 2\n",
       "Vectrex                    2\n",
       "DVD / HD Video Game        1\n",
       "WonderSwan Color           1\n",
       "Windows Surface            1\n",
       "Pocket PC                  1\n",
       "Sega CD                    1\n",
       "Web Games                  1\n",
       "Dreamcast VMU              1\n",
       "Name: Platform, dtype: int64"
      ]
     },
     "execution_count": 58,
     "metadata": {},
     "output_type": "execute_result"
    }
   ],
   "source": [
    "meta['Platform'].value_counts()"
   ]
  },
  {
   "cell_type": "markdown",
   "metadata": {},
   "source": [
    "i will drop games on the least popular consoles\n",
    "\n",
    "\n",
    "Will try to keep consoles with more than 20 games\n",
    "\n",
    "- iPad and iPod games should be compatible with iphone, will replace those to iphone\n",
    "\n",
    "- only difference between Nintendo ds and dsi is the camara the second one includes, they are both compatible with the same games, dsi games are ds games, will raplece dsi to ds\n",
    "\n",
    "\n",
    "not sure what `wireless` console is"
   ]
  },
  {
   "cell_type": "code",
   "execution_count": 59,
   "metadata": {
    "scrolled": false
   },
   "outputs": [
    {
     "data": {
      "text/html": [
       "<div>\n",
       "<style scoped>\n",
       "    .dataframe tbody tr th:only-of-type {\n",
       "        vertical-align: middle;\n",
       "    }\n",
       "\n",
       "    .dataframe tbody tr th {\n",
       "        vertical-align: top;\n",
       "    }\n",
       "\n",
       "    .dataframe thead th {\n",
       "        text-align: right;\n",
       "    }\n",
       "</style>\n",
       "<table border=\"1\" class=\"dataframe\">\n",
       "  <thead>\n",
       "    <tr style=\"text-align: right;\">\n",
       "      <th></th>\n",
       "      <th>Game</th>\n",
       "      <th>Platform</th>\n",
       "      <th>Score</th>\n",
       "      <th>Genre</th>\n",
       "    </tr>\n",
       "  </thead>\n",
       "  <tbody>\n",
       "    <tr>\n",
       "      <th>2832</th>\n",
       "      <td>The Sims 3</td>\n",
       "      <td>Wireless</td>\n",
       "      <td>7.5</td>\n",
       "      <td>Simulation</td>\n",
       "    </tr>\n",
       "    <tr>\n",
       "      <th>5319</th>\n",
       "      <td>Fast &amp;amp; Furious</td>\n",
       "      <td>Wireless</td>\n",
       "      <td>8.0</td>\n",
       "      <td>Racing</td>\n",
       "    </tr>\n",
       "    <tr>\n",
       "      <th>5476</th>\n",
       "      <td>Zombie Infection</td>\n",
       "      <td>Wireless</td>\n",
       "      <td>8.5</td>\n",
       "      <td>Action</td>\n",
       "    </tr>\n",
       "    <tr>\n",
       "      <th>5773</th>\n",
       "      <td>Castle of Magic</td>\n",
       "      <td>Wireless</td>\n",
       "      <td>8.5</td>\n",
       "      <td>Action</td>\n",
       "    </tr>\n",
       "    <tr>\n",
       "      <th>5786</th>\n",
       "      <td>Far Cry 2</td>\n",
       "      <td>Wireless</td>\n",
       "      <td>7.5</td>\n",
       "      <td>Shooter</td>\n",
       "    </tr>\n",
       "    <tr>\n",
       "      <th>...</th>\n",
       "      <td>...</td>\n",
       "      <td>...</td>\n",
       "      <td>...</td>\n",
       "      <td>...</td>\n",
       "    </tr>\n",
       "    <tr>\n",
       "      <th>13147</th>\n",
       "      <td>Lilo &amp;amp; Stitch: Space Escape</td>\n",
       "      <td>Wireless</td>\n",
       "      <td>3.0</td>\n",
       "      <td>Shooter</td>\n",
       "    </tr>\n",
       "    <tr>\n",
       "      <th>13151</th>\n",
       "      <td>Defender</td>\n",
       "      <td>Wireless</td>\n",
       "      <td>2.0</td>\n",
       "      <td>Shooter</td>\n",
       "    </tr>\n",
       "    <tr>\n",
       "      <th>13209</th>\n",
       "      <td>Intellivision Astrosmash</td>\n",
       "      <td>Wireless</td>\n",
       "      <td>5.0</td>\n",
       "      <td>Shooter</td>\n",
       "    </tr>\n",
       "    <tr>\n",
       "      <th>13213</th>\n",
       "      <td>Tetris</td>\n",
       "      <td>Wireless</td>\n",
       "      <td>6.5</td>\n",
       "      <td>Puzzle</td>\n",
       "    </tr>\n",
       "    <tr>\n",
       "      <th>13265</th>\n",
       "      <td>Super Monkey Ball</td>\n",
       "      <td>Wireless</td>\n",
       "      <td>7.0</td>\n",
       "      <td>Action</td>\n",
       "    </tr>\n",
       "  </tbody>\n",
       "</table>\n",
       "<p>905 rows × 4 columns</p>\n",
       "</div>"
      ],
      "text/plain": [
       "                                  Game  Platform  Score       Genre\n",
       "2832                        The Sims 3  Wireless    7.5  Simulation\n",
       "5319                Fast &amp; Furious  Wireless    8.0      Racing\n",
       "5476                  Zombie Infection  Wireless    8.5      Action\n",
       "5773                   Castle of Magic  Wireless    8.5      Action\n",
       "5786                         Far Cry 2  Wireless    7.5     Shooter\n",
       "...                                ...       ...    ...         ...\n",
       "13147  Lilo &amp; Stitch: Space Escape  Wireless    3.0     Shooter\n",
       "13151                         Defender  Wireless    2.0     Shooter\n",
       "13209         Intellivision Astrosmash  Wireless    5.0     Shooter\n",
       "13213                           Tetris  Wireless    6.5      Puzzle\n",
       "13265                Super Monkey Ball  Wireless    7.0      Action\n",
       "\n",
       "[905 rows x 4 columns]"
      ]
     },
     "execution_count": 59,
     "metadata": {},
     "output_type": "execute_result"
    }
   ],
   "source": [
    "meta[meta['Platform'] == 'Wireless']"
   ]
  },
  {
   "cell_type": "markdown",
   "metadata": {},
   "source": [
    "per ign site, [here](https://www.ign.com/games/lilo-stitch-space-escape) seems to be mobile games, game was released on 2003, before android or ios, there are 905 games for old mobile os"
   ]
  },
  {
   "cell_type": "markdown",
   "metadata": {},
   "source": [
    "game names show '&amp;' where '&' is found, will replace it to '&'"
   ]
  },
  {
   "cell_type": "code",
   "execution_count": 60,
   "metadata": {
    "scrolled": true
   },
   "outputs": [
    {
     "data": {
      "text/html": [
       "<div>\n",
       "<style scoped>\n",
       "    .dataframe tbody tr th:only-of-type {\n",
       "        vertical-align: middle;\n",
       "    }\n",
       "\n",
       "    .dataframe tbody tr th {\n",
       "        vertical-align: top;\n",
       "    }\n",
       "\n",
       "    .dataframe thead th {\n",
       "        text-align: right;\n",
       "    }\n",
       "</style>\n",
       "<table border=\"1\" class=\"dataframe\">\n",
       "  <thead>\n",
       "    <tr style=\"text-align: right;\">\n",
       "      <th></th>\n",
       "      <th>Game</th>\n",
       "      <th>Platform</th>\n",
       "      <th>Score</th>\n",
       "      <th>Genre</th>\n",
       "    </tr>\n",
       "  </thead>\n",
       "  <tbody>\n",
       "    <tr>\n",
       "      <th>285</th>\n",
       "      <td>Football Manager 2014</td>\n",
       "      <td>PC</td>\n",
       "      <td>8.0</td>\n",
       "      <td>Sports, Simulation</td>\n",
       "    </tr>\n",
       "    <tr>\n",
       "      <th>286</th>\n",
       "      <td>Football Manager 2014</td>\n",
       "      <td>Macintosh</td>\n",
       "      <td>8.0</td>\n",
       "      <td>Sports, Simulation</td>\n",
       "    </tr>\n",
       "    <tr>\n",
       "      <th>287</th>\n",
       "      <td>Football Manager 2014</td>\n",
       "      <td>Linux</td>\n",
       "      <td>8.0</td>\n",
       "      <td>Sports, Simulation</td>\n",
       "    </tr>\n",
       "  </tbody>\n",
       "</table>\n",
       "</div>"
      ],
      "text/plain": [
       "                      Game   Platform  Score               Genre\n",
       "285  Football Manager 2014         PC    8.0  Sports, Simulation\n",
       "286  Football Manager 2014  Macintosh    8.0  Sports, Simulation\n",
       "287  Football Manager 2014      Linux    8.0  Sports, Simulation"
      ]
     },
     "execution_count": 60,
     "metadata": {},
     "output_type": "execute_result"
    }
   ],
   "source": [
    "meta[meta['Game'] == 'Football Manager 2014']"
   ]
  },
  {
   "cell_type": "markdown",
   "metadata": {},
   "source": [
    "seems like games show up once per platform they were released"
   ]
  },
  {
   "cell_type": "code",
   "execution_count": 64,
   "metadata": {
    "scrolled": true
   },
   "outputs": [
    {
     "data": {
      "text/plain": [
       "Cars                                                  10\n",
       "Madden NFL 07                                         10\n",
       "Brain Challenge                                        9\n",
       "Madden NFL 08                                          9\n",
       "Ratatouille                                            9\n",
       "                                                      ..\n",
       "Assault Heroes 2                                       1\n",
       "Defend Your Castle                                     1\n",
       "PixelJunk Monsters Encore                              1\n",
       "LostWinds                                              1\n",
       "The Walking Dead: The Game -- Episode 1: A New Day     1\n",
       "Name: Game, Length: 12208, dtype: int64"
      ]
     },
     "execution_count": 64,
     "metadata": {},
     "output_type": "execute_result"
    }
   ],
   "source": [
    "meta['Game'].value_counts()"
   ]
  },
  {
   "cell_type": "code",
   "execution_count": 70,
   "metadata": {
    "scrolled": true
   },
   "outputs": [
    {
     "data": {
      "text/plain": [
       "array([ 7.8,  9. ,  8.7,  7.5,  5.4,  7. ,  6.3,  6.4,  6.8,  7.4,  4.5,\n",
       "        7.7,  3.8,  7.6,  5.8,  9.3,  6.9,  6. ,  9.6,  8. ,  8.6,  3.5,\n",
       "        8.2,  7.1,  9.2,  7.3,  8.1,  5. ,  8.5,  7.9,  8.9,  3. ,  9.5,\n",
       "        6.5,  5.7,  6.6,  7.2,  9.1,  5.2,  4. ,  5.6,  8.3,  5.5,  4.8,\n",
       "        4.3,  2.7,  8.8,  5.9,  8.4,  9.4,  6.2,  4.7,  5.1,  4.4,  9.8,\n",
       "       10. ,  6.7,  6.1,  4.9,  2.8,  5.3,  4.1,  4.2,  3.7,  3.4,  4.6,\n",
       "        2.5,  2.3,  3.9,  2. ,  1. ,  1.5,  9.7,  3.1,  2.6,  3.3,  3.6,\n",
       "        2.2,  2.1,  0.8,  1.9,  3.2,  1.4,  2.9,  1.7,  1.2,  2.4,  9.9,\n",
       "        0.5,  1.1,  1.3,  0.7,  1.8])"
      ]
     },
     "execution_count": 70,
     "metadata": {},
     "output_type": "execute_result"
    }
   ],
   "source": [
    "meta['Score'].unique()"
   ]
  },
  {
   "cell_type": "markdown",
   "metadata": {},
   "source": [
    "IGN rates software on a scale from 0 to 10, with 10 being the best."
   ]
  },
  {
   "cell_type": "code",
   "execution_count": 72,
   "metadata": {
    "scrolled": true
   },
   "outputs": [
    {
     "data": {
      "text/plain": [
       "Action                  3628\n",
       "Sports                  1854\n",
       "Shooter                 1472\n",
       "Racing                  1189\n",
       "Strategy                1013\n",
       "                        ... \n",
       "Sports, Fighting           1\n",
       "Baseball                   1\n",
       "Sports, Other              1\n",
       "Adventure, Adventure       1\n",
       "Sports, Editor             1\n",
       "Name: Genre, Length: 96, dtype: int64"
      ]
     },
     "execution_count": 72,
     "metadata": {},
     "output_type": "execute_result"
    }
   ],
   "source": [
    "meta['Genre'].value_counts()"
   ]
  },
  {
   "cell_type": "markdown",
   "metadata": {},
   "source": [
    "theres overlaping with some games having more than a single genre"
   ]
  },
  {
   "cell_type": "markdown",
   "metadata": {},
   "source": [
    "## Data Preparation\n",
    "**Cleaning**"
   ]
  },
  {
   "cell_type": "code",
   "execution_count": 61,
   "metadata": {},
   "outputs": [],
   "source": [
    "#combining different platforms that share the same games\n",
    "meta.loc[meta['Platform'] == 'iPad', 'Platform']='iPhone'\n",
    "meta.loc[meta['Platform'] == 'iPod', 'Platform']='iPhone'\n",
    "meta.loc[meta['Platform'] == 'Nintendo DSi', 'Platform']='Nintendo DS'"
   ]
  },
  {
   "cell_type": "code",
   "execution_count": 62,
   "metadata": {},
   "outputs": [],
   "source": [
    "# replacing '&amp;' to '&' in game column\n",
    "meta['Game'] = meta['Game'].str.replace(\"&amp;\", \"&\")"
   ]
  },
  {
   "cell_type": "code",
   "execution_count": 63,
   "metadata": {},
   "outputs": [],
   "source": [
    "# subsetting to consoles with more than 20 games\n",
    "meta_clean = meta[meta['Platform'].map(meta['Platform'].value_counts()) >= 20]"
   ]
  },
  {
   "cell_type": "code",
   "execution_count": null,
   "metadata": {},
   "outputs": [],
   "source": []
  },
  {
   "cell_type": "code",
   "execution_count": null,
   "metadata": {},
   "outputs": [],
   "source": []
  },
  {
   "cell_type": "code",
   "execution_count": null,
   "metadata": {},
   "outputs": [],
   "source": []
  },
  {
   "cell_type": "code",
   "execution_count": null,
   "metadata": {},
   "outputs": [],
   "source": []
  },
  {
   "cell_type": "code",
   "execution_count": null,
   "metadata": {},
   "outputs": [],
   "source": []
  },
  {
   "cell_type": "code",
   "execution_count": null,
   "metadata": {},
   "outputs": [],
   "source": []
  },
  {
   "cell_type": "code",
   "execution_count": null,
   "metadata": {},
   "outputs": [],
   "source": []
  }
 ],
 "metadata": {
  "kernelspec": {
   "display_name": "rec_sys",
   "language": "python",
   "name": "rec_sys"
  },
  "language_info": {
   "codemirror_mode": {
    "name": "ipython",
    "version": 3
   },
   "file_extension": ".py",
   "mimetype": "text/x-python",
   "name": "python",
   "nbconvert_exporter": "python",
   "pygments_lexer": "ipython3",
   "version": "3.10.8"
  }
 },
 "nbformat": 4,
 "nbformat_minor": 4
}
