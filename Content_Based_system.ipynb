{
 "cells": [
  {
   "cell_type": "markdown",
   "metadata": {},
   "source": [
    "# Content-Based Recommender System\n",
    "**Author: Juan Acosta**"
   ]
  },
  {
   "cell_type": "code",
   "execution_count": 228,
   "metadata": {},
   "outputs": [],
   "source": [
    "import pandas as pd\n",
    "import numpy as np\n",
    "import matplotlib.pyplot as plt\n",
    "import seaborn as sns\n",
    "%matplotlib inline\n",
    "\n",
    "from sklearn.feature_extraction.text import CountVectorizer\n",
    "from sklearn.metrics.pairwise import cosine_similarity"
   ]
  },
  {
   "cell_type": "markdown",
   "metadata": {},
   "source": [
    "### Motivation\n",
    "I'd like to test a content-based recommender system using a new dataset that includes metadata such as game genre, platform, and publisher. Previously, I built a collaborative filtering system using only user ratings as a feature, but this new system will incorporate additional details about the games themselves.\n",
    "\n",
    "You can take a look at the collaborative-filter system i made on [here](https://github.com/JuanMa894/VGames-rec-system/blob/main/Game_recommender_system.ipynb)"
   ]
  },
  {
   "cell_type": "markdown",
   "metadata": {},
   "source": [
    "## Data understanding\n",
    "The dataset that I'm using for the content-based system consists of a total of 11,493 unique video game titles across 31 different platforms. This information was gathered from [VGchartz](https://www.vgchartz.com/) and can be accessed on the Kaggle platform [here](https://www.kaggle.com/datasets/gregorut/videogamesales).\n",
    "\n",
    "Columns:\n",
    "- Rank - Ranking of overall sales\n",
    "- Name - The games name\n",
    "- Platform - Platform of the games release (i.e. PC,PS4, etc.)\n",
    "- Year - Year of the game's release\n",
    "- Genre - Genre of the game\n",
    "- Publisher - Publisher of the game\n",
    "- NA_Sales - Sales in North America (in millions)\n",
    "- EU_Sales - Sales in Europe (in millions)\n",
    "- JP_Sales - Sales in Japan (in millions)\n",
    "- Other_Sales - Sales in the rest of the world (in millions)\n",
    "- Global_Sales - Total worldwide sales."
   ]
  },
  {
   "cell_type": "code",
   "execution_count": 229,
   "metadata": {},
   "outputs": [
    {
     "name": "stdout",
     "output_type": "stream",
     "text": [
      "<class 'pandas.core.frame.DataFrame'>\n",
      "RangeIndex: 16598 entries, 0 to 16597\n",
      "Data columns (total 4 columns):\n",
      " #   Column     Non-Null Count  Dtype \n",
      "---  ------     --------------  ----- \n",
      " 0   Name       16598 non-null  object\n",
      " 1   Platform   16598 non-null  object\n",
      " 2   Genre      16598 non-null  object\n",
      " 3   Publisher  16540 non-null  object\n",
      "dtypes: object(4)\n",
      "memory usage: 518.8+ KB\n"
     ]
    }
   ],
   "source": [
    "df = pd.read_csv('./data/vgsales.csv')\n",
    "\n",
    "# keeping only the needed features\n",
    "df = df[['Name', 'Platform', 'Genre', 'Publisher']]\n",
    "df.info()"
   ]
  },
  {
   "cell_type": "code",
   "execution_count": 230,
   "metadata": {
    "scrolled": true
   },
   "outputs": [
    {
     "data": {
      "text/plain": [
       "Name         11493\n",
       "Platform        31\n",
       "Genre           12\n",
       "Publisher      578\n",
       "dtype: int64"
      ]
     },
     "execution_count": 230,
     "metadata": {},
     "output_type": "execute_result"
    }
   ],
   "source": [
    "# checking unique values for each feature\n",
    "df.nunique()"
   ]
  },
  {
   "cell_type": "code",
   "execution_count": 231,
   "metadata": {},
   "outputs": [
    {
     "data": {
      "text/plain": [
       "Name          0\n",
       "Platform      0\n",
       "Genre         0\n",
       "Publisher    58\n",
       "dtype: int64"
      ]
     },
     "execution_count": 231,
     "metadata": {},
     "output_type": "execute_result"
    }
   ],
   "source": [
    "# Null values\n",
    "df.isna().sum()"
   ]
  },
  {
   "cell_type": "code",
   "execution_count": 232,
   "metadata": {
    "scrolled": true
   },
   "outputs": [
    {
     "data": {
      "text/html": [
       "<div>\n",
       "<style scoped>\n",
       "    .dataframe tbody tr th:only-of-type {\n",
       "        vertical-align: middle;\n",
       "    }\n",
       "\n",
       "    .dataframe tbody tr th {\n",
       "        vertical-align: top;\n",
       "    }\n",
       "\n",
       "    .dataframe thead th {\n",
       "        text-align: right;\n",
       "    }\n",
       "</style>\n",
       "<table border=\"1\" class=\"dataframe\">\n",
       "  <thead>\n",
       "    <tr style=\"text-align: right;\">\n",
       "      <th></th>\n",
       "      <th>Name</th>\n",
       "      <th>Platform</th>\n",
       "      <th>Genre</th>\n",
       "      <th>Publisher</th>\n",
       "    </tr>\n",
       "  </thead>\n",
       "  <tbody>\n",
       "    <tr>\n",
       "      <th>470</th>\n",
       "      <td>wwe Smackdown vs. Raw 2006</td>\n",
       "      <td>PS2</td>\n",
       "      <td>Fighting</td>\n",
       "      <td>NaN</td>\n",
       "    </tr>\n",
       "    <tr>\n",
       "      <th>1303</th>\n",
       "      <td>Triple Play 99</td>\n",
       "      <td>PS</td>\n",
       "      <td>Sports</td>\n",
       "      <td>NaN</td>\n",
       "    </tr>\n",
       "    <tr>\n",
       "      <th>1662</th>\n",
       "      <td>Shrek / Shrek 2 2-in-1 Gameboy Advance Video</td>\n",
       "      <td>GBA</td>\n",
       "      <td>Misc</td>\n",
       "      <td>NaN</td>\n",
       "    </tr>\n",
       "    <tr>\n",
       "      <th>2222</th>\n",
       "      <td>Bentley's Hackpack</td>\n",
       "      <td>GBA</td>\n",
       "      <td>Misc</td>\n",
       "      <td>NaN</td>\n",
       "    </tr>\n",
       "    <tr>\n",
       "      <th>3159</th>\n",
       "      <td>Nicktoons Collection: Game Boy Advance Video V...</td>\n",
       "      <td>GBA</td>\n",
       "      <td>Misc</td>\n",
       "      <td>NaN</td>\n",
       "    </tr>\n",
       "    <tr>\n",
       "      <th>3166</th>\n",
       "      <td>SpongeBob SquarePants: Game Boy Advance Video ...</td>\n",
       "      <td>GBA</td>\n",
       "      <td>Misc</td>\n",
       "      <td>NaN</td>\n",
       "    </tr>\n",
       "    <tr>\n",
       "      <th>3766</th>\n",
       "      <td>SpongeBob SquarePants: Game Boy Advance Video ...</td>\n",
       "      <td>GBA</td>\n",
       "      <td>Misc</td>\n",
       "      <td>NaN</td>\n",
       "    </tr>\n",
       "    <tr>\n",
       "      <th>4145</th>\n",
       "      <td>Sonic the Hedgehog</td>\n",
       "      <td>PS3</td>\n",
       "      <td>Platform</td>\n",
       "      <td>NaN</td>\n",
       "    </tr>\n",
       "    <tr>\n",
       "      <th>4526</th>\n",
       "      <td>The Fairly Odd Parents: Game Boy Advance Video...</td>\n",
       "      <td>GBA</td>\n",
       "      <td>Misc</td>\n",
       "      <td>NaN</td>\n",
       "    </tr>\n",
       "    <tr>\n",
       "      <th>4635</th>\n",
       "      <td>The Fairly Odd Parents: Game Boy Advance Video...</td>\n",
       "      <td>GBA</td>\n",
       "      <td>Misc</td>\n",
       "      <td>NaN</td>\n",
       "    </tr>\n",
       "    <tr>\n",
       "      <th>5302</th>\n",
       "      <td>Dragon Ball Z: Budokai Tenkaichi 2 (JP sales)</td>\n",
       "      <td>Wii</td>\n",
       "      <td>Action</td>\n",
       "      <td>NaN</td>\n",
       "    </tr>\n",
       "    <tr>\n",
       "      <th>5647</th>\n",
       "      <td>Cartoon Network Collection: Game Boy Advance V...</td>\n",
       "      <td>GBA</td>\n",
       "      <td>Misc</td>\n",
       "      <td>NaN</td>\n",
       "    </tr>\n",
       "    <tr>\n",
       "      <th>6272</th>\n",
       "      <td>The Legend of Zelda: The Minish Cap(weekly JP ...</td>\n",
       "      <td>GBA</td>\n",
       "      <td>Action</td>\n",
       "      <td>NaN</td>\n",
       "    </tr>\n",
       "    <tr>\n",
       "      <th>6437</th>\n",
       "      <td>Sonic X: Game Boy Advance Video Volume 1</td>\n",
       "      <td>GBA</td>\n",
       "      <td>Misc</td>\n",
       "      <td>NaN</td>\n",
       "    </tr>\n",
       "    <tr>\n",
       "      <th>6562</th>\n",
       "      <td>Dora the Explorer: Game Boy Advance Video Volu...</td>\n",
       "      <td>GBA</td>\n",
       "      <td>Misc</td>\n",
       "      <td>NaN</td>\n",
       "    </tr>\n",
       "    <tr>\n",
       "      <th>6648</th>\n",
       "      <td>Cartoon Network Collection: Game Boy Advance V...</td>\n",
       "      <td>GBA</td>\n",
       "      <td>Misc</td>\n",
       "      <td>NaN</td>\n",
       "    </tr>\n",
       "    <tr>\n",
       "      <th>6849</th>\n",
       "      <td>All Grown Up!: Game Boy Advance Video Volume 1</td>\n",
       "      <td>GBA</td>\n",
       "      <td>Misc</td>\n",
       "      <td>NaN</td>\n",
       "    </tr>\n",
       "    <tr>\n",
       "      <th>7208</th>\n",
       "      <td>Nicktoons Collection: Game Boy Advance Video V...</td>\n",
       "      <td>GBA</td>\n",
       "      <td>Misc</td>\n",
       "      <td>NaN</td>\n",
       "    </tr>\n",
       "    <tr>\n",
       "      <th>7351</th>\n",
       "      <td>Yu Yu Hakusho: Dark Tournament</td>\n",
       "      <td>PS2</td>\n",
       "      <td>Fighting</td>\n",
       "      <td>NaN</td>\n",
       "    </tr>\n",
       "    <tr>\n",
       "      <th>7470</th>\n",
       "      <td>SpongeBob SquarePants: Game Boy Advance Video ...</td>\n",
       "      <td>GBA</td>\n",
       "      <td>Misc</td>\n",
       "      <td>NaN</td>\n",
       "    </tr>\n",
       "    <tr>\n",
       "      <th>7953</th>\n",
       "      <td>Thomas the Tank Engine &amp; Friends</td>\n",
       "      <td>GBA</td>\n",
       "      <td>Adventure</td>\n",
       "      <td>NaN</td>\n",
       "    </tr>\n",
       "    <tr>\n",
       "      <th>8330</th>\n",
       "      <td>Dragon Ball GT: Game Boy Advance Video Volume 1</td>\n",
       "      <td>GBA</td>\n",
       "      <td>Misc</td>\n",
       "      <td>NaN</td>\n",
       "    </tr>\n",
       "    <tr>\n",
       "      <th>8341</th>\n",
       "      <td>Codename: Kids Next Door: Game Boy Advance Vid...</td>\n",
       "      <td>GBA</td>\n",
       "      <td>Misc</td>\n",
       "      <td>NaN</td>\n",
       "    </tr>\n",
       "    <tr>\n",
       "      <th>8368</th>\n",
       "      <td>Teenage Mutant Ninja Turtles: Game Boy Advance...</td>\n",
       "      <td>GBA</td>\n",
       "      <td>Misc</td>\n",
       "      <td>NaN</td>\n",
       "    </tr>\n",
       "    <tr>\n",
       "      <th>8503</th>\n",
       "      <td>Stronghold 3</td>\n",
       "      <td>PC</td>\n",
       "      <td>Strategy</td>\n",
       "      <td>NaN</td>\n",
       "    </tr>\n",
       "    <tr>\n",
       "      <th>8770</th>\n",
       "      <td>Cartoon Network Collection: Game Boy Advance V...</td>\n",
       "      <td>GBA</td>\n",
       "      <td>Misc</td>\n",
       "      <td>NaN</td>\n",
       "    </tr>\n",
       "    <tr>\n",
       "      <th>8848</th>\n",
       "      <td>Pokémon: Johto Photo Finish: Game Boy Advance ...</td>\n",
       "      <td>GBA</td>\n",
       "      <td>Misc</td>\n",
       "      <td>NaN</td>\n",
       "    </tr>\n",
       "    <tr>\n",
       "      <th>8896</th>\n",
       "      <td>Strawberry Shortcake: Game Boy Advance Video V...</td>\n",
       "      <td>GBA</td>\n",
       "      <td>Misc</td>\n",
       "      <td>NaN</td>\n",
       "    </tr>\n",
       "    <tr>\n",
       "      <th>9517</th>\n",
       "      <td>Farming Simulator 2011</td>\n",
       "      <td>PC</td>\n",
       "      <td>Simulation</td>\n",
       "      <td>NaN</td>\n",
       "    </tr>\n",
       "    <tr>\n",
       "      <th>9749</th>\n",
       "      <td>Super Robot Wars OG Saga: Masou Kishin II - Re...</td>\n",
       "      <td>PSP</td>\n",
       "      <td>Strategy</td>\n",
       "      <td>NaN</td>\n",
       "    </tr>\n",
       "    <tr>\n",
       "      <th>10382</th>\n",
       "      <td>Disney Channel Collection Vol. 1</td>\n",
       "      <td>GBA</td>\n",
       "      <td>Misc</td>\n",
       "      <td>NaN</td>\n",
       "    </tr>\n",
       "    <tr>\n",
       "      <th>10494</th>\n",
       "      <td>Atsumare! Power Pro Kun no DS Koushien</td>\n",
       "      <td>DS</td>\n",
       "      <td>Sports</td>\n",
       "      <td>NaN</td>\n",
       "    </tr>\n",
       "    <tr>\n",
       "      <th>11076</th>\n",
       "      <td>Action Man-Operation Extreme</td>\n",
       "      <td>PS</td>\n",
       "      <td>Action</td>\n",
       "      <td>NaN</td>\n",
       "    </tr>\n",
       "    <tr>\n",
       "      <th>11526</th>\n",
       "      <td>Cartoon Network Collection: Game Boy Advance V...</td>\n",
       "      <td>GBA</td>\n",
       "      <td>Misc</td>\n",
       "      <td>NaN</td>\n",
       "    </tr>\n",
       "    <tr>\n",
       "      <th>12487</th>\n",
       "      <td>Chou Soujuu Mecha MG</td>\n",
       "      <td>DS</td>\n",
       "      <td>Simulation</td>\n",
       "      <td>NaN</td>\n",
       "    </tr>\n",
       "    <tr>\n",
       "      <th>12517</th>\n",
       "      <td>Prinny: Can I Really Be The Hero? (US sales)</td>\n",
       "      <td>PSP</td>\n",
       "      <td>Action</td>\n",
       "      <td>NaN</td>\n",
       "    </tr>\n",
       "    <tr>\n",
       "      <th>13278</th>\n",
       "      <td>Monster Hunter Frontier Online</td>\n",
       "      <td>PS3</td>\n",
       "      <td>Role-Playing</td>\n",
       "      <td>NaN</td>\n",
       "    </tr>\n",
       "    <tr>\n",
       "      <th>13672</th>\n",
       "      <td>B.L.U.E.: Legend of Water</td>\n",
       "      <td>PS</td>\n",
       "      <td>Adventure</td>\n",
       "      <td>NaN</td>\n",
       "    </tr>\n",
       "    <tr>\n",
       "      <th>13962</th>\n",
       "      <td>World of Tanks</td>\n",
       "      <td>X360</td>\n",
       "      <td>Shooter</td>\n",
       "      <td>NaN</td>\n",
       "    </tr>\n",
       "    <tr>\n",
       "      <th>14087</th>\n",
       "      <td>Housekeeping</td>\n",
       "      <td>DS</td>\n",
       "      <td>Action</td>\n",
       "      <td>NaN</td>\n",
       "    </tr>\n",
       "    <tr>\n",
       "      <th>14296</th>\n",
       "      <td>Bikkuriman Daijiten</td>\n",
       "      <td>DS</td>\n",
       "      <td>Misc</td>\n",
       "      <td>NaN</td>\n",
       "    </tr>\n",
       "    <tr>\n",
       "      <th>14311</th>\n",
       "      <td>Silverlicious</td>\n",
       "      <td>DS</td>\n",
       "      <td>Action</td>\n",
       "      <td>NaN</td>\n",
       "    </tr>\n",
       "    <tr>\n",
       "      <th>14698</th>\n",
       "      <td>UK Truck Simulator</td>\n",
       "      <td>PC</td>\n",
       "      <td>Simulation</td>\n",
       "      <td>NaN</td>\n",
       "    </tr>\n",
       "    <tr>\n",
       "      <th>14942</th>\n",
       "      <td>Umineko no Naku Koro ni San: Shinjitsu to Gens...</td>\n",
       "      <td>PS3</td>\n",
       "      <td>Adventure</td>\n",
       "      <td>NaN</td>\n",
       "    </tr>\n",
       "    <tr>\n",
       "      <th>15056</th>\n",
       "      <td>Xia-Xia</td>\n",
       "      <td>DS</td>\n",
       "      <td>Platform</td>\n",
       "      <td>NaN</td>\n",
       "    </tr>\n",
       "    <tr>\n",
       "      <th>15261</th>\n",
       "      <td>Mario Tennis</td>\n",
       "      <td>3DS</td>\n",
       "      <td>Sports</td>\n",
       "      <td>NaN</td>\n",
       "    </tr>\n",
       "    <tr>\n",
       "      <th>15325</th>\n",
       "      <td>Nicktoons Collection: Game Boy Advance Video V...</td>\n",
       "      <td>GBA</td>\n",
       "      <td>Misc</td>\n",
       "      <td>NaN</td>\n",
       "    </tr>\n",
       "    <tr>\n",
       "      <th>15353</th>\n",
       "      <td>Demolition Company: Gold Edition</td>\n",
       "      <td>PC</td>\n",
       "      <td>Simulation</td>\n",
       "      <td>NaN</td>\n",
       "    </tr>\n",
       "    <tr>\n",
       "      <th>15788</th>\n",
       "      <td>Moshi, Kono Sekai ni Kami-sama ga Iru to suru ...</td>\n",
       "      <td>PSV</td>\n",
       "      <td>Adventure</td>\n",
       "      <td>NaN</td>\n",
       "    </tr>\n",
       "    <tr>\n",
       "      <th>15915</th>\n",
       "      <td>Dream Dancer</td>\n",
       "      <td>DS</td>\n",
       "      <td>Misc</td>\n",
       "      <td>NaN</td>\n",
       "    </tr>\n",
       "    <tr>\n",
       "      <th>16191</th>\n",
       "      <td>Homeworld Remastered Collection</td>\n",
       "      <td>PC</td>\n",
       "      <td>Strategy</td>\n",
       "      <td>NaN</td>\n",
       "    </tr>\n",
       "    <tr>\n",
       "      <th>16198</th>\n",
       "      <td>AKB1/48: Idol to Guam de Koishitara...</td>\n",
       "      <td>X360</td>\n",
       "      <td>Misc</td>\n",
       "      <td>NaN</td>\n",
       "    </tr>\n",
       "    <tr>\n",
       "      <th>16208</th>\n",
       "      <td>Super Robot Monkey Team: Game Boy Advance Vide...</td>\n",
       "      <td>GBA</td>\n",
       "      <td>Misc</td>\n",
       "      <td>NaN</td>\n",
       "    </tr>\n",
       "    <tr>\n",
       "      <th>16229</th>\n",
       "      <td>Brothers in Arms: Furious 4</td>\n",
       "      <td>X360</td>\n",
       "      <td>Shooter</td>\n",
       "      <td>NaN</td>\n",
       "    </tr>\n",
       "    <tr>\n",
       "      <th>16367</th>\n",
       "      <td>Dance with Devils</td>\n",
       "      <td>PSV</td>\n",
       "      <td>Action</td>\n",
       "      <td>NaN</td>\n",
       "    </tr>\n",
       "    <tr>\n",
       "      <th>16494</th>\n",
       "      <td>Legends of Oz: Dorothy's Return</td>\n",
       "      <td>3DS</td>\n",
       "      <td>Puzzle</td>\n",
       "      <td>NaN</td>\n",
       "    </tr>\n",
       "    <tr>\n",
       "      <th>16543</th>\n",
       "      <td>Driving Simulator 2011</td>\n",
       "      <td>PC</td>\n",
       "      <td>Racing</td>\n",
       "      <td>NaN</td>\n",
       "    </tr>\n",
       "    <tr>\n",
       "      <th>16553</th>\n",
       "      <td>Bound By Flame</td>\n",
       "      <td>X360</td>\n",
       "      <td>Role-Playing</td>\n",
       "      <td>NaN</td>\n",
       "    </tr>\n",
       "  </tbody>\n",
       "</table>\n",
       "</div>"
      ],
      "text/plain": [
       "                                                    Name Platform  \\\n",
       "470                           wwe Smackdown vs. Raw 2006      PS2   \n",
       "1303                                      Triple Play 99       PS   \n",
       "1662        Shrek / Shrek 2 2-in-1 Gameboy Advance Video      GBA   \n",
       "2222                                  Bentley's Hackpack      GBA   \n",
       "3159   Nicktoons Collection: Game Boy Advance Video V...      GBA   \n",
       "3166   SpongeBob SquarePants: Game Boy Advance Video ...      GBA   \n",
       "3766   SpongeBob SquarePants: Game Boy Advance Video ...      GBA   \n",
       "4145                                  Sonic the Hedgehog      PS3   \n",
       "4526   The Fairly Odd Parents: Game Boy Advance Video...      GBA   \n",
       "4635   The Fairly Odd Parents: Game Boy Advance Video...      GBA   \n",
       "5302       Dragon Ball Z: Budokai Tenkaichi 2 (JP sales)      Wii   \n",
       "5647   Cartoon Network Collection: Game Boy Advance V...      GBA   \n",
       "6272   The Legend of Zelda: The Minish Cap(weekly JP ...      GBA   \n",
       "6437            Sonic X: Game Boy Advance Video Volume 1      GBA   \n",
       "6562   Dora the Explorer: Game Boy Advance Video Volu...      GBA   \n",
       "6648   Cartoon Network Collection: Game Boy Advance V...      GBA   \n",
       "6849      All Grown Up!: Game Boy Advance Video Volume 1      GBA   \n",
       "7208   Nicktoons Collection: Game Boy Advance Video V...      GBA   \n",
       "7351                      Yu Yu Hakusho: Dark Tournament      PS2   \n",
       "7470   SpongeBob SquarePants: Game Boy Advance Video ...      GBA   \n",
       "7953                    Thomas the Tank Engine & Friends      GBA   \n",
       "8330     Dragon Ball GT: Game Boy Advance Video Volume 1      GBA   \n",
       "8341   Codename: Kids Next Door: Game Boy Advance Vid...      GBA   \n",
       "8368   Teenage Mutant Ninja Turtles: Game Boy Advance...      GBA   \n",
       "8503                                        Stronghold 3       PC   \n",
       "8770   Cartoon Network Collection: Game Boy Advance V...      GBA   \n",
       "8848   Pokémon: Johto Photo Finish: Game Boy Advance ...      GBA   \n",
       "8896   Strawberry Shortcake: Game Boy Advance Video V...      GBA   \n",
       "9517                              Farming Simulator 2011       PC   \n",
       "9749   Super Robot Wars OG Saga: Masou Kishin II - Re...      PSP   \n",
       "10382                   Disney Channel Collection Vol. 1      GBA   \n",
       "10494             Atsumare! Power Pro Kun no DS Koushien       DS   \n",
       "11076                       Action Man-Operation Extreme       PS   \n",
       "11526  Cartoon Network Collection: Game Boy Advance V...      GBA   \n",
       "12487                               Chou Soujuu Mecha MG       DS   \n",
       "12517       Prinny: Can I Really Be The Hero? (US sales)      PSP   \n",
       "13278                     Monster Hunter Frontier Online      PS3   \n",
       "13672                          B.L.U.E.: Legend of Water       PS   \n",
       "13962                                     World of Tanks     X360   \n",
       "14087                                       Housekeeping       DS   \n",
       "14296                                Bikkuriman Daijiten       DS   \n",
       "14311                                      Silverlicious       DS   \n",
       "14698                                 UK Truck Simulator       PC   \n",
       "14942  Umineko no Naku Koro ni San: Shinjitsu to Gens...      PS3   \n",
       "15056                                            Xia-Xia       DS   \n",
       "15261                                       Mario Tennis      3DS   \n",
       "15325  Nicktoons Collection: Game Boy Advance Video V...      GBA   \n",
       "15353                   Demolition Company: Gold Edition       PC   \n",
       "15788  Moshi, Kono Sekai ni Kami-sama ga Iru to suru ...      PSV   \n",
       "15915                                       Dream Dancer       DS   \n",
       "16191                    Homeworld Remastered Collection       PC   \n",
       "16198             AKB1/48: Idol to Guam de Koishitara...     X360   \n",
       "16208  Super Robot Monkey Team: Game Boy Advance Vide...      GBA   \n",
       "16229                        Brothers in Arms: Furious 4     X360   \n",
       "16367                                  Dance with Devils      PSV   \n",
       "16494                    Legends of Oz: Dorothy's Return      3DS   \n",
       "16543                             Driving Simulator 2011       PC   \n",
       "16553                                     Bound By Flame     X360   \n",
       "\n",
       "              Genre Publisher  \n",
       "470        Fighting       NaN  \n",
       "1303         Sports       NaN  \n",
       "1662           Misc       NaN  \n",
       "2222           Misc       NaN  \n",
       "3159           Misc       NaN  \n",
       "3166           Misc       NaN  \n",
       "3766           Misc       NaN  \n",
       "4145       Platform       NaN  \n",
       "4526           Misc       NaN  \n",
       "4635           Misc       NaN  \n",
       "5302         Action       NaN  \n",
       "5647           Misc       NaN  \n",
       "6272         Action       NaN  \n",
       "6437           Misc       NaN  \n",
       "6562           Misc       NaN  \n",
       "6648           Misc       NaN  \n",
       "6849           Misc       NaN  \n",
       "7208           Misc       NaN  \n",
       "7351       Fighting       NaN  \n",
       "7470           Misc       NaN  \n",
       "7953      Adventure       NaN  \n",
       "8330           Misc       NaN  \n",
       "8341           Misc       NaN  \n",
       "8368           Misc       NaN  \n",
       "8503       Strategy       NaN  \n",
       "8770           Misc       NaN  \n",
       "8848           Misc       NaN  \n",
       "8896           Misc       NaN  \n",
       "9517     Simulation       NaN  \n",
       "9749       Strategy       NaN  \n",
       "10382          Misc       NaN  \n",
       "10494        Sports       NaN  \n",
       "11076        Action       NaN  \n",
       "11526          Misc       NaN  \n",
       "12487    Simulation       NaN  \n",
       "12517        Action       NaN  \n",
       "13278  Role-Playing       NaN  \n",
       "13672     Adventure       NaN  \n",
       "13962       Shooter       NaN  \n",
       "14087        Action       NaN  \n",
       "14296          Misc       NaN  \n",
       "14311        Action       NaN  \n",
       "14698    Simulation       NaN  \n",
       "14942     Adventure       NaN  \n",
       "15056      Platform       NaN  \n",
       "15261        Sports       NaN  \n",
       "15325          Misc       NaN  \n",
       "15353    Simulation       NaN  \n",
       "15788     Adventure       NaN  \n",
       "15915          Misc       NaN  \n",
       "16191      Strategy       NaN  \n",
       "16198          Misc       NaN  \n",
       "16208          Misc       NaN  \n",
       "16229       Shooter       NaN  \n",
       "16367        Action       NaN  \n",
       "16494        Puzzle       NaN  \n",
       "16543        Racing       NaN  \n",
       "16553  Role-Playing       NaN  "
      ]
     },
     "execution_count": 232,
     "metadata": {},
     "output_type": "execute_result"
    }
   ],
   "source": [
    "df[df.isna().any(axis=1)]"
   ]
  },
  {
   "cell_type": "markdown",
   "metadata": {},
   "source": [
    "I will remove entries that have 'Game Boy Advance Video Volume' in the name and a null value in the Publisher column because these are actually TV shows that were sold to be played on the Game Boy console, not actual games."
   ]
  },
  {
   "cell_type": "code",
   "execution_count": 233,
   "metadata": {},
   "outputs": [
    {
     "data": {
      "text/plain": [
       "array(['Wii', 'NES', 'GB', 'DS', 'X360', 'PS3', 'PS2', 'SNES', 'GBA',\n",
       "       '3DS', 'PS4', 'N64', 'PS', 'XB', 'PC', '2600', 'PSP', 'XOne', 'GC',\n",
       "       'WiiU', 'GEN', 'DC', 'PSV', 'SAT', 'SCD', 'WS', 'NG', 'TG16',\n",
       "       '3DO', 'GG', 'PCFX'], dtype=object)"
      ]
     },
     "execution_count": 233,
     "metadata": {},
     "output_type": "execute_result"
    }
   ],
   "source": [
    "df['Platform'].unique()"
   ]
  },
  {
   "cell_type": "markdown",
   "metadata": {},
   "source": [
    "## Data Preparation"
   ]
  },
  {
   "cell_type": "code",
   "execution_count": 234,
   "metadata": {},
   "outputs": [],
   "source": [
    "# droping null values\n",
    "df.dropna(inplace=True)"
   ]
  },
  {
   "cell_type": "markdown",
   "metadata": {},
   "source": [
    "By converting all game titles to lowercase, the system can avoid errors that might occur if the user inputs a title with a different case format. This is because comparisons between strings are case-sensitive, so \"Super Mario Bros.\" and \"super mario bros.\" would be treated as two different strings. i will convert all titles to lowercase so they will match regardless of the case"
   ]
  },
  {
   "cell_type": "code",
   "execution_count": 235,
   "metadata": {},
   "outputs": [],
   "source": [
    "# setting all game titles to lowercase\n",
    "df['Name'] = df['Name'].apply(str.lower)"
   ]
  },
  {
   "cell_type": "markdown",
   "metadata": {},
   "source": [
    "CountVectorizer is a tool from the scikit-learn library in Python that can be used to convert a collection of text documents to a matrix of token counts, documentation [here](https://scikit-learn.org/stable/modules/generated/sklearn.feature_extraction.text.CountVectorizer.html)"
   ]
  },
  {
   "cell_type": "code",
   "execution_count": 257,
   "metadata": {},
   "outputs": [],
   "source": [
    "# Combining features to fit into CountVectorizer\n",
    "def combined_features(row):\n",
    "    return row['Platform']+\" \"+row['Genre']+\" \"+row['Publisher']\n",
    "df[\"combined_features\"] = df.apply(combined_features, axis =1)"
   ]
  },
  {
   "cell_type": "code",
   "execution_count": 258,
   "metadata": {},
   "outputs": [
    {
     "data": {
      "text/plain": [
       "0             Wii Sports Nintendo\n",
       "1           NES Platform Nintendo\n",
       "2             Wii Racing Nintendo\n",
       "3             Wii Sports Nintendo\n",
       "4        GB Role-Playing Nintendo\n",
       "                   ...           \n",
       "16593          GBA Platform Kemco\n",
       "16594       GC Shooter Infogrames\n",
       "16595       PS2 Racing Activision\n",
       "16596          DS Puzzle 7G//AMES\n",
       "16597        GBA Platform Wanadoo\n",
       "Name: combined_features, Length: 16540, dtype: object"
      ]
     },
     "execution_count": 258,
     "metadata": {},
     "output_type": "execute_result"
    }
   ],
   "source": [
    "df[\"combined_features\"]"
   ]
  },
  {
   "cell_type": "code",
   "execution_count": 259,
   "metadata": {
    "scrolled": true
   },
   "outputs": [
    {
     "data": {
      "text/plain": [
       "array([[0, 0, 0, ..., 0, 0, 0],\n",
       "       [0, 0, 0, ..., 0, 0, 0],\n",
       "       [0, 0, 0, ..., 0, 0, 0],\n",
       "       ...,\n",
       "       [0, 0, 0, ..., 0, 0, 0],\n",
       "       [0, 0, 0, ..., 0, 0, 0],\n",
       "       [0, 0, 0, ..., 0, 0, 0]])"
      ]
     },
     "execution_count": 259,
     "metadata": {},
     "output_type": "execute_result"
    }
   ],
   "source": [
    "cv = CountVectorizer()\n",
    "c_matrix = cv.fit_transform(df[\"combined_features\"])\n",
    "c_matrix.toarray()"
   ]
  },
  {
   "cell_type": "markdown",
   "metadata": {},
   "source": [
    "CountVectorizer counts the number of times each word in the vocabulary appears in the document and stores the count in a matrix."
   ]
  },
  {
   "cell_type": "markdown",
   "metadata": {},
   "source": [
    "# Cosine similarity"
   ]
  },
  {
   "cell_type": "markdown",
   "metadata": {},
   "source": [
    "Cosine similarity is a measure of similarity between two non-zero vectors in an inner product space. It calculates the cosine of the angle between the vectors by dividing the dot product of the vectors by the product of their magnitudes. The closer the result is to 1, the more similar the two vectors are.\n",
    "\n",
    "I use cosine similarity to compare the vectors representing each game in the dataset and calculate the similarity score between them. These scores are calculated for every combination of games in the dataset."
   ]
  },
  {
   "cell_type": "code",
   "execution_count": 260,
   "metadata": {},
   "outputs": [],
   "source": [
    "cosine_sim = cosine_similarity(c_matrix)"
   ]
  },
  {
   "cell_type": "code",
   "execution_count": 261,
   "metadata": {},
   "outputs": [
    {
     "name": "stdout",
     "output_type": "stream",
     "text": [
      "A game you like: pokemon red/pokemon blue\n",
      "Number of recommendations? 5\n"
     ]
    }
   ],
   "source": [
    "# Use title of games liked by user and desired number of recommendations as input for the system\n",
    "game_liked = str.lower(input('A game you like: '))\n",
    "nRec2 = int(input('Number of recommendations? '))"
   ]
  },
  {
   "cell_type": "code",
   "execution_count": 262,
   "metadata": {
    "scrolled": true
   },
   "outputs": [
    {
     "data": {
      "text/plain": [
       "['pokemon gold/pokemon silver',\n",
       " 'pokémon yellow: special pikachu edition',\n",
       " 'pokémon crystal version',\n",
       " 'hamtaro: ham-hams unite!',\n",
       " 'pokemon diamond/pokemon pearl']"
      ]
     },
     "execution_count": 262,
     "metadata": {},
     "output_type": "execute_result"
    }
   ],
   "source": [
    "liked_game_index = df[df.Name == game_liked].index.values[0]\n",
    "\n",
    "#sorting cosine similarities by highest to lowest\n",
    "sim_scores = list(enumerate(cosine_sim[liked_game_index]))\n",
    "sim_scores = sorted(sim_scores, key=lambda x: x[1], reverse=True)\n",
    "\n",
    "#matching the similarities to the game title\n",
    "sim_games = []\n",
    "for i in range(1, nRec2+1):\n",
    "    game_index = sim_scores[i][0]\n",
    "    sim_games.append(df['Name'].iloc[game_index])\n",
    "    \n",
    "sim_games"
   ]
  },
  {
   "cell_type": "markdown",
   "metadata": {},
   "source": [
    "Similar to my collaborative filtering system, i will use matplotlib to create a figure object and return it with the games names on it. This figure can then be displayed to the user as a visual outcome of the recommendation."
   ]
  },
  {
   "cell_type": "code",
   "execution_count": 271,
   "metadata": {},
   "outputs": [
    {
     "data": {
      "image/png": "[encoded data removed]",
      "text/plain": [
       "<Figure size 1500x300 with 1 Axes>"
      ]
     },
     "metadata": {},
     "output_type": "display_data"
    }
   ],
   "source": [
    "#creating fig to display dataframe\n",
    "fig = plt.figure(figsize=(15,3))\n",
    "font_size=10\n",
    "\n",
    "#creating new daframe using sim_games list\n",
    "p_df = pd.DataFrame(sim_games, columns=(['Recommended Games']))\n",
    "\n",
    "#Returning games recommended to user \n",
    "ax1 = fig.add_subplot(121)\n",
    "bbox=[0, 0, 1, 1]\n",
    "ax1.axis('off')\n",
    "mpl_table1 = ax1.table(cellText = p_df.values, rowLabels = p_df.index, bbox=bbox, colLabels=p_df.columns, colColours='blue')\n",
    "mpl_table1.auto_set_font_size(False)\n",
    "mpl_table1.set_fontsize(font_size)\n"
   ]
  },
  {
   "cell_type": "markdown",
   "metadata": {},
   "source": [
    "### Recommender function"
   ]
  },
  {
   "cell_type": "code",
   "execution_count": 272,
   "metadata": {},
   "outputs": [],
   "source": [
    "def Get_game():\n",
    "    game_liked = str.lower(input('A game you like: '))\n",
    "    nRec2 = int(input('Number of recommendations? '))\n",
    "    \n",
    "    liked_game_index = df[df.Name == game_liked].index.values[0]\n",
    "\n",
    "\n",
    "    sim_scores = list(enumerate(cosine_sim[liked_game_index]))\n",
    "    sim_scores = sorted(sim_scores, key=lambda x: x[1], reverse=True)\n",
    "\n",
    "\n",
    "    sim_games = []\n",
    "    for i in range(1, nRec2+1):\n",
    "        game_index = sim_scores[i][0]\n",
    "        sim_games.append(df['Name'].iloc[game_index])\n",
    "    \n",
    "    \n",
    "    fig = plt.figure(figsize=(15,3))\n",
    "    font_size=10\n",
    "\n",
    "    p_df = pd.DataFrame(sim_games, columns=(['Recommended Games']))\n",
    "\n",
    "    ax1 = fig.add_subplot(121)\n",
    "    bbox=[0, 0, 1, 1]\n",
    "    ax1.axis('off')\n",
    "    mpl_table1 = ax1.table(cellText = p_df.values, rowLabels = p_df.index, bbox=bbox, colLabels=p_df.columns, colColours='blue')\n",
    "    mpl_table1.auto_set_font_size(False)\n",
    "    mpl_table1.set_fontsize(font_size)"
   ]
  },
  {
   "cell_type": "markdown",
   "metadata": {},
   "source": [
    "**Testing function**"
   ]
  },
  {
   "cell_type": "code",
   "execution_count": 279,
   "metadata": {},
   "outputs": [
    {
     "data": {
      "text/plain": [
       "array(['n3 ii: ninety-nine nights',\n",
       "       'metal gear solid 4: guns of the patriots', '1001 touch games'],\n",
       "      dtype=object)"
      ]
     },
     "execution_count": 279,
     "metadata": {},
     "output_type": "execute_result"
    }
   ],
   "source": [
    "# getting random sample of game titles\n",
    "game_sample = df.sample(3)\n",
    "game_sample['Name'].values"
   ]
  },
  {
   "cell_type": "code",
   "execution_count": 275,
   "metadata": {},
   "outputs": [
    {
     "name": "stdout",
     "output_type": "stream",
     "text": [
      "A game you like: power rangers samurai\n",
      "Number of recommendations? 3\n"
     ]
    },
    {
     "data": {
      "image/png": "[encoded data removed]",
      "text/plain": [
       "<Figure size 1500x300 with 1 Axes>"
      ]
     },
     "metadata": {},
     "output_type": "display_data"
    }
   ],
   "source": [
    "Get_game()"
   ]
  },
  {
   "cell_type": "code",
   "execution_count": 281,
   "metadata": {
    "scrolled": false
   },
   "outputs": [
    {
     "name": "stdout",
     "output_type": "stream",
     "text": [
      "A game you like: metal gear solid 4: guns of the patriots\n",
      "Number of recommendations? 5\n"
     ]
    },
    {
     "data": {
      "image/png": "[encoded data removed]",
      "text/plain": [
       "<Figure size 1500x300 with 1 Axes>"
      ]
     },
     "metadata": {},
     "output_type": "display_data"
    }
   ],
   "source": [
    "Get_game()"
   ]
  },
  {
   "cell_type": "markdown",
   "metadata": {},
   "source": [
    "## Conclusion "
   ]
  },
  {
   "cell_type": "markdown",
   "metadata": {},
   "source": [
    "### Resources:\n",
    "https://scikit-learn.org/stable/modules/generated/sklearn.metrics.pairwise.cosine_similarity.html\n",
    "https://towardsdatascience.com/using-cosine-similarity-to-build-a-movie-recommendation-system-ae7f20842599\n",
    "https://scikit-learn.org/stable/modules/generated/sklearn.feature_extraction.text.CountVectorizer.html\n"
   ]
  },
  {
   "cell_type": "code",
   "execution_count": null,
   "metadata": {},
   "outputs": [],
   "source": []
  }
 ],
 "metadata": {
  "kernelspec": {
   "display_name": "rec_sys",
   "language": "python",
   "name": "rec_sys"
  },
  "language_info": {
   "codemirror_mode": {
    "name": "ipython",
    "version": 3
   },
   "file_extension": ".py",
   "mimetype": "text/x-python",
   "name": "python",
   "nbconvert_exporter": "python",
   "pygments_lexer": "ipython3",
   "version": "3.10.8"
  }
 },
 "nbformat": 4,
 "nbformat_minor": 4
}
