{
 "cells": [
  {
   "cell_type": "code",
   "execution_count": 24,
   "metadata": {},
   "outputs": [],
   "source": [
    "import pandas as pd\n",
    "import numpy as np\n",
    "import matplotlib.pyplot as plt\n",
    "import seaborn as sns\n",
    "%matplotlib inline"
   ]
  },
  {
   "cell_type": "code",
   "execution_count": 25,
   "metadata": {},
   "outputs": [],
   "source": [
    "df = pd.read_csv('./data/full_game.csv')"
   ]
  },
  {
   "cell_type": "markdown",
   "metadata": {},
   "source": [
    "## Data understanding\n",
    "\n",
    "https://www.reddit.com/r/datasets/comments/2awdgx/i_made_this_dataset_of_all_of_igns_game_reviews/\n",
    "last updated 8years ago\n"
   ]
  },
  {
   "cell_type": "code",
   "execution_count": 26,
   "metadata": {
    "scrolled": true
   },
   "outputs": [
    {
     "data": {
      "text/html": [
       "<div>\n",
       "<style scoped>\n",
       "    .dataframe tbody tr th:only-of-type {\n",
       "        vertical-align: middle;\n",
       "    }\n",
       "\n",
       "    .dataframe tbody tr th {\n",
       "        vertical-align: top;\n",
       "    }\n",
       "\n",
       "    .dataframe thead th {\n",
       "        text-align: right;\n",
       "    }\n",
       "</style>\n",
       "<table border=\"1\" class=\"dataframe\">\n",
       "  <thead>\n",
       "    <tr style=\"text-align: right;\">\n",
       "      <th></th>\n",
       "      <th>Game</th>\n",
       "      <th>Platform</th>\n",
       "      <th>Score</th>\n",
       "      <th>Genre</th>\n",
       "      <th>Unnamed: 4</th>\n",
       "    </tr>\n",
       "  </thead>\n",
       "  <tbody>\n",
       "    <tr>\n",
       "      <th>0</th>\n",
       "      <td>Wolfenstein: The New Order</td>\n",
       "      <td>Xbox One</td>\n",
       "      <td>7.8</td>\n",
       "      <td>Shooter</td>\n",
       "      <td>NaN</td>\n",
       "    </tr>\n",
       "    <tr>\n",
       "      <th>1</th>\n",
       "      <td>Mario Kart 8</td>\n",
       "      <td>Wii U</td>\n",
       "      <td>9.0</td>\n",
       "      <td>Racing, Action</td>\n",
       "      <td>NaN</td>\n",
       "    </tr>\n",
       "    <tr>\n",
       "      <th>2</th>\n",
       "      <td>Sportsfriends</td>\n",
       "      <td>PlayStation 3</td>\n",
       "      <td>8.7</td>\n",
       "      <td>Action, Compilation</td>\n",
       "      <td>NaN</td>\n",
       "    </tr>\n",
       "    <tr>\n",
       "      <th>3</th>\n",
       "      <td>Sportsfriends</td>\n",
       "      <td>PlayStation 4</td>\n",
       "      <td>8.7</td>\n",
       "      <td>Action, Compilation</td>\n",
       "      <td>NaN</td>\n",
       "    </tr>\n",
       "    <tr>\n",
       "      <th>4</th>\n",
       "      <td>Sportsfriends</td>\n",
       "      <td>PC</td>\n",
       "      <td>8.7</td>\n",
       "      <td>Action, Compilation</td>\n",
       "      <td>NaN</td>\n",
       "    </tr>\n",
       "    <tr>\n",
       "      <th>...</th>\n",
       "      <td>...</td>\n",
       "      <td>...</td>\n",
       "      <td>...</td>\n",
       "      <td>...</td>\n",
       "      <td>...</td>\n",
       "    </tr>\n",
       "    <tr>\n",
       "      <th>17529</th>\n",
       "      <td>Batman Forever: The Arcade Game</td>\n",
       "      <td>PlayStation</td>\n",
       "      <td>5.0</td>\n",
       "      <td>Action</td>\n",
       "      <td>NaN</td>\n",
       "    </tr>\n",
       "    <tr>\n",
       "      <th>17530</th>\n",
       "      <td>Pilotwings 64</td>\n",
       "      <td>Nintendo 64</td>\n",
       "      <td>8.2</td>\n",
       "      <td>Flight</td>\n",
       "      <td>NaN</td>\n",
       "    </tr>\n",
       "    <tr>\n",
       "      <th>17531</th>\n",
       "      <td>Super Mario 64</td>\n",
       "      <td>Nintendo 64</td>\n",
       "      <td>9.8</td>\n",
       "      <td>Platformer</td>\n",
       "      <td>NaN</td>\n",
       "    </tr>\n",
       "    <tr>\n",
       "      <th>17532</th>\n",
       "      <td>Baku Baku</td>\n",
       "      <td>Saturn</td>\n",
       "      <td>7.0</td>\n",
       "      <td>Puzzle</td>\n",
       "      <td>NaN</td>\n",
       "    </tr>\n",
       "    <tr>\n",
       "      <th>17533</th>\n",
       "      <td>The Walking Dead: The Game -- Episode 1: A New...</td>\n",
       "      <td>Xbox 360</td>\n",
       "      <td>8.5</td>\n",
       "      <td>Adventure</td>\n",
       "      <td>NaN</td>\n",
       "    </tr>\n",
       "  </tbody>\n",
       "</table>\n",
       "<p>17534 rows × 5 columns</p>\n",
       "</div>"
      ],
      "text/plain": [
       "                                                    Game       Platform  \\\n",
       "0                             Wolfenstein: The New Order       Xbox One   \n",
       "1                                           Mario Kart 8          Wii U   \n",
       "2                                          Sportsfriends  PlayStation 3   \n",
       "3                                          Sportsfriends  PlayStation 4   \n",
       "4                                          Sportsfriends             PC   \n",
       "...                                                  ...            ...   \n",
       "17529                    Batman Forever: The Arcade Game    PlayStation   \n",
       "17530                                      Pilotwings 64    Nintendo 64   \n",
       "17531                                     Super Mario 64    Nintendo 64   \n",
       "17532                                          Baku Baku         Saturn   \n",
       "17533  The Walking Dead: The Game -- Episode 1: A New...       Xbox 360   \n",
       "\n",
       "       Score                Genre  Unnamed: 4  \n",
       "0        7.8              Shooter         NaN  \n",
       "1        9.0       Racing, Action         NaN  \n",
       "2        8.7  Action, Compilation         NaN  \n",
       "3        8.7  Action, Compilation         NaN  \n",
       "4        8.7  Action, Compilation         NaN  \n",
       "...      ...                  ...         ...  \n",
       "17529    5.0               Action         NaN  \n",
       "17530    8.2               Flight         NaN  \n",
       "17531    9.8           Platformer         NaN  \n",
       "17532    7.0               Puzzle         NaN  \n",
       "17533    8.5            Adventure         NaN  \n",
       "\n",
       "[17534 rows x 5 columns]"
      ]
     },
     "execution_count": 26,
     "metadata": {},
     "output_type": "execute_result"
    }
   ],
   "source": [
    "meta = pd.read_csv('./data/IGN_data.csv')\n",
    "meta"
   ]
  },
  {
   "cell_type": "code",
   "execution_count": 27,
   "metadata": {},
   "outputs": [],
   "source": [
    "meta.drop(columns='Unnamed: 4', inplace=True)"
   ]
  },
  {
   "cell_type": "code",
   "execution_count": 28,
   "metadata": {},
   "outputs": [
    {
     "data": {
      "text/plain": [
       "12208"
      ]
     },
     "execution_count": 28,
     "metadata": {},
     "output_type": "execute_result"
    }
   ],
   "source": [
    "meta.Game.nunique()"
   ]
  },
  {
   "cell_type": "code",
   "execution_count": 29,
   "metadata": {},
   "outputs": [
    {
     "data": {
      "text/plain": [
       "56"
      ]
     },
     "execution_count": 29,
     "metadata": {},
     "output_type": "execute_result"
    }
   ],
   "source": [
    "meta.Platform.nunique()"
   ]
  },
  {
   "cell_type": "code",
   "execution_count": 30,
   "metadata": {},
   "outputs": [
    {
     "data": {
      "text/plain": [
       "96"
      ]
     },
     "execution_count": 30,
     "metadata": {},
     "output_type": "execute_result"
    }
   ],
   "source": [
    "meta.Genre.nunique()"
   ]
  },
  {
   "cell_type": "markdown",
   "metadata": {},
   "source": [
    "12208 different games, 56 different consoles/platforms, 96 genres"
   ]
  },
  {
   "cell_type": "code",
   "execution_count": 31,
   "metadata": {},
   "outputs": [
    {
     "data": {
      "text/plain": [
       "0             Xbox One\n",
       "1                Wii U\n",
       "2        PlayStation 3\n",
       "3        PlayStation 4\n",
       "4                   PC\n",
       "5             Xbox One\n",
       "6             Xbox 360\n",
       "7                   PC\n",
       "8     PlayStation Vita\n",
       "9                   PC\n",
       "10       PlayStation 4\n",
       "11    PlayStation Vita\n",
       "12                  PC\n",
       "13       PlayStation 4\n",
       "14                  PC\n",
       "15       PlayStation 3\n",
       "16              iPhone\n",
       "17                  PC\n",
       "18              iPhone\n",
       "19       PlayStation 4\n",
       "Name: Platform, dtype: object"
      ]
     },
     "execution_count": 31,
     "metadata": {},
     "output_type": "execute_result"
    }
   ],
   "source": [
    "meta['Platform'].head(20)"
   ]
  },
  {
   "cell_type": "markdown",
   "metadata": {},
   "source": [
    "dataset includes phone games too"
   ]
  },
  {
   "cell_type": "code",
   "execution_count": 32,
   "metadata": {},
   "outputs": [
    {
     "data": {
      "text/plain": [
       "PC                      3026\n",
       "PlayStation 2           1683\n",
       "Xbox 360                1582\n",
       "Wii                     1347\n",
       "PlayStation 3           1295\n",
       "Nintendo DS             1040\n",
       "PlayStation              952\n",
       "Wireless                 905\n",
       "Xbox                     822\n",
       "iPhone                   815\n",
       "PlayStation Portable     625\n",
       "Game Boy Advance         620\n",
       "GameCube                 509\n",
       "Game Boy Color           356\n",
       "Nintendo 64              301\n",
       "Dreamcast                286\n",
       "Nintendo DSi             255\n",
       "Nintendo 3DS             173\n",
       "PlayStation Vita         114\n",
       "iPad                      94\n",
       "Lynx                      82\n",
       "Wii U                     78\n",
       "Macintosh                 70\n",
       "Genesis                   58\n",
       "PlayStation 4             47\n",
       "NES                       46\n",
       "TurboGrafx-16             39\n",
       "Xbox One                  35\n",
       "Android                   33\n",
       "NeoGeo Pocket Color       31\n",
       "N-Gage                    30\n",
       "Super NES                 28\n",
       "Game Boy                  22\n",
       "Sega 32X                  18\n",
       "iPod                      16\n",
       "Windows Phone             14\n",
       "Master System             13\n",
       "Arcade                    11\n",
       "NeoGeo                    10\n",
       "Linux                      8\n",
       "Nintendo 64DD              7\n",
       "Saturn                     6\n",
       "Commodore 64/128           6\n",
       "Atari 2600                 5\n",
       "WonderSwan                 4\n",
       "Game.Com                   3\n",
       "TurboGrafx-CD              3\n",
       "Atari 5200                 2\n",
       "Vectrex                    2\n",
       "DVD / HD Video Game        1\n",
       "WonderSwan Color           1\n",
       "Windows Surface            1\n",
       "Pocket PC                  1\n",
       "Sega CD                    1\n",
       "Web Games                  1\n",
       "Dreamcast VMU              1\n",
       "Name: Platform, dtype: int64"
      ]
     },
     "execution_count": 32,
     "metadata": {},
     "output_type": "execute_result"
    }
   ],
   "source": [
    "meta['Platform'].value_counts()"
   ]
  },
  {
   "cell_type": "markdown",
   "metadata": {},
   "source": [
    "i will drop games on the least popular consoles"
   ]
  },
  {
   "cell_type": "markdown",
   "metadata": {},
   "source": [
    "## modeling\n",
    "Cosine Similarity"
   ]
  },
  {
   "cell_type": "code",
   "execution_count": null,
   "metadata": {},
   "outputs": [],
   "source": []
  },
  {
   "cell_type": "code",
   "execution_count": null,
   "metadata": {},
   "outputs": [],
   "source": []
  }
 ],
 "metadata": {
  "kernelspec": {
   "display_name": "rec_sys",
   "language": "python",
   "name": "rec_sys"
  },
  "language_info": {
   "codemirror_mode": {
    "name": "ipython",
    "version": 3
   },
   "file_extension": ".py",
   "mimetype": "text/x-python",
   "name": "python",
   "nbconvert_exporter": "python",
   "pygments_lexer": "ipython3",
   "version": "3.10.8"
  }
 },
 "nbformat": 4,
 "nbformat_minor": 4
}
