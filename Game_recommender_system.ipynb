{
 "cells": [
  {
   "cell_type": "markdown",
   "metadata": {},
   "source": [
    "![cover](./images/cover.jpg) **Author: Juan Acosta**"
   ]
  },
  {
   "cell_type": "markdown",
   "metadata": {},
   "source": [
    "## Business understanding"
   ]
  },
  {
   "cell_type": "markdown",
   "metadata": {},
   "source": [
    "In recent years, the video game industry has seen a significant shift towards digital sales, with a majority of global revenue coming from digital channels. In 2022, it is estimated that over 75% of global video game revenue was generated through digital sales([source](https://www.pushsquare.com/news/2022/07/nearly-80percent-of-all-ps5-ps4-games-are-bought-digitally)), indicating a strong trend towards online purchasing and digital distribution of games. This shift towards digital sales is likely driven by a number of factors, including the increasing prevalence of high-speed internet and the convenience of being able to purchase and download games directly to a device without the need for physical copies. As the video game industry continues to evolve and technology advances, it is likely that digital sales will continue to grow in importance.\n",
    "\n",
    "Video game recommendation systems are useful because they can help players discover new games that they might enjoy based on their past behavior and preferences. In a market where there are thousands of available games, it can be overwhelming for players to go through all of the options and find something that suits their interests. A recommendation system can help narrow down the options and suggest games that are more likely to be of interest to the user. A potential issue with recommender systems on official platform stores for digital games is that they may prioritize promoting newer games that are more profitable for the store, potentially at the expense of recommending older but high-quality games. This can lead to customers missing out on discovering older games that they might enjoy. It is important to be aware of this potential bias and to consider using other sources of recommendations in addition to the official platform store's."
   ]
  },
  {
   "cell_type": "markdown",
   "metadata": {},
   "source": [
    "## motivation"
   ]
  },
  {
   "cell_type": "markdown",
   "metadata": {},
   "source": [
    "## Data understanding"
   ]
  },
  {
   "cell_type": "markdown",
   "metadata": {},
   "source": [
    "To build a recommendation system, I used a dataset containing reviews from over 112,000 customers on more than 7,000 different game titles, for a total of over 140,000 reviews. Using the pandas library in Python, I began by performing exploratory data analysis (EDA) on the dataset, focusing on the columns that would be used as input for the recommendation algorithm. This process involved cleaning and preprocessing the data, identifying any patterns and selecting appropriate features for the model.\n",
    "\n",
    "Amazon reviews dataset on kaggle [here](https://www.kaggle.com/datasets/cynthiarempel/amazon-us-customer-reviews-dataset?select=amazon_reviews_us_Digital_Video_Games_v1_00.tsv)"
   ]
  },
  {
   "cell_type": "code",
   "execution_count": 1,
   "metadata": {},
   "outputs": [],
   "source": [
    "import pandas as pd\n",
    "import numpy as np\n",
    "import matplotlib.pyplot as plt\n",
    "import seaborn as sns\n",
    "%matplotlib inline"
   ]
  },
  {
   "cell_type": "code",
   "execution_count": 2,
   "metadata": {
    "scrolled": false
   },
   "outputs": [
    {
     "name": "stdout",
     "output_type": "stream",
     "text": [
      "<class 'pandas.core.frame.DataFrame'>\n",
      "RangeIndex: 144724 entries, 0 to 144723\n",
      "Data columns (total 15 columns):\n",
      " #   Column             Non-Null Count   Dtype \n",
      "---  ------             --------------   ----- \n",
      " 0   marketplace        144724 non-null  object\n",
      " 1   customer_id        144724 non-null  int64 \n",
      " 2   review_id          144724 non-null  object\n",
      " 3   product_id         144724 non-null  object\n",
      " 4   product_parent     144724 non-null  int64 \n",
      " 5   product_title      144724 non-null  object\n",
      " 6   product_category   144724 non-null  object\n",
      " 7   star_rating        144724 non-null  int64 \n",
      " 8   helpful_votes      144724 non-null  int64 \n",
      " 9   total_votes        144724 non-null  int64 \n",
      " 10  vine               144724 non-null  object\n",
      " 11  verified_purchase  144724 non-null  object\n",
      " 12  review_headline    144722 non-null  object\n",
      " 13  review_body        144722 non-null  object\n",
      " 14  review_date        144721 non-null  object\n",
      "dtypes: int64(5), object(10)\n",
      "memory usage: 16.6+ MB\n"
     ]
    }
   ],
   "source": [
    "df_raw = pd.read_csv('./data/Digital_Video_Games.tsv', sep='\\t', header=0, error_bad_lines=False)\n",
    "df_raw.info()"
   ]
  },
  {
   "cell_type": "code",
   "execution_count": 3,
   "metadata": {},
   "outputs": [
    {
     "data": {
      "text/plain": [
       "marketplace          0\n",
       "customer_id          0\n",
       "review_id            0\n",
       "product_id           0\n",
       "product_parent       0\n",
       "product_title        0\n",
       "product_category     0\n",
       "star_rating          0\n",
       "helpful_votes        0\n",
       "total_votes          0\n",
       "vine                 0\n",
       "verified_purchase    0\n",
       "review_headline      2\n",
       "review_body          2\n",
       "review_date          3\n",
       "dtype: int64"
      ]
     },
     "execution_count": 3,
     "metadata": {},
     "output_type": "execute_result"
    }
   ],
   "source": [
    "df_raw.isna().sum()"
   ]
  },
  {
   "cell_type": "markdown",
   "metadata": {},
   "source": [
    "### Columns\n",
    "- **marketplace**: 2 letter country code of the marketplace where the review was written.\n",
    "- **customer_id**: Random identifier that can be used to aggregate reviews written by a single author.\n",
    "- **review_id**: The unique ID of the review.\n",
    "- **productid**: The unique Product ID the review pertains to. In the multilingual dataset the reviews for the same product in different countries can be grouped by the same productid.\n",
    "- **product_parent**: Random identifier that can be used to aggregate reviews for the same product.\n",
    "- **product_title**: Title of the product.\n",
    "- **product_category**: Broad product category that can be used to group reviews (also used to group the dataset into coherent parts).\n",
    "- **star_rating**: The 1-5 star rating of the review.\n",
    "- **helpful_votes**: Number of helpful votes.\n",
    "- **total_votes**: Number of total votes the review received.\n",
    "- **vine**: Review was written as part of the Vine program.\n",
    "- **verified_purchase**: The review is on a verified purchase.\n",
    "- **review_headline**: The title of the review.\n",
    "- **review_body**: The review text.\n",
    "- **review_date**: The date the review was written."
   ]
  },
  {
   "cell_type": "code",
   "execution_count": 4,
   "metadata": {},
   "outputs": [
    {
     "data": {
      "text/plain": [
       "array(['US'], dtype=object)"
      ]
     },
     "execution_count": 4,
     "metadata": {},
     "output_type": "execute_result"
    }
   ],
   "source": [
    "df_raw['marketplace'].unique()"
   ]
  },
  {
   "cell_type": "markdown",
   "metadata": {},
   "source": [
    "All reviews in dataset are from US customers"
   ]
  },
  {
   "cell_type": "code",
   "execution_count": 5,
   "metadata": {},
   "outputs": [
    {
     "data": {
      "text/plain": [
       "112891"
      ]
     },
     "execution_count": 5,
     "metadata": {},
     "output_type": "execute_result"
    }
   ],
   "source": [
    "df_raw['customer_id'].nunique()"
   ]
  },
  {
   "cell_type": "markdown",
   "metadata": {},
   "source": [
    "112891 different customers "
   ]
  },
  {
   "cell_type": "code",
   "execution_count": 6,
   "metadata": {},
   "outputs": [
    {
     "data": {
      "text/plain": [
       "144724"
      ]
     },
     "execution_count": 6,
     "metadata": {},
     "output_type": "execute_result"
    }
   ],
   "source": [
    "df_raw['review_id'].nunique()"
   ]
  },
  {
   "cell_type": "markdown",
   "metadata": {},
   "source": [
    "Seems like there are no duplicate reviews in the set"
   ]
  },
  {
   "cell_type": "code",
   "execution_count": 7,
   "metadata": {},
   "outputs": [
    {
     "data": {
      "text/plain": [
       "7939"
      ]
     },
     "execution_count": 7,
     "metadata": {},
     "output_type": "execute_result"
    }
   ],
   "source": [
    "df_raw['product_id'].nunique()"
   ]
  },
  {
   "cell_type": "markdown",
   "metadata": {},
   "source": [
    "7939 different products, but not all video games, found \"Playstation Plus Subscription\" in row 3, so all digitally sold products related video games, like subscriptions, seem to be included in the data set, will further look for other kind of product other than games and drop those."
   ]
  },
  {
   "cell_type": "code",
   "execution_count": 8,
   "metadata": {},
   "outputs": [
    {
     "data": {
      "text/plain": [
       "7755"
      ]
     },
     "execution_count": 8,
     "metadata": {},
     "output_type": "execute_result"
    }
   ],
   "source": [
    "df_raw['product_parent'].nunique()"
   ]
  },
  {
   "cell_type": "markdown",
   "metadata": {},
   "source": [
    "- **product_parent**: Random identifier that can be used to aggregate reviews for the same product.\n",
    "\n",
    "seems like just another id but we have about 200 less data points in this column than product id"
   ]
  },
  {
   "cell_type": "code",
   "execution_count": 9,
   "metadata": {},
   "outputs": [
    {
     "data": {
      "text/plain": [
       "6946"
      ]
     },
     "execution_count": 9,
     "metadata": {},
     "output_type": "execute_result"
    }
   ],
   "source": [
    "df_raw['product_title'].nunique()"
   ]
  },
  {
   "cell_type": "markdown",
   "metadata": {},
   "source": [
    "If i have 6946 different titles, i would expect the same amount of product_id, wonder if by droping everything that is not a game, like substriptions, would fix this discrepancy."
   ]
  },
  {
   "cell_type": "code",
   "execution_count": 10,
   "metadata": {},
   "outputs": [
    {
     "data": {
      "text/plain": [
       "'Playstation Plus Subscription'"
      ]
     },
     "execution_count": 10,
     "metadata": {},
     "output_type": "execute_result"
    }
   ],
   "source": [
    "df_raw.iloc[3]['product_title']"
   ]
  },
  {
   "cell_type": "markdown",
   "metadata": {},
   "source": [
    "It doesnt specify if the subscription is for 1, 3 or 12 months\n",
    "\n",
    "<br>\n",
    "\n",
    "Below i used key words to look for any products that is not a game\n",
    "e.g\n",
    "- Subscription\n",
    "- Month\n",
    "- Membership\n",
    "- Card\n",
    "- Network\n",
    "\n"
   ]
  },
  {
   "cell_type": "code",
   "execution_count": 11,
   "metadata": {},
   "outputs": [
    {
     "name": "stdout",
     "output_type": "stream",
     "text": [
      "Number of reviews for \"Subscription\" items: 12137 \n",
      "\n",
      "Number of reviews for \"Month\" items: 630 \n",
      "\n",
      "Number of reviews for \"Membership\" items: 275 \n",
      "\n",
      "Number of reviews for \"Card\" items: 21173 \n",
      "\n",
      "Number of reviews for \"Network\" items: 13613 \n",
      "\n"
     ]
    }
   ],
   "source": [
    "def look_keyword(data, strg):\n",
    "    content = data[data['product_title'].str.contains(strg)]\n",
    "    print(f'Number of reviews for \"{strg}\" items: {len(content)} \\n')\n",
    "    \n",
    "look_keyword(df_raw, \"Subscription\")    \n",
    "look_keyword(df_raw, \"Month\")\n",
    "look_keyword(df_raw, \"Membership\")\n",
    "look_keyword(df_raw, \"Card\")\n",
    "look_keyword(df_raw, \"Network\")"
   ]
  },
  {
   "cell_type": "code",
   "execution_count": 12,
   "metadata": {},
   "outputs": [
    {
     "data": {
      "text/plain": [
       "array([2, 5, 4, 1, 3])"
      ]
     },
     "execution_count": 12,
     "metadata": {},
     "output_type": "execute_result"
    }
   ],
   "source": [
    "df_raw['star_rating'].unique()\n",
    "#games were rated in a scale of 1 to 5 stars"
   ]
  },
  {
   "cell_type": "code",
   "execution_count": 13,
   "metadata": {
    "scrolled": true
   },
   "outputs": [
    {
     "name": "stdout",
     "output_type": "stream",
     "text": [
      "All reviews date back from 2006 to 2015\n"
     ]
    }
   ],
   "source": [
    "df_raw['review_date'] = pd.to_datetime(df_raw['review_date'])\n",
    "print(f'All reviews date back from {df_raw.review_date.min().year} to {df_raw.review_date.max().year}')"
   ]
  },
  {
   "cell_type": "markdown",
   "metadata": {},
   "source": [
    "## Data Preparation"
   ]
  },
  {
   "cell_type": "code",
   "execution_count": 14,
   "metadata": {},
   "outputs": [],
   "source": [
    "#Droping all rows that have strings: Subscription, Month, Membership,Network on the product_title column\n",
    "df_raw_noSub = df_raw[df_raw[\"product_title\"].str.contains(\"Subscription|Month|month|Membership|Network|Credit|Season Pass|Xbox Music Pass|Virtual Currency\") == False]\n"
   ]
  },
  {
   "cell_type": "markdown",
   "metadata": {},
   "source": [
    "Season Pass, Xbox Music Pass and Virtual Currency are some of the other kind of items on the dataset, i simply added them on the line above as i kept finding more during the process"
   ]
  },
  {
   "cell_type": "markdown",
   "metadata": {},
   "source": [
    "For titles that have string 'Card' in the title, i have to be more careful since there are some game that include that on their name"
   ]
  },
  {
   "cell_type": "code",
   "execution_count": 15,
   "metadata": {},
   "outputs": [
    {
     "data": {
      "text/plain": [
       "array(['Xbox Live Gift Card', 'Xbox 360 Live Points Card',\n",
       "       'Grand Theft Auto V Cash Cards', 'Hoyle Card Games 2012 AMR',\n",
       "       'Final Fantasy XIV Online: 60 Day Time Card [Online Game Code]',\n",
       "       'Hoyle Card Games  [Download]',\n",
       "       'Xbox $5 Gift Card - Xbox 360 Digital Code',\n",
       "       \"Hoyle Kid's Card Games [Download]\",\n",
       "       'Legends of Solitaire: The Lost Cards [Download]',\n",
       "       'Xbox $15 Gift Card (Call of Duty Ghosts:\\xa0Onslaught DLC) - Xbox 360 Digital Code'],\n",
       "      dtype=object)"
      ]
     },
     "execution_count": 15,
     "metadata": {},
     "output_type": "execute_result"
    }
   ],
   "source": [
    "def show_keyword(data, strg):\n",
    "    \"\"\"\n",
    "    func just to show examples of titles with given string,\n",
    "    to find any non-game items in the set\n",
    "    \"\"\"\n",
    "    content = data[data['product_title'].str.contains(strg)]\n",
    "    return content['product_title'].unique()[:10]\n",
    "    \n",
    "    \n",
    "show_keyword(df_raw_noSub, 'Card')"
   ]
  },
  {
   "cell_type": "markdown",
   "metadata": {},
   "source": [
    "First i will drop rows where 'Gift Card' is found, then i will proceed with other common combinations of words like 'Xbox Live' and Live Points Card"
   ]
  },
  {
   "cell_type": "code",
   "execution_count": 16,
   "metadata": {
    "scrolled": true
   },
   "outputs": [
    {
     "data": {
      "text/plain": [
       "array(['Hoyle Card Games 2012 AMR', 'Hoyle Card Games  [Download]',\n",
       "       \"Hoyle Kid's Card Games [Download]\",\n",
       "       'Legends of Solitaire: The Lost Cards [Download]',\n",
       "       'Tripeaks Solitaire Multi (Tripeaks with Multiple Card-Sets and Multiple Layouts) [Download]',\n",
       "       'Reel Deal Card Games 2011 [Download]',\n",
       "       '2,013 Card, Mahjongg & Solitaire Games [Download]',\n",
       "       'Hoyle Card Games [Mac Download]', 'Five Card Deluxe [Download]',\n",
       "       \"King's Collection: 6 Classic Card Games\"], dtype=object)"
      ]
     },
     "execution_count": 16,
     "metadata": {},
     "output_type": "execute_result"
    }
   ],
   "source": [
    "df_raw_noSub2 = df_raw_noSub[df_raw_noSub[\"product_title\"].str.contains(\"Gift Card|Xbox Live|Live Points Card|Xbox Live Gift Card|Grand Theft Auto V Cash Cards|60 Day Time Card\") == False]\n",
    "\n",
    "show_keyword(df_raw_noSub2, 'Card')"
   ]
  },
  {
   "cell_type": "markdown",
   "metadata": {},
   "source": [
    "Seems like all items left that include \"card\" in the title are actual games\n",
    "\n",
    "<br>\n",
    "\n",
    "Lets look for DLCs"
   ]
  },
  {
   "cell_type": "code",
   "execution_count": 17,
   "metadata": {},
   "outputs": [
    {
     "name": "stdout",
     "output_type": "stream",
     "text": [
      "Total number of DLCs: 212\n",
      "Total number of DLC reviews:1698\n"
     ]
    }
   ],
   "source": [
    "DLC = df_raw_noSub2[df_raw_noSub2['product_title'].str.contains('DLC')]\n",
    "print(f\"Total number of DLCs: {DLC['product_title'].nunique()}\")\n",
    "print(f'Total number of DLC reviews:{len(DLC)}')"
   ]
  },
  {
   "cell_type": "markdown",
   "metadata": {},
   "source": [
    "We have 212 different DLCs, and 1698 reviews, an original copy of the first game is required to be able to run a DLC, I will drop these too."
   ]
  },
  {
   "cell_type": "code",
   "execution_count": 18,
   "metadata": {},
   "outputs": [],
   "source": [
    "df_raw_noSub_no_DLC = df_raw_noSub2[df_raw_noSub2[\"product_title\"].str.contains(\"DLC|Pack\") == False]"
   ]
  },
  {
   "cell_type": "markdown",
   "metadata": {},
   "source": [
    "Quantity for product id and product title still doesn't match\n",
    "\n",
    "<br>\n",
    "\n",
    "Some games include a substring next to the title, it describes the way buyers could access the game, for example:\n",
    "\n",
    "`18 Wheels of Steel American Long Haul [Download]`\n",
    "\n",
    "`18 Wheels of Steel American Long Haul [Online Game Code]`\n",
    "\n",
    "Definitely the same game, just different \"delivery\" method.\n"
   ]
  },
  {
   "cell_type": "code",
   "execution_count": 19,
   "metadata": {},
   "outputs": [
    {
     "data": {
      "text/html": [
       "<div>\n",
       "<style scoped>\n",
       "    .dataframe tbody tr th:only-of-type {\n",
       "        vertical-align: middle;\n",
       "    }\n",
       "\n",
       "    .dataframe tbody tr th {\n",
       "        vertical-align: top;\n",
       "    }\n",
       "\n",
       "    .dataframe thead th {\n",
       "        text-align: right;\n",
       "    }\n",
       "</style>\n",
       "<table border=\"1\" class=\"dataframe\">\n",
       "  <thead>\n",
       "    <tr style=\"text-align: right;\">\n",
       "      <th></th>\n",
       "      <th>marketplace</th>\n",
       "      <th>customer_id</th>\n",
       "      <th>review_id</th>\n",
       "      <th>product_id</th>\n",
       "      <th>product_parent</th>\n",
       "      <th>product_title</th>\n",
       "      <th>product_category</th>\n",
       "      <th>star_rating</th>\n",
       "      <th>helpful_votes</th>\n",
       "      <th>total_votes</th>\n",
       "      <th>vine</th>\n",
       "      <th>verified_purchase</th>\n",
       "      <th>review_headline</th>\n",
       "      <th>review_body</th>\n",
       "      <th>review_date</th>\n",
       "    </tr>\n",
       "  </thead>\n",
       "  <tbody>\n",
       "    <tr>\n",
       "      <th>39224</th>\n",
       "      <td>US</td>\n",
       "      <td>36420328</td>\n",
       "      <td>R2LOZS1XJTWZNN</td>\n",
       "      <td>B004GHNG0E</td>\n",
       "      <td>614285704</td>\n",
       "      <td>18 Wheels of Steel American Long Haul [Download]</td>\n",
       "      <td>Digital_Video_Games</td>\n",
       "      <td>4</td>\n",
       "      <td>0</td>\n",
       "      <td>0</td>\n",
       "      <td>N</td>\n",
       "      <td>Y</td>\n",
       "      <td>Four Stars</td>\n",
       "      <td>ok</td>\n",
       "      <td>2014-10-15</td>\n",
       "    </tr>\n",
       "    <tr>\n",
       "      <th>50242</th>\n",
       "      <td>US</td>\n",
       "      <td>17845931</td>\n",
       "      <td>R2TJLHZ9X7EG83</td>\n",
       "      <td>B004GHNG0E</td>\n",
       "      <td>614285704</td>\n",
       "      <td>18 Wheels of Steel American Long Haul [Download]</td>\n",
       "      <td>Digital_Video_Games</td>\n",
       "      <td>4</td>\n",
       "      <td>0</td>\n",
       "      <td>0</td>\n",
       "      <td>N</td>\n",
       "      <td>Y</td>\n",
       "      <td>Four Stars</td>\n",
       "      <td>Like driving trucks.</td>\n",
       "      <td>2014-07-14</td>\n",
       "    </tr>\n",
       "    <tr>\n",
       "      <th>74152</th>\n",
       "      <td>US</td>\n",
       "      <td>21374226</td>\n",
       "      <td>R388BHLY4GIU5E</td>\n",
       "      <td>B00CLVZGPK</td>\n",
       "      <td>775610170</td>\n",
       "      <td>18 Wheels of Steel American Long Haul [Online ...</td>\n",
       "      <td>Digital_Video_Games</td>\n",
       "      <td>1</td>\n",
       "      <td>1</td>\n",
       "      <td>1</td>\n",
       "      <td>N</td>\n",
       "      <td>Y</td>\n",
       "      <td>Doesn't work, no manufacturer support</td>\n",
       "      <td>The code I got does not work. Amazon referred ...</td>\n",
       "      <td>2013-12-29</td>\n",
       "    </tr>\n",
       "  </tbody>\n",
       "</table>\n",
       "</div>"
      ],
      "text/plain": [
       "      marketplace  customer_id       review_id  product_id  product_parent  \\\n",
       "39224          US     36420328  R2LOZS1XJTWZNN  B004GHNG0E       614285704   \n",
       "50242          US     17845931  R2TJLHZ9X7EG83  B004GHNG0E       614285704   \n",
       "74152          US     21374226  R388BHLY4GIU5E  B00CLVZGPK       775610170   \n",
       "\n",
       "                                           product_title     product_category  \\\n",
       "39224   18 Wheels of Steel American Long Haul [Download]  Digital_Video_Games   \n",
       "50242   18 Wheels of Steel American Long Haul [Download]  Digital_Video_Games   \n",
       "74152  18 Wheels of Steel American Long Haul [Online ...  Digital_Video_Games   \n",
       "\n",
       "       star_rating  helpful_votes  total_votes vine verified_purchase  \\\n",
       "39224            4              0            0    N                 Y   \n",
       "50242            4              0            0    N                 Y   \n",
       "74152            1              1            1    N                 Y   \n",
       "\n",
       "                             review_headline  \\\n",
       "39224                             Four Stars   \n",
       "50242                             Four Stars   \n",
       "74152  Doesn't work, no manufacturer support   \n",
       "\n",
       "                                             review_body review_date  \n",
       "39224                                                 ok  2014-10-15  \n",
       "50242                               Like driving trucks.  2014-07-14  \n",
       "74152  The code I got does not work. Amazon referred ...  2013-12-29  "
      ]
     },
     "execution_count": 19,
     "metadata": {},
     "output_type": "execute_result"
    }
   ],
   "source": [
    "df_raw_noSub_no_DLC[df_raw_noSub_no_DLC['product_title'].str.contains('18 Wheels of Steel American Long Haul')].head(3)"
   ]
  },
  {
   "cell_type": "markdown",
   "metadata": {},
   "source": [
    "\n",
    "<br>\n",
    "\n",
    "The `[Download]` edition of the game, on the second row above, has a different `product_id` than its `[Online Game Code]` edition (on the 3rd row above), it's the same game but taged with different ID, `product_parent` number is also different\n",
    "\n",
    "<br>\n",
    "\n",
    "I find it easier to modify the name than the id number, i need to group those reviews togeter, the delivery method doesnt change the software performance, so the review for a specific version is still relevant for a different one.\n",
    "\n",
    "<br>\n",
    "\n",
    "At first sight, `[Instant Access]`, `[Download]`, `[Digital Code]`, `[Game Connect]` and `[Online Game Code]` seem to be the most frequent tags at the end of the games titles, if i delete those out of the title name, i could use them for the rec system instead of the id, which was my first option"
   ]
  },
  {
   "cell_type": "code",
   "execution_count": 20,
   "metadata": {
    "collapsed": true
   },
   "outputs": [
    {
     "name": "stderr",
     "output_type": "stream",
     "text": [
      "<ipython-input-20-de3b04f97402>:1: SettingWithCopyWarning: \n",
      "A value is trying to be set on a copy of a slice from a DataFrame.\n",
      "Try using .loc[row_indexer,col_indexer] = value instead\n",
      "\n",
      "See the caveats in the documentation: https://pandas.pydata.org/pandas-docs/stable/user_guide/indexing.html#returning-a-view-versus-a-copy\n",
      "  df_raw_noSub_no_DLC['clean_title'] = df_raw_noSub_no_DLC['product_title'].str.replace(\" \\[Instant Access\\]\", \"\")\n",
      "<ipython-input-20-de3b04f97402>:2: SettingWithCopyWarning: \n",
      "A value is trying to be set on a copy of a slice from a DataFrame.\n",
      "Try using .loc[row_indexer,col_indexer] = value instead\n",
      "\n",
      "See the caveats in the documentation: https://pandas.pydata.org/pandas-docs/stable/user_guide/indexing.html#returning-a-view-versus-a-copy\n",
      "  df_raw_noSub_no_DLC['clean_title'] = df_raw_noSub_no_DLC['clean_title'].str.replace(\" \\[Download\\]\", \"\")\n",
      "<ipython-input-20-de3b04f97402>:3: SettingWithCopyWarning: \n",
      "A value is trying to be set on a copy of a slice from a DataFrame.\n",
      "Try using .loc[row_indexer,col_indexer] = value instead\n",
      "\n",
      "See the caveats in the documentation: https://pandas.pydata.org/pandas-docs/stable/user_guide/indexing.html#returning-a-view-versus-a-copy\n",
      "  df_raw_noSub_no_DLC['clean_title'] = df_raw_noSub_no_DLC['clean_title'].str.replace(\" \\[Game Connect\\]\", \"\")\n",
      "<ipython-input-20-de3b04f97402>:4: SettingWithCopyWarning: \n",
      "A value is trying to be set on a copy of a slice from a DataFrame.\n",
      "Try using .loc[row_indexer,col_indexer] = value instead\n",
      "\n",
      "See the caveats in the documentation: https://pandas.pydata.org/pandas-docs/stable/user_guide/indexing.html#returning-a-view-versus-a-copy\n",
      "  df_raw_noSub_no_DLC['clean_title'] = df_raw_noSub_no_DLC['clean_title'].str.replace(\" \\[Online Game Code\\]\", \"\")\n",
      "<ipython-input-20-de3b04f97402>:5: SettingWithCopyWarning: \n",
      "A value is trying to be set on a copy of a slice from a DataFrame.\n",
      "Try using .loc[row_indexer,col_indexer] = value instead\n",
      "\n",
      "See the caveats in the documentation: https://pandas.pydata.org/pandas-docs/stable/user_guide/indexing.html#returning-a-view-versus-a-copy\n",
      "  df_raw_noSub_no_DLC['clean_title'] = df_raw_noSub_no_DLC['clean_title'].str.replace(\" \\[Digital Code\\]\", \"\")\n"
     ]
    }
   ],
   "source": [
    "df_raw_noSub_no_DLC['clean_title'] = df_raw_noSub_no_DLC['product_title'].str.replace(\" \\[Instant Access\\]\", \"\")\n",
    "df_raw_noSub_no_DLC['clean_title'] = df_raw_noSub_no_DLC['clean_title'].str.replace(\" \\[Download\\]\", \"\")\n",
    "df_raw_noSub_no_DLC['clean_title'] = df_raw_noSub_no_DLC['clean_title'].str.replace(\" \\[Game Connect\\]\", \"\")\n",
    "df_raw_noSub_no_DLC['clean_title'] = df_raw_noSub_no_DLC['clean_title'].str.replace(\" \\[Online Game Code\\]\", \"\")\n",
    "df_raw_noSub_no_DLC['clean_title'] = df_raw_noSub_no_DLC['clean_title'].str.replace(\" \\[Digital Code\\]\", \"\")"
   ]
  },
  {
   "cell_type": "markdown",
   "metadata": {},
   "source": [
    "The first title (on index 0) has 'Xbox One Digital Code' in its name, will check if there are more games with this same substring, or even for a different platform other than xbox"
   ]
  },
  {
   "cell_type": "code",
   "execution_count": 21,
   "metadata": {
    "collapsed": true
   },
   "outputs": [
    {
     "name": "stderr",
     "output_type": "stream",
     "text": [
      "<ipython-input-21-b0f23e8e230f>:2: SettingWithCopyWarning: \n",
      "A value is trying to be set on a copy of a slice from a DataFrame.\n",
      "Try using .loc[row_indexer,col_indexer] = value instead\n",
      "\n",
      "See the caveats in the documentation: https://pandas.pydata.org/pandas-docs/stable/user_guide/indexing.html#returning-a-view-versus-a-copy\n",
      "  df_raw_noSub_no_DLC['clean_title'] = df_raw_noSub_no_DLC['clean_title'].str.replace(\" - Xbox One Digital Code\", \"\")\n",
      "<ipython-input-21-b0f23e8e230f>:5: SettingWithCopyWarning: \n",
      "A value is trying to be set on a copy of a slice from a DataFrame.\n",
      "Try using .loc[row_indexer,col_indexer] = value instead\n",
      "\n",
      "See the caveats in the documentation: https://pandas.pydata.org/pandas-docs/stable/user_guide/indexing.html#returning-a-view-versus-a-copy\n",
      "  df_raw_noSub_no_DLC['clean_title'] = df_raw_noSub_no_DLC['clean_title'].str.replace(\" - Xbox 360 Digital Code\", \"\")\n",
      "<ipython-input-21-b0f23e8e230f>:8: SettingWithCopyWarning: \n",
      "A value is trying to be set on a copy of a slice from a DataFrame.\n",
      "Try using .loc[row_indexer,col_indexer] = value instead\n",
      "\n",
      "See the caveats in the documentation: https://pandas.pydata.org/pandas-docs/stable/user_guide/indexing.html#returning-a-view-versus-a-copy\n",
      "  df_raw_noSub_no_DLC['clean_title'] = df_raw_noSub_no_DLC['clean_title'].str.replace(\" - PS Vita / PS4 / PS3\", \"\")\n",
      "<ipython-input-21-b0f23e8e230f>:9: SettingWithCopyWarning: \n",
      "A value is trying to be set on a copy of a slice from a DataFrame.\n",
      "Try using .loc[row_indexer,col_indexer] = value instead\n",
      "\n",
      "See the caveats in the documentation: https://pandas.pydata.org/pandas-docs/stable/user_guide/indexing.html#returning-a-view-versus-a-copy\n",
      "  df_raw_noSub_no_DLC['clean_title'] = df_raw_noSub_no_DLC['clean_title'].str.replace(\" - PS Vita\", \"\")\n",
      "<ipython-input-21-b0f23e8e230f>:10: SettingWithCopyWarning: \n",
      "A value is trying to be set on a copy of a slice from a DataFrame.\n",
      "Try using .loc[row_indexer,col_indexer] = value instead\n",
      "\n",
      "See the caveats in the documentation: https://pandas.pydata.org/pandas-docs/stable/user_guide/indexing.html#returning-a-view-versus-a-copy\n",
      "  df_raw_noSub_no_DLC['clean_title'] = df_raw_noSub_no_DLC['clean_title'].str.replace(\" - PS3\", \"\")\n",
      "<ipython-input-21-b0f23e8e230f>:11: SettingWithCopyWarning: \n",
      "A value is trying to be set on a copy of a slice from a DataFrame.\n",
      "Try using .loc[row_indexer,col_indexer] = value instead\n",
      "\n",
      "See the caveats in the documentation: https://pandas.pydata.org/pandas-docs/stable/user_guide/indexing.html#returning-a-view-versus-a-copy\n",
      "  df_raw_noSub_no_DLC['clean_title'] = df_raw_noSub_no_DLC['clean_title'].str.replace(\" - PS4\", \"\")\n"
     ]
    }
   ],
   "source": [
    "#below i deleted the susbstring using same method as before\n",
    "df_raw_noSub_no_DLC['clean_title'] = df_raw_noSub_no_DLC['clean_title'].str.replace(\" - Xbox One Digital Code\", \"\")\n",
    "\n",
    "#found it for the 360 console too\n",
    "df_raw_noSub_no_DLC['clean_title'] = df_raw_noSub_no_DLC['clean_title'].str.replace(\" - Xbox 360 Digital Code\", \"\")\n",
    "\n",
    "#found ' - PS4', ' - PS3', ' - PS Vita / PS4 / PS3', ' - PS Vita'\n",
    "df_raw_noSub_no_DLC['clean_title'] = df_raw_noSub_no_DLC['clean_title'].str.replace(\" - PS Vita / PS4 / PS3\", \"\")\n",
    "df_raw_noSub_no_DLC['clean_title'] = df_raw_noSub_no_DLC['clean_title'].str.replace(\" - PS Vita\", \"\")\n",
    "df_raw_noSub_no_DLC['clean_title'] = df_raw_noSub_no_DLC['clean_title'].str.replace(\" - PS3\", \"\")\n",
    "df_raw_noSub_no_DLC['clean_title'] = df_raw_noSub_no_DLC['clean_title'].str.replace(\" - PS4\", \"\")"
   ]
  },
  {
   "cell_type": "markdown",
   "metadata": {},
   "source": [
    "### Clean DF"
   ]
  },
  {
   "cell_type": "code",
   "execution_count": 22,
   "metadata": {},
   "outputs": [
    {
     "name": "stdout",
     "output_type": "stream",
     "text": [
      "Total number of customers in dataset:76853\n",
      "Total number of games in dataset:6000\n"
     ]
    }
   ],
   "source": [
    "#New frame with cleaned data and only columns needed\n",
    "Df_clean = df_raw_noSub_no_DLC[['customer_id', 'clean_title', 'star_rating']]\n",
    "#reseting index\n",
    "Df_clean.reset_index(drop=True, inplace=True)\n",
    "\n",
    "print(f'Total number of customers in dataset:{Df_clean.customer_id.nunique()}')\n",
    "print(f'Total number of games in dataset:{Df_clean.clean_title.nunique()}')"
   ]
  },
  {
   "cell_type": "code",
   "execution_count": 941,
   "metadata": {
    "scrolled": false
   },
   "outputs": [
    {
     "name": "stdout",
     "output_type": "stream",
     "text": [
      "Total number of customers in dataset:4191\n",
      "Total number of games in dataset:4126\n",
      "Total number of reviews/ratings in dataset:21471\n"
     ]
    }
   ],
   "source": [
    "# Subsetting to remove the customers with less than 3 reviews\n",
    "Df_clean_subset = Df_clean[Df_clean['customer_id'].map(Df_clean['customer_id'].value_counts()) >= 3]\n",
    "\n",
    "print(f'Total number of customers in dataset:{Df_clean_subset.customer_id.nunique()}')\n",
    "print(f'Total number of games in dataset:{Df_clean_subset.clean_title.nunique()}')\n",
    "print((f'Total number of reviews/ratings in dataset:{len(Df_clean_subset)}'))"
   ]
  },
  {
   "cell_type": "markdown",
   "metadata": {},
   "source": [
    " increasing the minimun number of reviews to keep the customers data in the subset will reduce RMSE in the model, but it gets rid of rating variaty of certain games, leaving me with only positive ratings for some of them, resulting in predictions were the same games were being recommended to everybody"
   ]
  },
  {
   "cell_type": "code",
   "execution_count": 942,
   "metadata": {},
   "outputs": [],
   "source": [
    "#Saving as new file\n",
    "Df_clean_subset.to_csv('./data/GameRatings.csv', index=False)\n",
    "Ratings = pd.read_csv('./data/GameRatings.csv')"
   ]
  },
  {
   "cell_type": "markdown",
   "metadata": {},
   "source": [
    "### Preparing for modeling"
   ]
  },
  {
   "cell_type": "code",
   "execution_count": 943,
   "metadata": {},
   "outputs": [
    {
     "name": "stdout",
     "output_type": "stream",
     "text": [
      "Number of users:  4170\n",
      "Number of items:  3797\n",
      "Number of ratings:  17176\n"
     ]
    }
   ],
   "source": [
    "from surprise import Dataset, Reader\n",
    "from surprise.model_selection import train_test_split\n",
    "\n",
    "# Creating reader object and loading data in new format\n",
    "reader = Reader(line_format='user item rating',\n",
    "                sep=',', \n",
    "                rating_scale=(1, 5))\n",
    "\n",
    "data = Dataset.load_from_df(Ratings[['customer_id', 'clean_title', 'star_rating']], reader=reader)\n",
    "\n",
    "# split data into train and test sets\n",
    "trainset, testset = train_test_split(data, test_size=0.2)\n",
    "\n",
    "print('Number of users: ', trainset.n_users)\n",
    "print('Number of items: ', trainset.n_items)\n",
    "print('Number of ratings: ', trainset.n_ratings)"
   ]
  },
  {
   "cell_type": "markdown",
   "metadata": {},
   "source": [
    "# Modeling"
   ]
  },
  {
   "cell_type": "markdown",
   "metadata": {},
   "source": [
    "To build the recommendation system, I am using scikit-surprise library in Python, which includes a range of algorithms and tools for building and evaluating recommendation models. Specifically, I will be using collaborative filtering techniques to make recommendations based on the similarity of users and items.\n",
    "\n",
    "As a first step, I will train a model using a memory-based method, which utilizes the entire dataset to make predictions. After building the initial model, I will then explore the use of a model-based approach, which involves using machine learning algorithms to learn the underlying relationships in the data and make predictions. To tune the model and find the best set of hyperparameters, I will use grid search to try different combinations of parameters and evaluate their performance using root mean squared error."
   ]
  },
  {
   "cell_type": "code",
   "execution_count": null,
   "metadata": {},
   "outputs": [],
   "source": [
    "from surprise.prediction_algorithms import *\n",
    "from surprise import accuracy\n",
    "from surprise.model_selection import cross_validate, GridSearchCV"
   ]
  },
  {
   "cell_type": "markdown",
   "metadata": {},
   "source": [
    "## KNN Baseline Model"
   ]
  },
  {
   "cell_type": "code",
   "execution_count": 865,
   "metadata": {
    "scrolled": true
   },
   "outputs": [
    {
     "name": "stdout",
     "output_type": "stream",
     "text": [
      "Estimating biases using als...\n",
      "Computing the msd similarity matrix...\n",
      "Done computing similarity matrix.\n",
      "RMSE: 1.3303\n",
      "MAE:  1.0264\n"
     ]
    },
    {
     "data": {
      "text/plain": [
       "1.0264336739220996"
      ]
     },
     "execution_count": 865,
     "metadata": {},
     "output_type": "execute_result"
    }
   ],
   "source": [
    "KNNbaseline_model = KNNBaseline()\n",
    "KNNbaseline_model.fit(trainset)\n",
    "\n",
    "#getting predictions using testset\n",
    "KNNb_predictions = KNNbaseline_model.test(testset)\n",
    "\n",
    "# Root Mean Square Error and Mean Absolute Error\n",
    "accuracy.rmse(KNNb_predictions)"
   ]
  },
  {
   "cell_type": "markdown",
   "metadata": {},
   "source": [
    "**Cross validation**"
   ]
  },
  {
   "cell_type": "code",
   "execution_count": 866,
   "metadata": {
    "scrolled": true
   },
   "outputs": [
    {
     "name": "stdout",
     "output_type": "stream",
     "text": [
      "Evaluating RMSE of algorithm KNNBaseline on 5 split(s).\n",
      "\n",
      "                  Fold 1  Fold 2  Fold 3  Fold 4  Fold 5  Mean    Std     \n",
      "RMSE (testset)    1.3489  1.3222  1.3394  1.3350  1.3387  1.3368  0.0086  \n",
      "RMSE (trainset)   0.4263  0.4234  0.4234  0.4226  0.4256  0.4243  0.0014  \n",
      "Fit time          0.85    0.84    0.87    0.85    0.73    0.83    0.05    \n",
      "Test time         0.10    0.10    0.09    0.09    0.10    0.10    0.00    \n"
     ]
    }
   ],
   "source": [
    "KNNb_cv = cross_validate(algo = KNNbaseline_model, \n",
    "                         data = data, \n",
    "                         measures=['RMSE'], \n",
    "                         cv=5, \n",
    "                         n_jobs= -2,\n",
    "                         return_train_measures=True, \n",
    "                        verbose=True)"
   ]
  },
  {
   "cell_type": "markdown",
   "metadata": {},
   "source": [
    "## Baseline model"
   ]
  },
  {
   "cell_type": "markdown",
   "metadata": {},
   "source": [
    "As a starting point for comparison, I selected NormalPredictor as the baseline model. All other models will be compared to it using root mean squared error as the evaluation metric"
   ]
  },
  {
   "cell_type": "code",
   "execution_count": 896,
   "metadata": {},
   "outputs": [
    {
     "name": "stdout",
     "output_type": "stream",
     "text": [
      "RMSE: 1.7792\n",
      "MAE:  1.3998\n"
     ]
    },
    {
     "data": {
      "text/plain": [
       "1.399803304549392"
      ]
     },
     "execution_count": 896,
     "metadata": {},
     "output_type": "execute_result"
    }
   ],
   "source": [
    "# Instantiate and fit model\n",
    "baseline = NormalPredictor()\n",
    "baseline.fit(trainset)\n",
    "\n",
    "# Return test predictions for model fit on trainset\n",
    "base_pred = baseline.test(testset)\n",
    "\n",
    "# Save RMSE score to variable\n",
    "accuracy.rmse(base_pred)"
   ]
  },
  {
   "cell_type": "markdown",
   "metadata": {},
   "source": [
    "## SVD Simple model"
   ]
  },
  {
   "cell_type": "markdown",
   "metadata": {},
   "source": [
    "To start, I will implement a basic version of the SVD algorithm, which gained popularity due to Simon Funk's use of it in the Netflix Prize competition. This algorithm is well-known for its effectiveness in matrix factorization. In order to fine-tune the model's performance, I will utilize grid search to identify the optimal hyperparameters. To ensure that my results can be reproduced, I will consistently set the random state to 40 for all future models"
   ]
  },
  {
   "cell_type": "code",
   "execution_count": 912,
   "metadata": {},
   "outputs": [
    {
     "name": "stdout",
     "output_type": "stream",
     "text": [
      "RMSE: 1.2348\n",
      "MAE:  0.9920\n"
     ]
    },
    {
     "data": {
      "text/plain": [
       "0.9920075917343008"
      ]
     },
     "execution_count": 912,
     "metadata": {},
     "output_type": "execute_result"
    }
   ],
   "source": [
    "SVD_model = SVD(random_state=40)\n",
    "SVD_model.fit(trainset)\n",
    "\n",
    "#getting predictions using testset\n",
    "SVD_predictions = SVD_model.test(testset)\n",
    "\n",
    "# Root Mean Square Error and Mean Absolute Error\n",
    "accuracy.rmse(SVD_predictions)"
   ]
  },
  {
   "cell_type": "markdown",
   "metadata": {},
   "source": [
    "RMSE lower than baseline, will move on to gridsearches"
   ]
  },
  {
   "cell_type": "markdown",
   "metadata": {},
   "source": [
    "### SVD Gridsearch"
   ]
  },
  {
   "cell_type": "code",
   "execution_count": 947,
   "metadata": {},
   "outputs": [
    {
     "name": "stderr",
     "output_type": "stream",
     "text": [
      "[Parallel(n_jobs=-2)]: Using backend LokyBackend with 7 concurrent workers.\n",
      "[Parallel(n_jobs=-2)]: Done   4 tasks      | elapsed:    0.3s\n",
      "[Parallel(n_jobs=-2)]: Done  58 tasks      | elapsed:    5.1s\n",
      "[Parallel(n_jobs=-2)]: Done 148 tasks      | elapsed:   18.6s\n",
      "[Parallel(n_jobs=-2)]: Done 162 out of 162 | elapsed:   22.2s finished\n"
     ]
    },
    {
     "data": {
      "text/plain": [
       "{'n_factors': 100, 'n_epochs': 10, 'lr_all': 0.05, 'reg_all': 0.1}"
      ]
     },
     "execution_count": 947,
     "metadata": {},
     "output_type": "execute_result"
    }
   ],
   "source": [
    "# Setting grid around default parameter values\n",
    "SVD_grid = {'n_factors':[50, 100, 120],\n",
    "           'n_epochs':[10, 20, 40],\n",
    "           'lr_all':[0.002, 0.005, 0.05],\n",
    "           'reg_all':[0.02, 0.1]}\n",
    "\n",
    "SVD_gs = GridSearchCV(algo_class = SVD, \n",
    "                      param_grid = SVD_grid, \n",
    "                      measures=['rmse'], \n",
    "                      n_jobs = -2, \n",
    "                      joblib_verbose = 5, \n",
    "                     cv=3)\n",
    "\n",
    "SVD_gs.fit(data)\n",
    "SVD_gs.best_params['rmse']"
   ]
  },
  {
   "cell_type": "code",
   "execution_count": 934,
   "metadata": {
    "scrolled": true
   },
   "outputs": [
    {
     "name": "stdout",
     "output_type": "stream",
     "text": [
      "RMSE: 1.2161\n"
     ]
    },
    {
     "data": {
      "text/plain": [
       "1.2161005578219166"
      ]
     },
     "execution_count": 934,
     "metadata": {},
     "output_type": "execute_result"
    }
   ],
   "source": [
    "# using best parameters in new model and only fiting train set\n",
    "svd_1 = SVD(n_factors=100, n_epochs=10, lr_all=0.05, reg_all= .1, random_state=40)\n",
    "\n",
    "svd_1.fit(trainset)\n",
    "\n",
    "#getting predictions using testset\n",
    "SVD_pred_1 = svd_1.test(testset)\n",
    "\n",
    "# Root Mean Square Error and Mean Absolute Error\n",
    "accuracy.rmse(SVD_pred_1)"
   ]
  },
  {
   "cell_type": "markdown",
   "metadata": {},
   "source": [
    "Gridsearch improved RMSE from the baseline model. For the next iteration, I will try using more granular values around n_factors and lower values for n_epochs. Since the highest values for reg_all and lr_all were returned from the grid search, I will also include a higher value for these hyperparameters to test their effect on the model's performance"
   ]
  },
  {
   "cell_type": "markdown",
   "metadata": {},
   "source": [
    "### SVD Gridsearch 2"
   ]
  },
  {
   "cell_type": "code",
   "execution_count": 948,
   "metadata": {},
   "outputs": [
    {
     "name": "stderr",
     "output_type": "stream",
     "text": [
      "[Parallel(n_jobs=-2)]: Using backend LokyBackend with 7 concurrent workers.\n",
      "[Parallel(n_jobs=-2)]: Done   4 tasks      | elapsed:    0.7s\n",
      "[Parallel(n_jobs=-2)]: Done  58 tasks      | elapsed:    2.3s\n",
      "[Parallel(n_jobs=-2)]: Done 148 tasks      | elapsed:    7.1s\n",
      "[Parallel(n_jobs=-2)]: Done 274 tasks      | elapsed:   13.4s\n",
      "[Parallel(n_jobs=-2)]: Done 436 tasks      | elapsed:   20.9s\n",
      "[Parallel(n_jobs=-2)]: Done 634 tasks      | elapsed:   31.5s\n",
      "[Parallel(n_jobs=-2)]: Done 868 tasks      | elapsed:   44.8s\n",
      "[Parallel(n_jobs=-2)]: Done 1080 out of 1080 | elapsed:  1.0min finished\n"
     ]
    },
    {
     "data": {
      "text/plain": [
       "{'n_factors': 70, 'n_epochs': 15, 'lr_all': 0.02, 'reg_all': 0.2}"
      ]
     },
     "execution_count": 948,
     "metadata": {},
     "output_type": "execute_result"
    }
   ],
   "source": [
    "SVD_grid_2 = {'n_factors':[70, 75, 82, 87, 95, 100, 108, 116], \n",
    "              'n_epochs':[2, 5, 9, 13, 15], \n",
    "              'lr_all':[0.02, .05, .07], \n",
    "              'reg_all':[0.05, 0.1, 0.2]}\n",
    "\n",
    "SVD_gs_2 = GridSearchCV(algo_class = SVD, \n",
    "                      param_grid = SVD_grid_2, \n",
    "                      measures=['rmse'], \n",
    "                      n_jobs = -2, \n",
    "                      joblib_verbose = 5, \n",
    "                       cv=3)\n",
    "\n",
    "SVD_gs_2.fit(data)\n",
    "SVD_gs_2.best_params['rmse']"
   ]
  },
  {
   "cell_type": "code",
   "execution_count": 950,
   "metadata": {
    "scrolled": true
   },
   "outputs": [
    {
     "name": "stdout",
     "output_type": "stream",
     "text": [
      "RMSE: 1.2136\n",
      "MAE:  0.9711\n"
     ]
    },
    {
     "data": {
      "text/plain": [
       "0.97113695495271"
      ]
     },
     "execution_count": 950,
     "metadata": {},
     "output_type": "execute_result"
    }
   ],
   "source": [
    "# using best parameters in new model and only fiting train set\n",
    "svd_2 = SVD(n_factors=70, n_epochs= 15, lr_all=0.02, reg_all= 0.2, random_state = 40)\n",
    "\n",
    "svd_2.fit(trainset)\n",
    "\n",
    "#getting predictions using testset\n",
    "SVD_pred_2 = svd_2.test(testset)\n",
    "\n",
    "# Root Mean Square Error and Mean Absolute Error\n",
    "accuracy.rmse(SVD_pred_2)\n",
    "accuracy.mae(SVD_pred_2)"
   ]
  },
  {
   "cell_type": "markdown",
   "metadata": {},
   "source": [
    "Gridsearch returned the lowest value for n_factors and lr_all, highest for n_epochs and reg_all"
   ]
  },
  {
   "cell_type": "markdown",
   "metadata": {},
   "source": [
    "### SVD Gridsearch 3"
   ]
  },
  {
   "cell_type": "code",
   "execution_count": 951,
   "metadata": {
    "scrolled": false
   },
   "outputs": [
    {
     "name": "stderr",
     "output_type": "stream",
     "text": [
      "[Parallel(n_jobs=-2)]: Using backend LokyBackend with 7 concurrent workers.\n",
      "[Parallel(n_jobs=-2)]: Done   4 tasks      | elapsed:    0.8s\n",
      "[Parallel(n_jobs=-2)]: Done  58 tasks      | elapsed:    3.9s\n",
      "[Parallel(n_jobs=-2)]: Done 148 tasks      | elapsed:    9.3s\n",
      "[Parallel(n_jobs=-2)]: Done 274 tasks      | elapsed:   17.4s\n",
      "[Parallel(n_jobs=-2)]: Done 436 tasks      | elapsed:   29.7s\n",
      "[Parallel(n_jobs=-2)]: Done 486 out of 486 | elapsed:   33.9s finished\n"
     ]
    },
    {
     "data": {
      "text/plain": [
       "{'n_factors': 45, 'n_epochs': 17, 'lr_all': 0.02, 'reg_all': 0.3}"
      ]
     },
     "execution_count": 951,
     "metadata": {},
     "output_type": "execute_result"
    }
   ],
   "source": [
    "SVD_grid_3 = {'n_factors':[40, 45, 50, 60, 65, 70],\n",
    "           'n_epochs':[15, 17, 20],\n",
    "           'lr_all':[0.005, 0.01, 0.02],\n",
    "           'reg_all':[0.2, 0.3, 0.5]}\n",
    "\n",
    "SVD_gs_3 = GridSearchCV(algo_class = SVD, \n",
    "                      param_grid = SVD_grid_3, \n",
    "                      measures=['rmse'], \n",
    "                      n_jobs = -2, \n",
    "                      joblib_verbose = 5, \n",
    "                       cv=3)\n",
    "\n",
    "SVD_gs_3.fit(data)\n",
    "SVD_gs_3.best_params['rmse']"
   ]
  },
  {
   "cell_type": "code",
   "execution_count": 968,
   "metadata": {
    "scrolled": true
   },
   "outputs": [
    {
     "name": "stdout",
     "output_type": "stream",
     "text": [
      "RMSE: 1.2118\n",
      "MAE:  0.9696\n"
     ]
    },
    {
     "data": {
      "text/plain": [
       "0.9695800655914475"
      ]
     },
     "execution_count": 968,
     "metadata": {},
     "output_type": "execute_result"
    }
   ],
   "source": [
    "# using best parameters in new model and only fiting train set\n",
    "svd_3 = SVD(n_factors=45, n_epochs= 17, lr_all=0.02, reg_all= 0.3, random_state=40)\n",
    "\n",
    "svd_3.fit(trainset)\n",
    "\n",
    "#getting predictions using testset\n",
    "SVD_pred_3 = svd_3.test(testset)\n",
    "\n",
    "# Root Mean Square Error and Mean Absolute Error\n",
    "accuracy.rmse(SVD_pred_3)\n",
    "accuracy.mae(SVD_pred_3)"
   ]
  },
  {
   "cell_type": "code",
   "execution_count": 969,
   "metadata": {
    "scrolled": true
   },
   "outputs": [
    {
     "name": "stdout",
     "output_type": "stream",
     "text": [
      "Evaluating RMSE of algorithm SVD on 5 split(s).\n",
      "\n",
      "                  Fold 1  Fold 2  Fold 3  Fold 4  Fold 5  Mean    Std     \n",
      "RMSE (testset)    1.2266  1.1933  1.2275  1.2134  1.1900  1.2102  0.0159  \n",
      "RMSE (trainset)   0.7741  0.7778  0.7741  0.7741  0.7805  0.7761  0.0026  \n",
      "Fit time          0.36    0.37    0.37    0.37    0.38    0.37    0.01    \n",
      "Test time         0.02    0.02    0.02    0.02    0.03    0.02    0.00    \n"
     ]
    }
   ],
   "source": [
    "SVD_cv3 = cross_validate(algo = svd_3, \n",
    "                        data = data, \n",
    "                        measures=['RMSE'], \n",
    "                        cv=5, \n",
    "                        n_jobs=-2, \n",
    "                        verbose=True, \n",
    "                        return_train_measures=True)"
   ]
  },
  {
   "cell_type": "markdown",
   "metadata": {},
   "source": [
    "RMSE is better than baseline model and basic SVD mode, i will move on to try a SVD++ model, it is an extension of SVD that incorporates additional information, such implicit feedback/ratings. It is designed to handle noisy and sparse data better than SVD"
   ]
  },
  {
   "cell_type": "markdown",
   "metadata": {},
   "source": [
    "## SVD++"
   ]
  },
  {
   "cell_type": "code",
   "execution_count": 939,
   "metadata": {},
   "outputs": [
    {
     "name": "stdout",
     "output_type": "stream",
     "text": [
      "RMSE: 1.2187\n",
      "MAE:  0.9720\n"
     ]
    },
    {
     "data": {
      "text/plain": [
       "0.9720208702808977"
      ]
     },
     "execution_count": 939,
     "metadata": {},
     "output_type": "execute_result"
    }
   ],
   "source": [
    "# Default hyperparameters\n",
    "svdpp_Model = SVDpp(random_state=40)\n",
    "\n",
    "svdpp_Model.fit(trainset)\n",
    "\n",
    "#getting predictions using testset\n",
    "SVDpp_pred = svdpp_Model.test(testset)\n",
    "\n",
    "# Root Mean Square Error and Mean Absolute Error\n",
    "accuracy.rmse(SVDpp_pred)\n",
    "accuracy.mae(SVDpp_pred)"
   ]
  },
  {
   "cell_type": "markdown",
   "metadata": {},
   "source": [
    "### SVD++ Gridsearch"
   ]
  },
  {
   "cell_type": "code",
   "execution_count": 940,
   "metadata": {},
   "outputs": [
    {
     "name": "stderr",
     "output_type": "stream",
     "text": [
      "[Parallel(n_jobs=-2)]: Using backend LokyBackend with 7 concurrent workers.\n",
      "[Parallel(n_jobs=-2)]: Done   4 tasks      | elapsed:    1.4s\n",
      "[Parallel(n_jobs=-2)]: Done  58 tasks      | elapsed:   12.2s\n",
      "[Parallel(n_jobs=-2)]: Done 148 tasks      | elapsed:   36.3s\n",
      "[Parallel(n_jobs=-2)]: Done 274 tasks      | elapsed:  1.3min\n",
      "[Parallel(n_jobs=-2)]: Done 324 out of 324 | elapsed:  1.8min finished\n"
     ]
    },
    {
     "data": {
      "text/plain": [
       "{'n_factors': 1, 'n_epochs': 40, 'reg_all': 0.05, 'lr_all': 0.007}"
      ]
     },
     "execution_count": 940,
     "metadata": {},
     "output_type": "execute_result"
    }
   ],
   "source": [
    "# Setting grid around default parameter values\n",
    "SVDpp_grid = {'n_factors':[1, 5, 15, 30], \n",
    "              'n_epochs':[10, 20, 40], \n",
    "              'reg_all':[0.01, 0.02, 0.05], \n",
    "             'lr_all':[0.003, 0.007, 0.01]}\n",
    "\n",
    "\n",
    "SVDpp_gs = GridSearchCV(algo_class = SVDpp, \n",
    "                        param_grid = SVDpp_grid, \n",
    "                        measures=['rmse'], \n",
    "                        n_jobs = -2, \n",
    "                        cv=3, \n",
    "                        joblib_verbose = 5)\n",
    "\n",
    "\n",
    "SVDpp_gs.fit(data)\n",
    "SVDpp_gs.best_params['rmse']"
   ]
  },
  {
   "cell_type": "code",
   "execution_count": 944,
   "metadata": {
    "scrolled": true
   },
   "outputs": [
    {
     "name": "stdout",
     "output_type": "stream",
     "text": [
      "RMSE: 1.2160\n",
      "MAE:  0.9602\n"
     ]
    },
    {
     "data": {
      "text/plain": [
       "0.960180808818546"
      ]
     },
     "execution_count": 944,
     "metadata": {},
     "output_type": "execute_result"
    }
   ],
   "source": [
    "svdpp_1 = SVDpp(n_factors=1, n_epochs=40, reg_all=0.05, lr_all=0.007, random_state=40)\n",
    "\n",
    "svdpp_1.fit(trainset)\n",
    "\n",
    "#getting predictions using testset\n",
    "SVDpp_pred_1 = svdpp_1.test(testset)\n",
    "\n",
    "# Root Mean Square Error and Mean Absolute Error\n",
    "accuracy.rmse(SVDpp_pred_1)\n",
    "accuracy.mae(SVDpp_pred_1)"
   ]
  },
  {
   "cell_type": "markdown",
   "metadata": {},
   "source": [
    "### SVD++ Gridsearch 2"
   ]
  },
  {
   "cell_type": "markdown",
   "metadata": {},
   "source": [
    "Setting n_factors and n_epochs around lower and higher values respectively"
   ]
  },
  {
   "cell_type": "code",
   "execution_count": 945,
   "metadata": {},
   "outputs": [
    {
     "name": "stderr",
     "output_type": "stream",
     "text": [
      "[Parallel(n_jobs=-2)]: Using backend LokyBackend with 7 concurrent workers.\n",
      "[Parallel(n_jobs=-2)]: Done   4 tasks      | elapsed:    2.6s\n",
      "[Parallel(n_jobs=-2)]: Done  58 tasks      | elapsed:   24.4s\n",
      "[Parallel(n_jobs=-2)]: Done 148 tasks      | elapsed:  1.1min\n",
      "[Parallel(n_jobs=-2)]: Done 270 out of 270 | elapsed:  2.0min finished\n"
     ]
    },
    {
     "data": {
      "text/plain": [
       "{'n_factors': 1, 'n_epochs': 40, 'reg_all': 0.1, 'lr_all': 0.007}"
      ]
     },
     "execution_count": 945,
     "metadata": {},
     "output_type": "execute_result"
    }
   ],
   "source": [
    "SVDpp_grid_2 = {'n_factors':[1, 3, 5, 7, 9, 10], \n",
    "              'n_epochs':[30, 35, 40, 45, 50], \n",
    "              'reg_all':[0.03, 0.07, 0.1], \n",
    "             'lr_all':[0.007]}\n",
    "\n",
    "\n",
    "SVDpp_gs_2 = GridSearchCV(algo_class = SVDpp, \n",
    "                        param_grid = SVDpp_grid_2, \n",
    "                        measures=['rmse'], \n",
    "                        n_jobs = -2, \n",
    "                        cv=3, \n",
    "                        joblib_verbose = 5)\n",
    "\n",
    "\n",
    "SVDpp_gs_2.fit(data)\n",
    "SVDpp_gs_2.best_params['rmse']"
   ]
  },
  {
   "cell_type": "code",
   "execution_count": 972,
   "metadata": {},
   "outputs": [
    {
     "name": "stdout",
     "output_type": "stream",
     "text": [
      "RMSE: 1.2141\n"
     ]
    },
    {
     "data": {
      "text/plain": [
       "1.2140603163440107"
      ]
     },
     "execution_count": 972,
     "metadata": {},
     "output_type": "execute_result"
    }
   ],
   "source": [
    "SVDpp_2 = SVDpp(n_factors=1, n_epochs=40, reg_all=0.1, lr_all=0.007, random_state=40)\n",
    "\n",
    "SVDpp_2.fit(trainset)\n",
    "\n",
    "#getting predictions using testset\n",
    "SVDpp_pred_2 = SVDpp_2.test(testset)\n",
    "\n",
    "# Root Mean Square Error and Mean Absolute Error\n",
    "accuracy.rmse(SVDpp_pred_2)"
   ]
  },
  {
   "cell_type": "code",
   "execution_count": 973,
   "metadata": {
    "scrolled": false
   },
   "outputs": [
    {
     "name": "stdout",
     "output_type": "stream",
     "text": [
      "Evaluating RMSE of algorithm SVDpp on 5 split(s).\n",
      "\n",
      "                  Fold 1  Fold 2  Fold 3  Fold 4  Fold 5  Mean    Std     \n",
      "RMSE (testset)    1.2347  1.2055  1.1792  1.2207  1.2180  1.2116  0.0187  \n",
      "RMSE (trainset)   0.8985  0.9005  0.9042  0.8942  0.8914  0.8977  0.0045  \n",
      "Fit time          2.94    2.97    3.01    2.93    2.95    2.96    0.03    \n",
      "Test time         0.07    0.06    0.06    0.06    0.06    0.06    0.00    \n"
     ]
    }
   ],
   "source": [
    "SVDpp_2_cv = cross_validate(algo = SVDpp_2, \n",
    "                        data = data, \n",
    "                        measures=['RMSE'], \n",
    "                        cv=5, \n",
    "                        n_jobs=-2, \n",
    "                        verbose=True, \n",
    "                        return_train_measures=True)"
   ]
  },
  {
   "cell_type": "markdown",
   "metadata": {},
   "source": [
    "# Model Evaluation"
   ]
  },
  {
   "cell_type": "code",
   "execution_count": 999,
   "metadata": {},
   "outputs": [],
   "source": [
    "%%capture\n",
    "#preparing all models' RMSE for plotting\n",
    "model_pred = [KNNb_predictions, base_pred, SVD_predictions, SVD_pred_3, SVDpp_pred, SVDpp_pred_2]\n",
    "\n",
    "model_names = ['KNNb', 'Baseline', 'SVD simple', 'SVD GS3', 'SVDpp', 'SVDpp GS2']\n",
    "RMSE_values = []\n",
    "for X in model_pred:\n",
    "    RMSE_values.append(round(float(accuracy.rmse(X)), 4))\n",
    "\n",
    "zipped_dict = {x:z for x, z in zip(model_names,RMSE_values)}\n",
    "\n",
    "sort_zip = dict(sorted(zipped_dict.items(), key=lambda item: item[1], reverse=True))"
   ]
  },
  {
   "cell_type": "code",
   "execution_count": 1001,
   "metadata": {
    "scrolled": false
   },
   "outputs": [
    {
     "data": {
      "image/png": "[encoded data removed]",
      "text/plain": [
       "<Figure size 720x576 with 1 Axes>"
      ]
     },
     "metadata": {
      "needs_background": "light"
     },
     "output_type": "display_data"
    }
   ],
   "source": [
    "best_model_rmse = sort_zip['SVD GS3']\n",
    "\n",
    "fig, ax = plt.subplots(figsize=(10,8))\n",
    "plt.bar(sort_zip.keys(), sort_zip.values(), color=['Black', 'black', 'black', 'black', 'green', 'blue'])\n",
    "plt.ylim(.9, 1.6)\n",
    "plt.axhline(y = best_model_rmse, color = 'r', linestyle = 'dotted')\n",
    "ax.set_title(\"Models\")\n",
    "plt.ylabel('RMSE');\n",
    "# plt.savefig('images/Model_Evaluation.png', dpi=600, bbox_inches='tight');"
   ]
  },
  {
   "cell_type": "markdown",
   "metadata": {},
   "source": [
    "To evaluate the performance of different models, I used the RMSE as the metric of choice. After analyzing the results, it was found that the SVD model with hyperparameters from the third grid search achieved the best performance, with an RMSE of 1.2118. This value is lower than the RMSE of 1.7792 produced by the baseline model, indicating a significant improvement.\n",
    "\n",
    "While SVD++ models also demonstrated an improvement compared to the baseline model, it should be noted that they are more computationally expensive as demonstrated by the cross validation results"
   ]
  },
  {
   "cell_type": "code",
   "execution_count": 1010,
   "metadata": {},
   "outputs": [
    {
     "data": {
      "image/png": "[encoded data removed]",
      "text/plain": [
       "<Figure size 720x576 with 1 Axes>"
      ]
     },
     "metadata": {
      "needs_background": "light"
     },
     "output_type": "display_data"
    }
   ],
   "source": [
    "fig, ax = plt.subplots(figsize=(10,8))\n",
    "\n",
    "plt.bar(x= ['SVDpp GS2', 'SVD GS3'], \n",
    "        height=[np.mean(SVDpp_2_cv['fit_time']), np.mean(SVD_cv3['fit_time'])], \n",
    "        color=['black', 'green'])\n",
    "\n",
    "plt.ylim()\n",
    "ax.set_title(\"Model Fit time\")\n",
    "plt.ylabel('Fit time');\n",
    "# plt.savefig('images/Model_Evaluation.png', dpi=600, bbox_inches='tight');"
   ]
  },
  {
   "cell_type": "markdown",
   "metadata": {},
   "source": [
    "# Recommender System\n",
    "\n",
    "Incorporate the optimized SVD model into a recommendation system"
   ]
  },
  {
   "cell_type": "code",
   "execution_count": 1020,
   "metadata": {},
   "outputs": [
    {
     "data": {
      "text/plain": [
       "<surprise.prediction_algorithms.matrix_factorization.SVD at 0x7fac480e49d0>"
      ]
     },
     "execution_count": 1020,
     "metadata": {},
     "output_type": "execute_result"
    }
   ],
   "source": [
    "# Creating a trainset in surprise format using the whole dataset\n",
    "full_trainset = data.build_full_trainset()\n",
    "\n",
    "# fit best model with full trainset\n",
    "best_model = svd_3\n",
    "best_model.fit(full_trainset)"
   ]
  },
  {
   "cell_type": "code",
   "execution_count": 1021,
   "metadata": {},
   "outputs": [],
   "source": [
    "# Dataset with all customer id and games played/reviewed by each of them\n",
    "customer_set = Ratings.set_index('customer_id')\n",
    "customer_set.drop(columns='star_rating', inplace=True)\n"
   ]
  },
  {
   "cell_type": "markdown",
   "metadata": {},
   "source": [
    "The system will only provide recommendations to existing customers whose data has been used to train the model. To receive recommendations, any new customers and their associated reviews must be added to the dataset and the model must be retrained."
   ]
  },
  {
   "cell_type": "code",
   "execution_count": 1022,
   "metadata": {},
   "outputs": [
    {
     "name": "stdout",
     "output_type": "stream",
     "text": [
      "CustomerId: 40235215\n",
      "Number of recommendations? 5\n"
     ]
    }
   ],
   "source": [
    "# Use the customer ID and desired number of recommendations as input for the system\n",
    "customer = int(input('CustomerId: '))\n",
    "nRec = int(input('Number of recommendations? '))"
   ]
  },
  {
   "cell_type": "code",
   "execution_count": 1023,
   "metadata": {},
   "outputs": [],
   "source": [
    "# Creating list with games played/reviewed by customer\n",
    "played = list(customer_set.loc[customer, 'clean_title'])"
   ]
  },
  {
   "cell_type": "code",
   "execution_count": 1024,
   "metadata": {},
   "outputs": [],
   "source": [
    "# Creating new dataset with all games not played by the customer yet\n",
    "\n",
    "# Dataset with unique game titles, dropping duplicates\n",
    "unique_games = Ratings.drop_duplicates('clean_title')\n",
    "game_indexed = unique_games.set_index('clean_title')\n",
    "\n",
    "# Dropping games reviewd by customer\n",
    "not_played = game_indexed.drop(played)\n",
    "\n",
    "# Reset index to show titles on their own column\n",
    "not_played.reset_index(inplace=True)"
   ]
  },
  {
   "cell_type": "code",
   "execution_count": 1025,
   "metadata": {},
   "outputs": [
    {
     "data": {
      "text/plain": [
       "False"
      ]
     },
     "execution_count": 1025,
     "metadata": {},
     "output_type": "execute_result"
    }
   ],
   "source": [
    "# not_played list shoud have lest titles than game_set\n",
    "len(not_played) < len(game_set)"
   ]
  },
  {
   "cell_type": "markdown",
   "metadata": {},
   "source": [
    "**Getting raiting predictions**"
   ]
  },
  {
   "cell_type": "code",
   "execution_count": 1026,
   "metadata": {
    "scrolled": false
   },
   "outputs": [],
   "source": [
    "# Creating new column containing a predicted rating for each of the games not played by the customer\n",
    "# using best_model.predict\n",
    "not_played['prediction'] = not_played['clean_title'].apply(lambda x: best_model.predict(customer, x).est)\n",
    "\n",
    "# Sort dataset based on predicted rating \n",
    "not_played.sort_values(by='prediction', ascending=False, inplace=True)\n",
    "\n",
    "#renaiming clean_title column for readibility\n",
    "not_played.rename(columns={'clean_title': 'Recommended Games'}, inplace=True)\n",
    "\n",
    "# Only returning specified number of recomendations requested by user (nRec)\n",
    "recommendation =  not_played['Recommended Games'].head(nRec)"
   ]
  },
  {
   "cell_type": "markdown",
   "metadata": {},
   "source": [
    "**Display both played and recommended games together**"
   ]
  },
  {
   "cell_type": "code",
   "execution_count": 1028,
   "metadata": {},
   "outputs": [
    {
     "data": {
      "image/png": "[encoded data removed]",
      "text/plain": [
       "<Figure size 1440x360 with 2 Axes>"
      ]
     },
     "metadata": {
      "needs_background": "light"
     },
     "output_type": "display_data"
    }
   ],
   "source": [
    "#creating fig to display two dataframes next to eachother\n",
    "fig = plt.figure(figsize=(20,5))\n",
    "\n",
    "\n",
    "#creating new daframe using played list, using only game-name column for easy implementation below\n",
    "#only displaying first 5 games played by user\n",
    "p_df = pd.DataFrame(played, columns=(['Played Games'])).head()\n",
    "\n",
    "#first ax will display games top games played by customer \n",
    "ax1 = fig.add_subplot(121)\n",
    "font_size=12\n",
    "bbox=[0, 0, 1, 1]\n",
    "ax1.axis('off')\n",
    "mpl_table = ax1.table(cellText = p_df.values, rowLabels = p_df.index, bbox=bbox, colLabels=p_df.columns)\n",
    "mpl_table.auto_set_font_size(False)\n",
    "mpl_table.set_fontsize(font_size)\n",
    "\n",
    "\n",
    "#creating new daframe using recommendation df, using only game-name column for easy implementation below\n",
    "r_df = pd.DataFrame(recommendation)\n",
    "r_df.reset_index(inplace=True, drop=True)\n",
    "\n",
    "# on ax2 will display recommended games\n",
    "ax2 = fig.add_subplot(122)\n",
    "font_size=12\n",
    "bbox=[0, 0, 1, 1]\n",
    "ax2.axis('off')\n",
    "mpl_table = ax2.table(cellText = r_df.values, rowLabels = r_df.index, bbox=bbox, colLabels=r_df.columns)\n",
    "mpl_table.auto_set_font_size(False)\n",
    "mpl_table.set_fontsize(font_size)"
   ]
  },
  {
   "cell_type": "markdown",
   "metadata": {},
   "source": [
    "## Function"
   ]
  },
  {
   "cell_type": "code",
   "execution_count": 1029,
   "metadata": {},
   "outputs": [],
   "source": [
    "def game_recommender():\n",
    "    \n",
    "    customer = int(input('Customer ID: '))\n",
    "    nRec = int(input('Number of recommendations: '))\n",
    "    \n",
    "    \n",
    "    # Creating list with games played/reviewed by customer\n",
    "    played = list(customer_set.loc[customer, 'clean_title'])\n",
    "    \n",
    "    \n",
    "    # Creating new dataset with all games not played by the customer yet\n",
    "    # Dataset with unique game titles, dropping duplicates\n",
    "    unique_games = Ratings.drop_duplicates('clean_title')\n",
    "    game_indexed = unique_games.set_index('clean_title')\n",
    "\n",
    "    # Dropping games reviewd by customer using index\n",
    "    not_played = game_indexed.drop(played)\n",
    "\n",
    "    # Reset index to show titles on their own column\n",
    "    not_played.reset_index(inplace=True)\n",
    "    \n",
    "    # Creating new column containing a predicted rating for each of the games not played by the customer\n",
    "    # using best_model.predict\n",
    "    not_played['prediction'] = not_played['clean_title'].apply(lambda x: best_model.predict(customer, x).est)\n",
    "\n",
    "    # Sort dataset based on predicted rating \n",
    "    not_played.sort_values(by='prediction', ascending=False, inplace=True)\n",
    "\n",
    "    # renaiming clean_title column for readibility\n",
    "    not_played.rename(columns={'clean_title': 'Recommended Games'}, inplace=True)\n",
    "                                                    \n",
    "    # Only returning specified number of recomendations requested by user (nRec)                   \n",
    "    recommendation =  not_played['Recommended Games'].head(nRec)\n",
    "    \n",
    "\n",
    "    \n",
    "    # creating fig to display two dataframes next to eachother\n",
    "    fig = plt.figure(figsize=(20,5))\n",
    "\n",
    "\n",
    "    # creating new daframe using played list, using only game-name column for easy implementation below\n",
    "    # only displaying first 5 games played by user\n",
    "    p_df = pd.DataFrame(played, columns=(['Played Games'])).head()\n",
    "\n",
    "    # first ax will display games top games played by customer \n",
    "    ax1 = fig.add_subplot(121)\n",
    "    font_size=12\n",
    "    bbox=[0, 0, 1, 1]\n",
    "    ax1.axis('off')\n",
    "    mpl_table = ax1.table(cellText = p_df.values, rowLabels = p_df.index, bbox=bbox, colLabels=p_df.columns)\n",
    "    mpl_table.auto_set_font_size(False)\n",
    "    mpl_table.set_fontsize(font_size)\n",
    "\n",
    "\n",
    "    # creating new daframe using recommendation df, using only game-name column for easy implementation below\n",
    "    r_df = pd.DataFrame(recommendation)\n",
    "    r_df.reset_index(inplace=True, drop=True)\n",
    "\n",
    "    # on ax2 will display recommended games\n",
    "    ax2 = fig.add_subplot(122)\n",
    "    font_size=12\n",
    "    bbox=[0, 0, 1, 1]\n",
    "    ax2.axis('off')\n",
    "    mpl_table = ax2.table(cellText = r_df.values, rowLabels = r_df.index, bbox=bbox, colLabels=r_df.columns)\n",
    "    mpl_table.auto_set_font_size(False)\n",
    "    mpl_table.set_fontsize(font_size)"
   ]
  },
  {
   "cell_type": "markdown",
   "metadata": {},
   "source": [
    "**Testing function**"
   ]
  },
  {
   "cell_type": "code",
   "execution_count": 531,
   "metadata": {},
   "outputs": [
    {
     "data": {
      "text/plain": [
       "array([ 2763599, 40902831, 36527466, 46796873, 48417142, 12307077,\n",
       "       46332022, 39942708, 40847927, 52573695, 41370439, 52422920,\n",
       "        1397995, 13621710, 43854644, 40235215, 47913319, 16065750,\n",
       "       45221772, 40184619])"
      ]
     },
     "execution_count": 531,
     "metadata": {},
     "output_type": "execute_result"
    }
   ],
   "source": [
    "# getting random sample of customer IDs\n",
    "ID_sample = Ratings.sample(20)\n",
    "ID_sample['customer_id'].values"
   ]
  },
  {
   "cell_type": "code",
   "execution_count": 858,
   "metadata": {},
   "outputs": [
    {
     "name": "stdout",
     "output_type": "stream",
     "text": [
      "Customer ID: 50231542\n",
      "Number of recommendations: 5\n"
     ]
    },
    {
     "data": {
      "image/png": "[encoded data removed]",
      "text/plain": [
       "<Figure size 1440x360 with 2 Axes>"
      ]
     },
     "metadata": {
      "needs_background": "light"
     },
     "output_type": "display_data"
    }
   ],
   "source": [
    "# recommendation for customer 50231542\n",
    "game_recommender()"
   ]
  },
  {
   "cell_type": "code",
   "execution_count": 859,
   "metadata": {},
   "outputs": [
    {
     "name": "stdout",
     "output_type": "stream",
     "text": [
      "Customer ID: 22981757\n",
      "Number of recommendations: 5\n"
     ]
    },
    {
     "data": {
      "image/png": "[encoded data removed]",
      "text/plain": [
       "<Figure size 1440x360 with 2 Axes>"
      ]
     },
     "metadata": {
      "needs_background": "light"
     },
     "output_type": "display_data"
    }
   ],
   "source": [
    "game_recommender()"
   ]
  },
  {
   "cell_type": "code",
   "execution_count": 861,
   "metadata": {},
   "outputs": [
    {
     "name": "stdout",
     "output_type": "stream",
     "text": [
      "Customer ID: 52422920\n",
      "Number of recommendations: 5\n"
     ]
    },
    {
     "data": {
      "image/png": "[encoded data removed]",
      "text/plain": [
       "<Figure size 1440x360 with 2 Axes>"
      ]
     },
     "metadata": {
      "needs_background": "light"
     },
     "output_type": "display_data"
    }
   ],
   "source": [
    "game_recommender()"
   ]
  },
  {
   "cell_type": "code",
   "execution_count": null,
   "metadata": {},
   "outputs": [],
   "source": []
  },
  {
   "cell_type": "code",
   "execution_count": null,
   "metadata": {},
   "outputs": [],
   "source": []
  },
  {
   "cell_type": "markdown",
   "metadata": {},
   "source": [
    "## limitations\n",
    "\n",
    "\n",
    "limitation collaborative filtering\n",
    "\n"
   ]
  },
  {
   "cell_type": "markdown",
   "metadata": {},
   "source": [
    "## Deployment"
   ]
  },
  {
   "cell_type": "code",
   "execution_count": null,
   "metadata": {},
   "outputs": [],
   "source": []
  },
  {
   "cell_type": "markdown",
   "metadata": {},
   "source": [
    "## Resources\n",
    "\n",
    "https://surprise.readthedocs.io/en/stable/dataset.html?highlight=build_full_trainset()#surprise.dataset.DatasetAutoFolds.build_full_trainset\n",
    "\n",
    "https://towardsdatascience.com/svd-where-model-tuning-goes-wrong-61c269402919\n",
    "\n",
    "https://sifter.org/~simon/journal/20061211.html"
   ]
  },
  {
   "cell_type": "markdown",
   "metadata": {},
   "source": [
    "## metadata"
   ]
  },
  {
   "cell_type": "markdown",
   "metadata": {},
   "source": [
    "!ls data\n"
   ]
  },
  {
   "cell_type": "markdown",
   "metadata": {},
   "source": [
    "import gzip"
   ]
  },
  {
   "cell_type": "markdown",
   "metadata": {},
   "source": [
    "vec_tfidf"
   ]
  },
  {
   "cell_type": "markdown",
   "metadata": {},
   "source": [
    "def parse(path):\n",
    "  g = gzip.open(path, 'rb')\n",
    "  for l in g:\n",
    "    yield eval(l)\n",
    "\n",
    "def getDF(path):\n",
    "  i = 0\n",
    "  df = {}\n",
    "  for d in parse(path):\n",
    "    df[i] = d\n",
    "    i += 1\n",
    "  return pd.DataFrame.from_dict(df, orient='index')\n",
    "\n",
    "meta_df = getDF('./data/meta_Video_Games.json.gz')"
   ]
  },
  {
   "cell_type": "code",
   "execution_count": null,
   "metadata": {},
   "outputs": [],
   "source": []
  }
 ],
 "metadata": {
  "kernelspec": {
   "display_name": "Python (learn-env)",
   "language": "python",
   "name": "learn-env"
  },
  "language_info": {
   "codemirror_mode": {
    "name": "ipython",
    "version": 3
   },
   "file_extension": ".py",
   "mimetype": "text/x-python",
   "name": "python",
   "nbconvert_exporter": "python",
   "pygments_lexer": "ipython3",
   "version": "3.8.5"
  }
 },
 "nbformat": 4,
 "nbformat_minor": 4
}
