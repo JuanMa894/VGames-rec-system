{
 "cells": [
  {
   "cell_type": "markdown",
   "metadata": {},
   "source": [
    "# Video Game Recomendation System"
   ]
  },
  {
   "cell_type": "markdown",
   "metadata": {},
   "source": [
    "## Business understanding"
   ]
  },
  {
   "cell_type": "code",
   "execution_count": null,
   "metadata": {},
   "outputs": [],
   "source": []
  },
  {
   "cell_type": "markdown",
   "metadata": {},
   "source": [
    "## Data understanding"
   ]
  },
  {
   "cell_type": "code",
   "execution_count": 354,
   "metadata": {},
   "outputs": [],
   "source": [
    "import pandas as pd\n",
    "import numpy as np\n",
    "import matplotlib.pyplot as plt\n",
    "import seaborn as sns\n",
    "%matplotlib inline"
   ]
  },
  {
   "cell_type": "markdown",
   "metadata": {},
   "source": [
    "Dataset from kaggle on [here](https://www.kaggle.com/datasets/cynthiarempel/amazon-us-customer-reviews-dataset?select=amazon_reviews_us_Digital_Video_Games_v1_00.tsv)"
   ]
  },
  {
   "cell_type": "code",
   "execution_count": 10,
   "metadata": {
    "scrolled": true
   },
   "outputs": [],
   "source": [
    "df_raw = pd.read_csv('./data/Digital_Video_Games.tsv', sep='\\t', header=0, error_bad_lines=False)"
   ]
  },
  {
   "cell_type": "markdown",
   "metadata": {},
   "source": [
    "### Columns\n",
    "- **marketplace**: 2 letter country code of the marketplace where the review was written.\n",
    "- **customer_id**: Random identifier that can be used to aggregate reviews written by a single author.\n",
    "- **review_id**: The unique ID of the review.\n",
    "- **productid**: The unique Product ID the review pertains to. In the multilingual dataset the reviews for the same product in different countries can be grouped by the same productid.\n",
    "- **product_parent**: Random identifier that can be used to aggregate reviews for the same product.\n",
    "- **product_title**: Title of the product.\n",
    "- **product_category**: Broad product category that can be used to group reviews (also used to group the dataset into coherent parts).\n",
    "- **star_rating**: The 1-5 star rating of the review.\n",
    "- **helpful_votes**: Number of helpful votes.\n",
    "- **total_votes**: Number of total votes the review received.\n",
    "- **vine**: Review was written as part of the Vine program.\n",
    "- **verified_purchase**: The review is on a verified purchase.\n",
    "- **review_headline**: The title of the review.\n",
    "- **review_body**: The review text.\n",
    "- **review_date**: The date the review was written."
   ]
  },
  {
   "cell_type": "code",
   "execution_count": 11,
   "metadata": {},
   "outputs": [
    {
     "data": {
      "text/html": [
       "<div>\n",
       "<style scoped>\n",
       "    .dataframe tbody tr th:only-of-type {\n",
       "        vertical-align: middle;\n",
       "    }\n",
       "\n",
       "    .dataframe tbody tr th {\n",
       "        vertical-align: top;\n",
       "    }\n",
       "\n",
       "    .dataframe thead th {\n",
       "        text-align: right;\n",
       "    }\n",
       "</style>\n",
       "<table border=\"1\" class=\"dataframe\">\n",
       "  <thead>\n",
       "    <tr style=\"text-align: right;\">\n",
       "      <th></th>\n",
       "      <th>marketplace</th>\n",
       "      <th>customer_id</th>\n",
       "      <th>review_id</th>\n",
       "      <th>product_id</th>\n",
       "      <th>product_parent</th>\n",
       "      <th>product_title</th>\n",
       "      <th>product_category</th>\n",
       "      <th>star_rating</th>\n",
       "      <th>helpful_votes</th>\n",
       "      <th>total_votes</th>\n",
       "      <th>vine</th>\n",
       "      <th>verified_purchase</th>\n",
       "      <th>review_headline</th>\n",
       "      <th>review_body</th>\n",
       "      <th>review_date</th>\n",
       "    </tr>\n",
       "  </thead>\n",
       "  <tbody>\n",
       "    <tr>\n",
       "      <th>0</th>\n",
       "      <td>US</td>\n",
       "      <td>21269168</td>\n",
       "      <td>RSH1OZ87OYK92</td>\n",
       "      <td>B013PURRZW</td>\n",
       "      <td>603406193</td>\n",
       "      <td>Madden NFL 16 - Xbox One Digital Code</td>\n",
       "      <td>Digital_Video_Games</td>\n",
       "      <td>2</td>\n",
       "      <td>2</td>\n",
       "      <td>3</td>\n",
       "      <td>N</td>\n",
       "      <td>N</td>\n",
       "      <td>A slight improvement from last year.</td>\n",
       "      <td>I keep buying madden every year hoping they ge...</td>\n",
       "      <td>2015-08-31</td>\n",
       "    </tr>\n",
       "    <tr>\n",
       "      <th>1</th>\n",
       "      <td>US</td>\n",
       "      <td>133437</td>\n",
       "      <td>R1WFOQ3N9BO65I</td>\n",
       "      <td>B00F4CEHNK</td>\n",
       "      <td>341969535</td>\n",
       "      <td>Xbox Live Gift Card</td>\n",
       "      <td>Digital_Video_Games</td>\n",
       "      <td>5</td>\n",
       "      <td>0</td>\n",
       "      <td>0</td>\n",
       "      <td>N</td>\n",
       "      <td>Y</td>\n",
       "      <td>Five Stars</td>\n",
       "      <td>Awesome</td>\n",
       "      <td>2015-08-31</td>\n",
       "    </tr>\n",
       "    <tr>\n",
       "      <th>2</th>\n",
       "      <td>US</td>\n",
       "      <td>45765011</td>\n",
       "      <td>R3YOOS71KM5M9</td>\n",
       "      <td>B00DNHLFQA</td>\n",
       "      <td>951665344</td>\n",
       "      <td>Command &amp; Conquer The Ultimate Collection [Ins...</td>\n",
       "      <td>Digital_Video_Games</td>\n",
       "      <td>5</td>\n",
       "      <td>0</td>\n",
       "      <td>0</td>\n",
       "      <td>N</td>\n",
       "      <td>Y</td>\n",
       "      <td>Hail to the great Yuri!</td>\n",
       "      <td>If you are prepping for the end of the world t...</td>\n",
       "      <td>2015-08-31</td>\n",
       "    </tr>\n",
       "    <tr>\n",
       "      <th>3</th>\n",
       "      <td>US</td>\n",
       "      <td>113118</td>\n",
       "      <td>R3R14UATT3OUFU</td>\n",
       "      <td>B004RMK5QG</td>\n",
       "      <td>395682204</td>\n",
       "      <td>Playstation Plus Subscription</td>\n",
       "      <td>Digital_Video_Games</td>\n",
       "      <td>5</td>\n",
       "      <td>0</td>\n",
       "      <td>0</td>\n",
       "      <td>N</td>\n",
       "      <td>Y</td>\n",
       "      <td>Five Stars</td>\n",
       "      <td>Perfect</td>\n",
       "      <td>2015-08-31</td>\n",
       "    </tr>\n",
       "    <tr>\n",
       "      <th>4</th>\n",
       "      <td>US</td>\n",
       "      <td>22151364</td>\n",
       "      <td>RV2W9SGDNQA2C</td>\n",
       "      <td>B00G9BNLQE</td>\n",
       "      <td>640460561</td>\n",
       "      <td>Saints Row IV - Enter The Dominatrix [Online G...</td>\n",
       "      <td>Digital_Video_Games</td>\n",
       "      <td>5</td>\n",
       "      <td>0</td>\n",
       "      <td>0</td>\n",
       "      <td>N</td>\n",
       "      <td>Y</td>\n",
       "      <td>Five Stars</td>\n",
       "      <td>Awesome!</td>\n",
       "      <td>2015-08-31</td>\n",
       "    </tr>\n",
       "  </tbody>\n",
       "</table>\n",
       "</div>"
      ],
      "text/plain": [
       "  marketplace  customer_id       review_id  product_id  product_parent  \\\n",
       "0          US     21269168   RSH1OZ87OYK92  B013PURRZW       603406193   \n",
       "1          US       133437  R1WFOQ3N9BO65I  B00F4CEHNK       341969535   \n",
       "2          US     45765011   R3YOOS71KM5M9  B00DNHLFQA       951665344   \n",
       "3          US       113118  R3R14UATT3OUFU  B004RMK5QG       395682204   \n",
       "4          US     22151364   RV2W9SGDNQA2C  B00G9BNLQE       640460561   \n",
       "\n",
       "                                       product_title     product_category  \\\n",
       "0              Madden NFL 16 - Xbox One Digital Code  Digital_Video_Games   \n",
       "1                                Xbox Live Gift Card  Digital_Video_Games   \n",
       "2  Command & Conquer The Ultimate Collection [Ins...  Digital_Video_Games   \n",
       "3                      Playstation Plus Subscription  Digital_Video_Games   \n",
       "4  Saints Row IV - Enter The Dominatrix [Online G...  Digital_Video_Games   \n",
       "\n",
       "   star_rating  helpful_votes  total_votes vine verified_purchase  \\\n",
       "0            2              2            3    N                 N   \n",
       "1            5              0            0    N                 Y   \n",
       "2            5              0            0    N                 Y   \n",
       "3            5              0            0    N                 Y   \n",
       "4            5              0            0    N                 Y   \n",
       "\n",
       "                        review_headline  \\\n",
       "0  A slight improvement from last year.   \n",
       "1                            Five Stars   \n",
       "2               Hail to the great Yuri!   \n",
       "3                            Five Stars   \n",
       "4                            Five Stars   \n",
       "\n",
       "                                         review_body review_date  \n",
       "0  I keep buying madden every year hoping they ge...  2015-08-31  \n",
       "1                                            Awesome  2015-08-31  \n",
       "2  If you are prepping for the end of the world t...  2015-08-31  \n",
       "3                                            Perfect  2015-08-31  \n",
       "4                                           Awesome!  2015-08-31  "
      ]
     },
     "execution_count": 11,
     "metadata": {},
     "output_type": "execute_result"
    }
   ],
   "source": [
    "df_raw.head()"
   ]
  },
  {
   "cell_type": "code",
   "execution_count": 12,
   "metadata": {
    "scrolled": true
   },
   "outputs": [
    {
     "name": "stdout",
     "output_type": "stream",
     "text": [
      "<class 'pandas.core.frame.DataFrame'>\n",
      "RangeIndex: 144724 entries, 0 to 144723\n",
      "Data columns (total 15 columns):\n",
      " #   Column             Non-Null Count   Dtype \n",
      "---  ------             --------------   ----- \n",
      " 0   marketplace        144724 non-null  object\n",
      " 1   customer_id        144724 non-null  int64 \n",
      " 2   review_id          144724 non-null  object\n",
      " 3   product_id         144724 non-null  object\n",
      " 4   product_parent     144724 non-null  int64 \n",
      " 5   product_title      144724 non-null  object\n",
      " 6   product_category   144724 non-null  object\n",
      " 7   star_rating        144724 non-null  int64 \n",
      " 8   helpful_votes      144724 non-null  int64 \n",
      " 9   total_votes        144724 non-null  int64 \n",
      " 10  vine               144724 non-null  object\n",
      " 11  verified_purchase  144724 non-null  object\n",
      " 12  review_headline    144722 non-null  object\n",
      " 13  review_body        144722 non-null  object\n",
      " 14  review_date        144721 non-null  object\n",
      "dtypes: int64(5), object(10)\n",
      "memory usage: 16.6+ MB\n"
     ]
    }
   ],
   "source": [
    "df_raw.info()"
   ]
  },
  {
   "cell_type": "markdown",
   "metadata": {},
   "source": [
    "Some null values in the last 3 columns."
   ]
  },
  {
   "cell_type": "code",
   "execution_count": 13,
   "metadata": {},
   "outputs": [
    {
     "data": {
      "text/plain": [
       "array(['US'], dtype=object)"
      ]
     },
     "execution_count": 13,
     "metadata": {},
     "output_type": "execute_result"
    }
   ],
   "source": [
    "df_raw['marketplace'].unique()"
   ]
  },
  {
   "cell_type": "markdown",
   "metadata": {},
   "source": [
    "All reviews in dataset are from US customers"
   ]
  },
  {
   "cell_type": "code",
   "execution_count": 14,
   "metadata": {},
   "outputs": [
    {
     "data": {
      "text/plain": [
       "112891"
      ]
     },
     "execution_count": 14,
     "metadata": {},
     "output_type": "execute_result"
    }
   ],
   "source": [
    "df_raw['customer_id'].nunique()"
   ]
  },
  {
   "cell_type": "markdown",
   "metadata": {},
   "source": [
    "112891 different customers "
   ]
  },
  {
   "cell_type": "code",
   "execution_count": 15,
   "metadata": {},
   "outputs": [
    {
     "data": {
      "text/plain": [
       "144724"
      ]
     },
     "execution_count": 15,
     "metadata": {},
     "output_type": "execute_result"
    }
   ],
   "source": [
    "df_raw['review_id'].nunique()"
   ]
  },
  {
   "cell_type": "markdown",
   "metadata": {},
   "source": [
    "Seems like there are no duplicate reviews in the set"
   ]
  },
  {
   "cell_type": "code",
   "execution_count": 16,
   "metadata": {},
   "outputs": [
    {
     "data": {
      "text/plain": [
       "7939"
      ]
     },
     "execution_count": 16,
     "metadata": {},
     "output_type": "execute_result"
    }
   ],
   "source": [
    "df_raw['product_id'].nunique()"
   ]
  },
  {
   "cell_type": "markdown",
   "metadata": {},
   "source": [
    "7939 different products, but not all video games, found \"Playstation Plus Subscription\" in row 3, so all digitally sold products related video games, like subscriptions, seem to be included in the data set, will further look for other kind of product other than games and drop those."
   ]
  },
  {
   "cell_type": "code",
   "execution_count": 17,
   "metadata": {},
   "outputs": [
    {
     "data": {
      "text/plain": [
       "7755"
      ]
     },
     "execution_count": 17,
     "metadata": {},
     "output_type": "execute_result"
    }
   ],
   "source": [
    "df_raw['product_parent'].nunique()"
   ]
  },
  {
   "cell_type": "markdown",
   "metadata": {},
   "source": [
    "- **product_parent**: Random identifier that can be used to aggregate reviews for the same product.\n",
    "\n",
    "seems like just another id but we have about 200 less data points in this column than product id"
   ]
  },
  {
   "cell_type": "code",
   "execution_count": 18,
   "metadata": {},
   "outputs": [
    {
     "data": {
      "text/plain": [
       "6946"
      ]
     },
     "execution_count": 18,
     "metadata": {},
     "output_type": "execute_result"
    }
   ],
   "source": [
    "df_raw['product_title'].nunique()"
   ]
  },
  {
   "cell_type": "markdown",
   "metadata": {},
   "source": [
    "if i have 6946 different titles, i would expect the same amount of product_id, wonder if by droping everything that is not a game, like substriptions, would fix this discrepancy."
   ]
  },
  {
   "cell_type": "code",
   "execution_count": 19,
   "metadata": {},
   "outputs": [
    {
     "data": {
      "text/plain": [
       "'Playstation Plus Subscription'"
      ]
     },
     "execution_count": 19,
     "metadata": {},
     "output_type": "execute_result"
    }
   ],
   "source": [
    "df_raw.iloc[3]['product_title']"
   ]
  },
  {
   "cell_type": "markdown",
   "metadata": {},
   "source": [
    "It doesnt specify if the subscription is for 1, 3 or 12 months\n",
    "\n",
    "<br>\n",
    "\n",
    "Below i used key words to look for any products that is not a game\n",
    "e.g\n",
    "- Subscription\n",
    "- Month\n",
    "- Membership\n",
    "- Card\n",
    "- Network\n",
    "\n"
   ]
  },
  {
   "cell_type": "code",
   "execution_count": 23,
   "metadata": {},
   "outputs": [
    {
     "data": {
      "text/plain": [
       "array(['Playstation Plus Subscription', 'Xbox Live Subscription',\n",
       "       '1 Month Subscription: EVE Online [Instant Access]',\n",
       "       'PlayStation Now Subscription Twister Parent',\n",
       "       'Webkinz 12 Month Deluxe Subscription [Online Game Code]'],\n",
       "      dtype=object)"
      ]
     },
     "execution_count": 23,
     "metadata": {},
     "output_type": "execute_result"
    }
   ],
   "source": [
    "Game_subs = df_raw[df_raw['product_title'].str.contains('Subscription')]\n",
    "Game_subs['product_title'].unique()"
   ]
  },
  {
   "cell_type": "code",
   "execution_count": 24,
   "metadata": {},
   "outputs": [
    {
     "data": {
      "text/plain": [
       "array(['1 Month Subscription: EVE Online [Instant Access]',\n",
       "       'Xbox Live 24 Month Gold Membership - Xbox 360 Digital Code',\n",
       "       'Disney Club Penguin 12 Month Membership Code with Free Amazon Exclusive Bonus Item',\n",
       "       'Xbox Live 3-Month Gold + $100 Xbox Gift Card - Xbox 360 Digital Code',\n",
       "       'Xbox Live 3-Month Gold + $5 Xbox Gift Card - Xbox 360 Digital Code',\n",
       "       'Webkinz 12 Month Deluxe Subscription [Online Game Code]',\n",
       "       'Xbox 12 Month Gold for Black Ops II - Xbox 360 Digital Code',\n",
       "       '3-Month PS Plus + $10 PS Gift Card - PS3 / PS4 [Digital Code]',\n",
       "       '3-Month PS Plus + $20 PS Gift Card - PS3 / PS4 [Digital Code]',\n",
       "       'Xbox LIVE 12 Month Gold for Call of Duty: Ghost - Xbox 360 Digital Code',\n",
       "       'Curse Premium - 1 Month [Download]',\n",
       "       'GameBattles Premium Access - 3 Months [Online Game Code]',\n",
       "       '3-Month PS Plus + $50 PS Gift Card - PS3 / PS4 [Digital Code]',\n",
       "       'Xbox Live 12-Month Gold + $25 Xbox Gift Card - Xbox 360 Digital Code',\n",
       "       'Xbox Live 3-Month Gold + $10 Xbox Gift Card - Xbox 360 Digital Code',\n",
       "       '3 Month Membership: AdventureQuest Worlds [Instant Access]',\n",
       "       'Xbox LIVE 12 Month Gold Membership + 1 Bonus Month - Xbox 360 Digital Code',\n",
       "       'Xbox Live 3-Month Gold + $25 Xbox Gift Card - Xbox 360 Digital Code',\n",
       "       'Curse Premium - 12 Months [Download]',\n",
       "       'Xbox Live 12 Month Gold for Halo 4 - Xbox 360 Digital Code',\n",
       "       'Xbox 360 Live 12 Month plus 1 Month Bonus [Online Game Code]',\n",
       "       'Xbox Live 3-Month Gold + $50 Xbox Gift Card - Xbox 360 Digital Code',\n",
       "       'Curse Premium - 3 Months [Download]',\n",
       "       'Xbox Live 12-Month Gold + $50 Xbox Gift Card - Xbox 360 Digital Code',\n",
       "       '6 Month Membership: AdventureQuest Worlds [Instant Access]'],\n",
       "      dtype=object)"
      ]
     },
     "execution_count": 24,
     "metadata": {},
     "output_type": "execute_result"
    }
   ],
   "source": [
    "Sub_months = df_raw[df_raw['product_title'].str.contains('Month')]\n",
    "Sub_months['product_title'].unique()"
   ]
  },
  {
   "cell_type": "code",
   "execution_count": 25,
   "metadata": {},
   "outputs": [
    {
     "data": {
      "text/plain": [
       "array(['Xbox Live 24 Month Gold Membership - Xbox 360 Digital Code',\n",
       "       'Disney Club Penguin 12 Month Membership Code with Free Amazon Exclusive Bonus Item',\n",
       "       'Disney Club Penguin Membership',\n",
       "       'Xbox Live 3 month Gold Membership + 1 bonus month [Online Game Code]',\n",
       "       '1 Year Membership: AdventureQuest Worlds [Instant Access]',\n",
       "       '3 Month Membership: AdventureQuest Worlds [Instant Access]',\n",
       "       'Xbox LIVE 12 Month Gold Membership + 1 Bonus Month - Xbox 360 Digital Code',\n",
       "       '6 Month Membership: AdventureQuest Worlds [Instant Access]'],\n",
       "      dtype=object)"
      ]
     },
     "execution_count": 25,
     "metadata": {},
     "output_type": "execute_result"
    }
   ],
   "source": [
    "Sub_Membership = df_raw[df_raw['product_title'].str.contains('Membership')]\n",
    "Sub_Membership['product_title'].unique()"
   ]
  },
  {
   "cell_type": "code",
   "execution_count": 26,
   "metadata": {
    "scrolled": true
   },
   "outputs": [
    {
     "data": {
      "text/plain": [
       "array(['Xbox Live Gift Card', 'Playstation Network Card',\n",
       "       'Xbox 360 Live Points Card', 'Grand Theft Auto V Cash Cards',\n",
       "       'Hoyle Card Games 2012 AMR',\n",
       "       'Final Fantasy XIV Online: 60 Day Time Card [Online Game Code]',\n",
       "       'Hoyle Card Games  [Download]',\n",
       "       'Xbox $5 Gift Card - Xbox 360 Digital Code',\n",
       "       \"Hoyle Kid's Card Games [Download]\",\n",
       "       'Legends of Solitaire: The Lost Cards [Download]',\n",
       "       'Xbox $15 Gift Card (Call of Duty Ghosts:\\xa0Onslaught DLC) - Xbox 360 Digital Code',\n",
       "       'Xbox Live 3-Month Gold + $100 Xbox Gift Card - Xbox 360 Digital Code',\n",
       "       'Xbox Live 3-Month Gold + $5 Xbox Gift Card - Xbox 360 Digital Code',\n",
       "       'Tripeaks Solitaire Multi (Tripeaks with Multiple Card-Sets and Multiple Layouts) [Download]',\n",
       "       'Reel Deal Card Games 2011 [Download]',\n",
       "       '2,013 Card, Mahjongg & Solitaire Games [Download]',\n",
       "       'Hoyle Card Games [Mac Download]',\n",
       "       'Sony Playstation Network Card - $10 [Online Game Code]',\n",
       "       '1-Year PS Plus + $10 PS Gift Card - PS3 / PS4 [Digital Code]',\n",
       "       'Five Card Deluxe [Download]',\n",
       "       '1-Year PS Plus + $50 PS Gift Card - PS3 / PS4 [Digital Code]',\n",
       "       'Xbox Live $6 Gift Card - Xbox 360 Digital Code',\n",
       "       '3-Month PS Plus + $10 PS Gift Card - PS3 / PS4 [Digital Code]',\n",
       "       '3-Month PS Plus + $20 PS Gift Card - PS3 / PS4 [Digital Code]',\n",
       "       '1-Year PS Plus + $20 PS Gift Card - PS3 / PS4 [Digital Code]',\n",
       "       'Xbox Live $35 Gift Card - Xbox 360 Digital Code',\n",
       "       \"King's Collection: 6 Classic Card Games\",\n",
       "       '3-Month PS Plus + $50 PS Gift Card - PS3 / PS4 [Digital Code]',\n",
       "       'Xbox Live 12-Month Gold + $25 Xbox Gift Card - Xbox 360 Digital Code',\n",
       "       '8 Card Game Pack [Download]',\n",
       "       'Xbox Live 3-Month Gold + $10 Xbox Gift Card - Xbox 360 Digital Code',\n",
       "       'Xbox Live 3-Month Gold + $25 Xbox Gift Card - Xbox 360 Digital Code',\n",
       "       'Xbox $50 Gift Card for Call of Duty Ghosts Season Pass - Xbox 360 Digital Code',\n",
       "       'Xbox Live $9 Gift Card - Xbox 360 Digital Code',\n",
       "       '5 Realms of Cards [Download]',\n",
       "       'Xbox $50 Gift Card (Battlefield 4 Premium)- Xbox 360 Digital Code',\n",
       "       'Xbox $30 Gift Card for Dead Rising 3 Season Pass - Xbox 360 Digital Code',\n",
       "       'Xbox $50 Gift Card for Forza Motorsport 5 Car Pass DLC - Xbox 360 Digital Code',\n",
       "       'Xbox Live 3-Month Gold + $50 Xbox Gift Card - Xbox 360 Digital Code',\n",
       "       'Xbox Live 12-Month Gold + $50 Xbox Gift Card - Xbox 360 Digital Code',\n",
       "       'Xbox $20 Gift Card for Ryse Son of Rome Season Pass - Xbox 360 Digital Code',\n",
       "       '5 Card Slingo [Download]', 'Card Crazy! [Download]',\n",
       "       'Rift 30 Day Game Time Card [Online Game Code]',\n",
       "       'Bicylce Family Card Games [Download]',\n",
       "       'Rift 60 Day Game Time Card [Online Game Code]',\n",
       "       'High Stakes Poker: Connelly Card Club [Online Game Code]',\n",
       "       'Strange Cases: The Tarot Card Mystery [Download]'], dtype=object)"
      ]
     },
     "execution_count": 26,
     "metadata": {},
     "output_type": "execute_result"
    }
   ],
   "source": [
    "Sub_Card = df_raw[df_raw['product_title'].str.contains('Card')]\n",
    "Sub_Card['product_title'].unique()"
   ]
  },
  {
   "cell_type": "code",
   "execution_count": 27,
   "metadata": {},
   "outputs": [
    {
     "data": {
      "text/plain": [
       "array(['Playstation Network Card',\n",
       "       'Sony Playstation Network Card - $10 [Online Game Code]'],\n",
       "      dtype=object)"
      ]
     },
     "execution_count": 27,
     "metadata": {},
     "output_type": "execute_result"
    }
   ],
   "source": [
    "Sub_Network = df_raw[df_raw['product_title'].str.contains('Network')]\n",
    "Sub_Network['product_title'].unique()"
   ]
  },
  {
   "cell_type": "code",
   "execution_count": 28,
   "metadata": {},
   "outputs": [
    {
     "data": {
      "text/plain": [
       "1"
      ]
     },
     "execution_count": 28,
     "metadata": {},
     "output_type": "execute_result"
    }
   ],
   "source": [
    "df_raw['product_category'].nunique()"
   ]
  },
  {
   "cell_type": "code",
   "execution_count": 380,
   "metadata": {},
   "outputs": [
    {
     "data": {
      "text/plain": [
       "array([2, 5, 4, 1, 3])"
      ]
     },
     "execution_count": 380,
     "metadata": {},
     "output_type": "execute_result"
    }
   ],
   "source": [
    "df_raw['star_rating'].unique()"
   ]
  },
  {
   "cell_type": "code",
   "execution_count": 372,
   "metadata": {
    "scrolled": true
   },
   "outputs": [
    {
     "data": {
      "text/plain": [
       "0        2015-08-31\n",
       "1        2015-08-31\n",
       "2        2015-08-31\n",
       "3        2015-08-31\n",
       "4        2015-08-31\n",
       "            ...    \n",
       "144719   2008-12-25\n",
       "144720   2008-12-24\n",
       "144721   2008-09-10\n",
       "144722   2008-09-01\n",
       "144723   2006-08-08\n",
       "Name: review_date, Length: 144724, dtype: datetime64[ns]"
      ]
     },
     "execution_count": 372,
     "metadata": {},
     "output_type": "execute_result"
    }
   ],
   "source": [
    "df_raw['review_date'] = pd.to_datetime(df_raw['review_date'])\n",
    "df_raw['review_date']"
   ]
  },
  {
   "cell_type": "markdown",
   "metadata": {},
   "source": [
    "Reviews go from 2006 to 2015"
   ]
  },
  {
   "cell_type": "markdown",
   "metadata": {},
   "source": [
    "## Data Preparation"
   ]
  },
  {
   "cell_type": "markdown",
   "metadata": {},
   "source": [
    "Droping all rows that have strings: \n",
    "Subscription, Month, Membership,Network on the `product_title` column"
   ]
  },
  {
   "cell_type": "code",
   "execution_count": 413,
   "metadata": {},
   "outputs": [],
   "source": [
    "df_raw_noSub = df_raw[df_raw[\"product_title\"].str.contains(\"Subscription|Month|month|Membership|Network|Season Pass|Xbox Music Pass|Virtual Currency\") == False]"
   ]
  },
  {
   "cell_type": "markdown",
   "metadata": {},
   "source": [
    "Season Pass, Xbox Music Pass and Virtual Currency are some of the other kind of items on the dataset, i simply added them on the line above as i kept finding more during the process"
   ]
  },
  {
   "cell_type": "markdown",
   "metadata": {},
   "source": [
    "For titles that have string 'Card' in the title, i have to be more careful since there are some game that include that on their name"
   ]
  },
  {
   "cell_type": "code",
   "execution_count": 414,
   "metadata": {
    "scrolled": true
   },
   "outputs": [
    {
     "data": {
      "text/plain": [
       "array(['Xbox Live Gift Card', 'Xbox 360 Live Points Card',\n",
       "       'Grand Theft Auto V Cash Cards', 'Hoyle Card Games 2012 AMR',\n",
       "       'Final Fantasy XIV Online: 60 Day Time Card [Online Game Code]',\n",
       "       'Hoyle Card Games  [Download]',\n",
       "       'Xbox $5 Gift Card - Xbox 360 Digital Code',\n",
       "       \"Hoyle Kid's Card Games [Download]\",\n",
       "       'Legends of Solitaire: The Lost Cards [Download]',\n",
       "       'Xbox $15 Gift Card (Call of Duty Ghosts:\\xa0Onslaught DLC) - Xbox 360 Digital Code',\n",
       "       'Tripeaks Solitaire Multi (Tripeaks with Multiple Card-Sets and Multiple Layouts) [Download]',\n",
       "       'Reel Deal Card Games 2011 [Download]',\n",
       "       '2,013 Card, Mahjongg & Solitaire Games [Download]',\n",
       "       'Hoyle Card Games [Mac Download]',\n",
       "       '1-Year PS Plus + $10 PS Gift Card - PS3 / PS4 [Digital Code]',\n",
       "       'Five Card Deluxe [Download]',\n",
       "       '1-Year PS Plus + $50 PS Gift Card - PS3 / PS4 [Digital Code]',\n",
       "       'Xbox Live $6 Gift Card - Xbox 360 Digital Code',\n",
       "       '1-Year PS Plus + $20 PS Gift Card - PS3 / PS4 [Digital Code]',\n",
       "       'Xbox Live $35 Gift Card - Xbox 360 Digital Code',\n",
       "       \"King's Collection: 6 Classic Card Games\",\n",
       "       '8 Card Game Pack [Download]',\n",
       "       'Xbox Live $9 Gift Card - Xbox 360 Digital Code',\n",
       "       '5 Realms of Cards [Download]',\n",
       "       'Xbox $50 Gift Card (Battlefield 4 Premium)- Xbox 360 Digital Code',\n",
       "       'Xbox $50 Gift Card for Forza Motorsport 5 Car Pass DLC - Xbox 360 Digital Code',\n",
       "       '5 Card Slingo [Download]', 'Card Crazy! [Download]',\n",
       "       'Rift 30 Day Game Time Card [Online Game Code]',\n",
       "       'Bicylce Family Card Games [Download]',\n",
       "       'Rift 60 Day Game Time Card [Online Game Code]',\n",
       "       'High Stakes Poker: Connelly Card Club [Online Game Code]',\n",
       "       'Strange Cases: The Tarot Card Mystery [Download]'], dtype=object)"
      ]
     },
     "execution_count": 414,
     "metadata": {},
     "output_type": "execute_result"
    }
   ],
   "source": [
    "Sub_Card2 = df_raw_noSub[df_raw_noSub['product_title'].str.contains('Card')]\n",
    "Sub_Card2['product_title'].unique()"
   ]
  },
  {
   "cell_type": "markdown",
   "metadata": {},
   "source": [
    "First i will drop rows where 'Gift Card' is found, then i will proceed with other common combinations of words like 'Xbox Live' and Live Points Card"
   ]
  },
  {
   "cell_type": "code",
   "execution_count": 415,
   "metadata": {},
   "outputs": [],
   "source": [
    "df_raw_noSub2 = df_raw_noSub[df_raw_noSub[\"product_title\"].str.contains(\"Gift Card|Xbox Live|Live Points Card|Xbox Live Gift Card|Grand Theft Auto V Cash Cards\") == False]"
   ]
  },
  {
   "cell_type": "code",
   "execution_count": 416,
   "metadata": {
    "scrolled": true
   },
   "outputs": [
    {
     "data": {
      "text/plain": [
       "array(['Hoyle Card Games 2012 AMR',\n",
       "       'Final Fantasy XIV Online: 60 Day Time Card [Online Game Code]',\n",
       "       'Hoyle Card Games  [Download]',\n",
       "       \"Hoyle Kid's Card Games [Download]\",\n",
       "       'Legends of Solitaire: The Lost Cards [Download]',\n",
       "       'Tripeaks Solitaire Multi (Tripeaks with Multiple Card-Sets and Multiple Layouts) [Download]',\n",
       "       'Reel Deal Card Games 2011 [Download]',\n",
       "       '2,013 Card, Mahjongg & Solitaire Games [Download]',\n",
       "       'Hoyle Card Games [Mac Download]', 'Five Card Deluxe [Download]',\n",
       "       \"King's Collection: 6 Classic Card Games\",\n",
       "       '8 Card Game Pack [Download]', '5 Realms of Cards [Download]',\n",
       "       '5 Card Slingo [Download]', 'Card Crazy! [Download]',\n",
       "       'Rift 30 Day Game Time Card [Online Game Code]',\n",
       "       'Bicylce Family Card Games [Download]',\n",
       "       'Rift 60 Day Game Time Card [Online Game Code]',\n",
       "       'High Stakes Poker: Connelly Card Club [Online Game Code]',\n",
       "       'Strange Cases: The Tarot Card Mystery [Download]'], dtype=object)"
      ]
     },
     "execution_count": 416,
     "metadata": {},
     "output_type": "execute_result"
    }
   ],
   "source": [
    "Sub_Card3 = df_raw_noSub2[df_raw_noSub2['product_title'].str.contains('Card')]\n",
    "Sub_Card3['product_title'].unique()"
   ]
  },
  {
   "cell_type": "markdown",
   "metadata": {},
   "source": [
    "Seems like items left with string card in the title are actual games\n",
    "\n",
    "<br>\n",
    "\n",
    "Lets look for DLCs"
   ]
  },
  {
   "cell_type": "code",
   "execution_count": 417,
   "metadata": {},
   "outputs": [
    {
     "data": {
      "text/plain": [
       "212"
      ]
     },
     "execution_count": 417,
     "metadata": {},
     "output_type": "execute_result"
    }
   ],
   "source": [
    "DLC = df_raw_noSub2[df_raw_noSub2['product_title'].str.contains('DLC')]\n",
    "DLC['product_title'].nunique()"
   ]
  },
  {
   "cell_type": "code",
   "execution_count": 418,
   "metadata": {},
   "outputs": [
    {
     "data": {
      "text/plain": [
       "1698"
      ]
     },
     "execution_count": 418,
     "metadata": {},
     "output_type": "execute_result"
    }
   ],
   "source": [
    "len(df_raw_noSub2[df_raw_noSub2['product_title'].str.contains('DLC')])"
   ]
  },
  {
   "cell_type": "markdown",
   "metadata": {},
   "source": [
    "We have 215 different dlcs, and 1721 reviews, an original copy of the first game is required to be able to run a DLC, I will drop these too."
   ]
  },
  {
   "cell_type": "code",
   "execution_count": 419,
   "metadata": {},
   "outputs": [],
   "source": [
    "df_raw_noSub_no_DLC = df_raw_noSub2[df_raw_noSub2[\"product_title\"].str.contains(\"DLC|Pack\") == False]"
   ]
  },
  {
   "cell_type": "code",
   "execution_count": 420,
   "metadata": {},
   "outputs": [
    {
     "data": {
      "text/plain": [
       "6206"
      ]
     },
     "execution_count": 420,
     "metadata": {},
     "output_type": "execute_result"
    }
   ],
   "source": [
    "df_raw_noSub_no_DLC['product_title'].nunique()"
   ]
  },
  {
   "cell_type": "code",
   "execution_count": 421,
   "metadata": {},
   "outputs": [
    {
     "data": {
      "text/plain": [
       "7081"
      ]
     },
     "execution_count": 421,
     "metadata": {},
     "output_type": "execute_result"
    }
   ],
   "source": [
    "df_raw_noSub_no_DLC['product_id'].nunique()"
   ]
  },
  {
   "cell_type": "markdown",
   "metadata": {},
   "source": [
    "Quantity for product id and product title still doesn't match"
   ]
  },
  {
   "cell_type": "code",
   "execution_count": 422,
   "metadata": {
    "scrolled": true
   },
   "outputs": [
    {
     "data": {
      "text/plain": [
       "['007 Legends [Download]',\n",
       " '1 Moment Of Time: Silentville [Download]',\n",
       " '1 PLEX: EVE Online [Instant Access]',\n",
       " '1 Penguin 100 Cases [Download]',\n",
       " '1 vs 100 [Download]',\n",
       " '10 Talismans [Download]',\n",
       " '100 % Hidden Objects 2 [Download]',\n",
       " '100% Hidden Object (Mac) [Download]',\n",
       " '100% Hidden Objects',\n",
       " '1001 Japanese Crosswords',\n",
       " '1001 Kidz Games [Download]',\n",
       " '1001 Mini-Golf Challenge [Download]',\n",
       " '1001 Nights: The Adventures of Sindbad',\n",
       " '1001 Tangram Puzzles',\n",
       " '101 - in - 1 Megamix [Online Game Code]',\n",
       " '1080° Snowboarding [Online Game Code]',\n",
       " '12 Labours of Hercules 3: Girl Power [Download]',\n",
       " '12 Labours of Hercules II: The Cretan Bull [Download]',\n",
       " '12 Labours of Hercules [Download]',\n",
       " '12 PLEX: EVE Online [Instant Access]',\n",
       " '12000 AC plus Game Booster Addon: AdventureQuest Worlds [Game Connect]',\n",
       " '15 Square Slider Puzzle [Download]',\n",
       " '16 Bit Arena [Download]',\n",
       " '18 Wheels of Steel American Long Haul [Download]',\n",
       " '18 Wheels of Steel American Long Haul [Online Game Code]',\n",
       " '18 Wheels of Steel Extreme Trucker',\n",
       " '18 Wheels of Steel Extreme Trucker [Download]',\n",
       " '18 Wheels of Steel Haulin',\n",
       " '18 Wheels of Steel: American Long Haul',\n",
       " '18 Wheels of Steel: Extreme Trucker 2 [Download]',\n",
       " '1849 [Download]',\n",
       " '1912 Titanic Mystery [Download]',\n",
       " '1914 Shells of Fury [Download]',\n",
       " '1942: Joint Strike [Online Game Code]',\n",
       " '1942: The Pacific Air War [Online Game Code]',\n",
       " '1953 KGB Unleashed [Download]',\n",
       " '1954: Alcatraz',\n",
       " '1984 Digital Board Game',\n",
       " '2 Fast Driver [Download]',\n",
       " '2 PLEX: EVE Online [Instant Access]',\n",
       " '2,013 Card, Mahjongg & Solitaire Games [Download]',\n",
       " '20,000 Leagues Under the Sea',\n",
       " '20,000 Leagues Under the Sea [Download]',\n",
       " '20,000 Leagues under the Sea - Captain Nemo (Mac) [Download]',\n",
       " '20,000 Leagues under the Sea - Captain Nemo [Download]',\n",
       " '2000 AC plus Game Booster Addon: AdventureQuest Worlds [Game Connect]',\n",
       " '23000 Aurum: EVE Online [Instant Access]',\n",
       " '28 PLEX: EVE Online [Instant Access]',\n",
       " '2D Mahjong Temple [Download]',\n",
       " '3 Days: Zoo Mystery [Download]',\n",
       " '3 PLEX: EVE Online [Instant Access]',\n",
       " '3 Stars of Destiny [Download]',\n",
       " '30 Days of Game Time with Exclusive Ship: EVE Online [Game Connect]',\n",
       " '300 Dwarves',\n",
       " '300 Dwarves PC [Online Game Code]',\n",
       " '3003 Crystal Mazes',\n",
       " '3D Ultra Minigolf [Online Game Code]',\n",
       " '4 Elements 2 [Download]',\n",
       " '4 Elements [Download]',\n",
       " '4X4 Hummer',\n",
       " '4x4 Military Operations : Mission Cargo [Download]',\n",
       " '5 Card Slingo [Download]',\n",
       " '5 Realms of Cards [Download]',\n",
       " '5 Spots II [Download]',\n",
       " '5-in-1 Arcade Hits [Online Game Code]',\n",
       " '5000 AC plus Game Booster Addon: AdventureQuest Worlds [Game Connect]',\n",
       " '6 Nights [Download]',\n",
       " '6 PLEX: EVE Online [Instant Access]',\n",
       " '60 Days of Game Time with Exclusive Ship: EVE Online [Game Connect]',\n",
       " '688I Hunter Killer [Download]',\n",
       " '7 Gates: The Path to Zamolxes [Download]',\n",
       " '7 Wonders - Treasures of Seven',\n",
       " '7 Wonders 4 - Magical Mystery Tour [Download]',\n",
       " '7 Wonders Treasures of Seven [Online Game Code]',\n",
       " '7 Wonders [Download]',\n",
       " '7 Wonders of the Ancient World 2',\n",
       " '7 Wonders: Ancient Alien Makeover [Download]',\n",
       " '7.62 [Download]',\n",
       " '7th Legion [Download]',\n",
       " '8-Bit RPG Creator Demo [Download]',\n",
       " '80 Days [Download]',\n",
       " '8BitMMO [Game Connect]',\n",
       " '9 Clues 2: The Ward (Mystery Masters) Hidden Object Game [Download]',\n",
       " '9 Clues: The Secret Of Serpent Creek [Download]',\n",
       " '900 Aurum: EVE Online [Instant Access]',\n",
       " '911 Paramedic [Download]',\n",
       " '911: First Responders [Download]',\n",
       " '99 Spirits',\n",
       " '9th Company [Download]',\n",
       " 'A Fairy Tale',\n",
       " 'A Game Of Dwarves [Online Game Code]',\n",
       " 'A Game of Thrones - Genesis [Download]',\n",
       " 'A Girl in the City [Download]',\n",
       " \"A Gypsy's Tale: The Tower of Secrets [Download]\",\n",
       " 'A Kingdom for Keflings [Online Game Code]',\n",
       " 'A Magnetic Adventure [Download]',\n",
       " 'A New Beginning [Download]',\n",
       " 'A New Reckoning [Online Game Code]',\n",
       " 'A Story About My Uncle [Online Game Code]',\n",
       " 'A Vampire Romance [Download]',\n",
       " 'A Vampire Romance: Paris Stories [Download]',\n",
       " 'A Vampire Tale [Download]',\n",
       " 'A Walk in the Dark [Download]',\n",
       " 'A-Race: Extreme Show [Download]',\n",
       " 'A-Train 8',\n",
       " 'A.I.M. [Download]',\n",
       " 'AC-130 [Download]',\n",
       " 'AC-130: Operation Devastation',\n",
       " 'ACE Online [Game Connect]',\n",
       " 'AIM 2',\n",
       " 'ALPAGES THE FIVE BOOKS ALPHA 1.0 [Download]',\n",
       " 'ANNO 2070 - Deluxe Edition [Download]',\n",
       " 'ANNO 2070 [Download]',\n",
       " 'APB Reloaded',\n",
       " 'ARK: Survival Evolved Early Access [Online Game Code]',\n",
       " 'ARMA 2 British Armed Forces [Download]',\n",
       " 'ARMA 2 Private Military Company [Download]',\n",
       " 'ATV Fever [Download]',\n",
       " 'ATV GP [Download]',\n",
       " 'ATV Mudracer [Download]',\n",
       " 'ATV Quad Kings [Download]',\n",
       " 'AURA 2: The Sacred Rings [Download]',\n",
       " 'AURA: Fate of the Ages [Download]',\n",
       " 'Abalone [Online Game Code]',\n",
       " 'Abandoned Town - Hidden Object Game [Download]',\n",
       " 'Abigail and the Kingdom of Fairs [Download]',\n",
       " 'About to BLOW UP Part 1 [Download]',\n",
       " 'Abra Academy [Download]',\n",
       " 'Absolute Solitaire Pro [Download]',\n",
       " 'Abundante! [Download]',\n",
       " 'Abyss Odyssey',\n",
       " 'Abyss: The Wraiths of Eden',\n",
       " 'Academy of Magic: Word Spells [Download]',\n",
       " 'Ace Combat Joint Assault',\n",
       " 'Ace Combat: Assault Horizon [Online Game Code]',\n",
       " 'Ace Patrol [Download]',\n",
       " 'Ace Patrol: Pacific Skies [Online Game Code]',\n",
       " 'Ace of Spades: Battle Builder [Online Game Code]',\n",
       " 'Aces of the Galaxy [Online Game Code]',\n",
       " 'Achtung Panzer: Operation Star [Download]',\n",
       " \"Acky's XP Breakout [Download]\",\n",
       " 'Acropolis [Download]',\n",
       " 'Across The Plains - Hidden Object Game [Download]',\n",
       " 'Action Ball 2',\n",
       " 'Action Ball Deluxe [Download]',\n",
       " 'Action Race [Download]',\n",
       " 'Activision Hits Remixed [Online Game Code]',\n",
       " \"Adam's Venture 1 [Download]\",\n",
       " \"Adam's Venture 2 [Download]\",\n",
       " \"Adam's Venture 3 [Download]\",\n",
       " \"Adam's Venture [Download]\",\n",
       " 'Adelantado Trilogy. Book One [Download]',\n",
       " 'Adelantado Trilogy. Book Two [Download]',\n",
       " 'Adventure Ball [Download]',\n",
       " 'Adventure Bundle! [Download]',\n",
       " 'Adventure Chronicles [Download]',\n",
       " 'Adventure Inlay [Download]',\n",
       " 'Adventure Inlay: Safari Edition [Download]',\n",
       " 'AdventureQuest 5000 Z-Tokens [Game Connect]',\n",
       " 'AdventureQuest Worlds [Game Connect]',\n",
       " 'Adventures To Go! [Online Game Code]',\n",
       " 'Adventures of Robinson Crusoe [Download]',\n",
       " 'Aerie - Spirit of the Forest [Download]',\n",
       " 'Afterfall InSanity Extended Edition [Online Game Code]',\n",
       " 'Agatha Christie 3 in 1 Bundle [Download]',\n",
       " 'Agatha Christie 4:50 from Paddington [Download]',\n",
       " 'Agatha Christie: And Then There Were None [Download]',\n",
       " \"Agatha Christie: Dead Man's Folly [Download]\",\n",
       " 'Agatha Christie: Death on the Nile [Download]',\n",
       " 'Agatha Christie: Evil Under the Sun [Download]',\n",
       " 'Agatha Christie: Murder on the Orient Express [Download]',\n",
       " 'Agatha Christie: Peril at End House [Download]',\n",
       " 'Age of Booty [Download]',\n",
       " 'Age of Booty [Online Game Code]',\n",
       " 'Age of Castles [Download]',\n",
       " 'Age of Conquest III [Download]',\n",
       " 'Age of Emerald [Download]',\n",
       " 'Age of Empires Bundle [Online Game Code]',\n",
       " 'Age of Empires II + The Forgotten Expansion pack [Online Game Code]',\n",
       " 'Age of Empires II HD [Online Game Code]',\n",
       " 'Age of Empires III Complete Collection',\n",
       " 'Age of Empires II\\xa0 HD: The Forgotten [Online Game Code]',\n",
       " 'Age of Fear 2 The Chaos Lord',\n",
       " 'Age of Hammer Wars [Online Game Code]',\n",
       " 'Age of Japan [Download]',\n",
       " 'Age of Mahjong [Download]',\n",
       " \"Age of Wonders 2: The Wizard's Throne [Online Game Code]\",\n",
       " 'Age of Wonders [Online Game Code]',\n",
       " \"Age of Wushu 'Ensnare the Soul Skill Set' [Download]\",\n",
       " \"Age of Wushu 'The Flaming Sun Blade' [Download]\",\n",
       " 'Age of Wushu [Game Connect]',\n",
       " 'Age of Zombies [Online Game Code]',\n",
       " 'Agricultural Simulator 2011 Add-On Biogas [Download]',\n",
       " 'Agricultural Simulator 2011 Extended Edition [Download]',\n",
       " 'Agricultural Simulator 2011 Gold Edition [Download]',\n",
       " 'Agricultural Simulator 2012 [Download]',\n",
       " 'Agricultural Simulator Historical Farming [Download]',\n",
       " 'Aika [Game Connect]',\n",
       " 'Air Battles: Sky Defender',\n",
       " 'Air Conflicts: Pacific Carriers',\n",
       " 'Air Strike II: Gulf Thunder [Download]',\n",
       " 'AirBuccaneers [Online Game Code]',\n",
       " 'AirMech',\n",
       " 'Aircraft Defense Action Game [Download]',\n",
       " 'Airline Baggage Mania - Deluxe Edition (English) [Download]',\n",
       " 'Airline Tycoon 2 [Download]',\n",
       " 'Airline Tycoon 2: GOLD\\xa0 [Download]',\n",
       " 'Airline Tycoon Deluxe [Download]',\n",
       " 'Airlines 2',\n",
       " 'Airport Control Simulator [Download]',\n",
       " 'Airport Firefighter Simulator (MAC-Multilingual) [Download]',\n",
       " 'Airport Firefighter Simulator 2013 EN (MULTILINGUAL) [Download]',\n",
       " 'Airport Firefighter Simulator [Download]',\n",
       " 'Airport Madness 4 [Download]',\n",
       " 'Airport Madness World Edition [Download]',\n",
       " 'Airport Mania 2: Wild Trips - Premium Edition',\n",
       " 'Airport Mania 2: Wild Trips - Standard Edition',\n",
       " 'Airport Mania: First Flight',\n",
       " 'Airport Simulator 2013 MAC [Download]',\n",
       " 'Airport Simulator 2013 [Download]',\n",
       " 'Airport Simulator 2014 [Online Game Code]',\n",
       " 'Airport Simulator 2015 [Online Game Code]',\n",
       " 'Airport Simulator [Download]',\n",
       " \"Al Emmo and The Lost Dutchman's Mine [Download]\",\n",
       " 'Alabama Smith in Escape from Pompeii',\n",
       " 'Alabama Smith in the Quest of Fate [Download]',\n",
       " \"Alan Wake Collector's Bundle [Download]\",\n",
       " 'Alan Wake [Download]',\n",
       " \"Alan Wake's American Nightmare [Download]\",\n",
       " 'Alcatraz',\n",
       " 'Alchemy',\n",
       " 'Alchemy Mysteries: Prague Legends [Download]',\n",
       " 'Alea Jacta Est [Download]',\n",
       " 'Alex Gordon [Download]',\n",
       " 'Alex Hunter: Lord of the Mind [Download]',\n",
       " 'Alexander the Great: The Secret of Power [Download]',\n",
       " 'Alexandra Fortune: Mystery of the Lunar Archipelago [Download]',\n",
       " 'Alice Greenfingers 2 [Download]',\n",
       " 'Alice Greenfingers [Download]',\n",
       " 'Alice Madness Returns Complete Collection [Instant Access]',\n",
       " 'Alice and the Magic Gardens [Download]',\n",
       " 'Alice in Wonderland [Download]',\n",
       " \"Alice's Adventures in Wonderland [Download]\",\n",
       " \"Alice's Magical Mahjong [Download]\",\n",
       " \"Alice's Tea Cup Madness [Download]\",\n",
       " 'Alice: Madness Returns',\n",
       " 'Alice: Madness Returns The Complete Collection [Download]',\n",
       " 'Alien Breed 2: Assault [Online Game Code]',\n",
       " 'Alien Breed : Assault [Download]',\n",
       " 'Alien Breed : Descent [Download]',\n",
       " 'Alien Breed : Impact [Download]',\n",
       " 'Alien Breed Trilogy [Download]',\n",
       " 'Alien Breed: Impact [Online Game Code]',\n",
       " 'Alien Hallway [Download]',\n",
       " 'Alien Hominid HD [Online Game Code]',\n",
       " 'Alien Invasion [Download]',\n",
       " 'Alien Outbreak 2: Invasion [Download]',\n",
       " 'Alien Rage - Unlimited [Online Game Code]',\n",
       " 'Alien Shooter 2 - Conscription [Download]',\n",
       " 'Alien Shooter 2 - Reloaded [Download]',\n",
       " 'Alien Shooter II - Vengeance',\n",
       " 'Alien Shooter [Download]',\n",
       " 'Alien Soldier [Download]',\n",
       " 'Alien Stars [Download]',\n",
       " 'Alien Zombie Death [Online Game Code]',\n",
       " 'Alien vs Predator',\n",
       " 'Alien: Isolation',\n",
       " 'Aliens: Colonial Marines',\n",
       " 'All in Poker Bundle [Download]',\n",
       " 'All-in-One Mahjong',\n",
       " 'All-in-One Mahjong 2',\n",
       " 'All-in-One Solitaire',\n",
       " 'Allods [Game Connect]',\n",
       " 'Aloha Solitaire [Download]',\n",
       " 'Aloha Tripeaks [Download]',\n",
       " 'Alone In The Dark 4: The New Nightmare [Download]',\n",
       " 'Alpha Kimori Great Doubt Episode One [Download]',\n",
       " 'Alpha Polaris [Game Download]',\n",
       " 'Alpha Prime [Download]',\n",
       " 'Alpha Prime [Online Game Code]',\n",
       " 'Alpha Protocol [Download]',\n",
       " 'Alphabet Robots Mahjong [Download]',\n",
       " 'Alter Ego',\n",
       " 'Alter Ego [Online Game Code]',\n",
       " 'Altered Beast',\n",
       " 'Altered Beast [Online Game Code]',\n",
       " 'Alternativa [Download]',\n",
       " 'Alundra',\n",
       " 'Amanda Rose: The Game of Time [Download]',\n",
       " 'Amazing Adventures Around the World [Instant Access]',\n",
       " 'Amazing Adventures Riddle of the Two Knights [Online Game Code]',\n",
       " 'Amazing Adventures The Lost Tomb [Download]',\n",
       " 'Amazing Adventures of the Caribbean Secret [Online Game Code]',\n",
       " 'Amazing Adventures of the Forgotten Dynasty [Online Game Code]',\n",
       " 'Amazing Heists: Dillinger [Download]',\n",
       " \"Amazon's Choice Bundle [Download]\",\n",
       " 'Amelia vs. the Marathon [Download]',\n",
       " \"Amelie's Cafe [Download]\",\n",
       " \"Amelie's Cafe: Halloween [Download]\",\n",
       " \"Amelie's Cafe: Holiday Spirit [Download]\",\n",
       " \"Amelie's Cafe: Summer Time [Download]\",\n",
       " 'American Frontier - Hidden Object Game [Download]',\n",
       " 'American Lowriders [Download]',\n",
       " 'American Mensa Academy [Online Game Code]',\n",
       " 'American Pickers',\n",
       " 'American Sniper [Download]',\n",
       " \"Amerzone - The Explorer's Legacy [Download]\",\n",
       " 'Amnesia [Download]',\n",
       " 'Among Ripples [Download]',\n",
       " 'Ampu-Tea [Online Game Code]',\n",
       " 'Amputea [Download]',\n",
       " 'Amsterdam Street Racer [Download]',\n",
       " 'Amtrak F40PH ‘California Zephyr’ Loco Add-On [Online Game Code]',\n",
       " 'Amtrak P30CH Loco Add-On [Online Game Code]',\n",
       " \"Amtrak P42 DC 'Empire Builder' Loco Add-On [Online Game Code]\",\n",
       " 'Amulet of Time: Shadow of La Rochelle [Download]',\n",
       " 'An adventure in Italy - Hidden Objects Game [Download]',\n",
       " 'Analogy Test [Download]',\n",
       " 'Ancient Hearts and Spades [Download]',\n",
       " 'Ancient Mosaic [Download]',\n",
       " 'Ancient Quest of Saqqarah [Download]',\n",
       " 'Ancient Secrets - Mystery of the Vanishing Bride [Download]',\n",
       " 'Ancient Secrets [Download]',\n",
       " 'Ancient Space [Online Game Code]',\n",
       " 'Ancient Spirits - Columbus Legacy [Download]',\n",
       " 'Ancient Sudoku [Download]',\n",
       " 'Ancient Trader [Download]',\n",
       " 'Ancient Tripeaks II [Download]',\n",
       " 'Ancient Tripeaks [Download]',\n",
       " 'Angel Code [Download]',\n",
       " 'Angela Young 2: Escape the Dreamscape [Download]',\n",
       " \"Angela Young's Dream Adventure [Download]\",\n",
       " 'Angelica Weaver - Catch Me When You Can [Download]',\n",
       " 'Angry Birds - Mini  [Online Game Code]',\n",
       " 'Angry Birds Star Wars',\n",
       " 'Anka [Download]',\n",
       " 'Ankh 2: Heart Of Osiris [Download]',\n",
       " 'Ankh 3: Battle Of The Gods [Download]',\n",
       " \"Anna's Quest [Download]\",\n",
       " 'Annabel [Download]',\n",
       " \"Annie's Millions [Download]\",\n",
       " 'Anno 2070 Complete Edition [Download]',\n",
       " 'Anno 2070 Deep Ocean [Online Game Code]',\n",
       " 'Anodyne [Download]',\n",
       " 'Anodyne [Onlne Game Code]',\n",
       " 'Another World - 20th Anniversary Edition [Online Game Code]',\n",
       " 'Ant War [Download]',\n",
       " 'Antair Sudoku [Download]',\n",
       " 'Antique Road Trip USA [Download]',\n",
       " 'Antique Shop: Book of Souls [Download]',\n",
       " 'Antiques Roadshow [Download]',\n",
       " 'Antiquity - Hidden Object Game [Download]',\n",
       " 'Antisquad [Online Game Code]',\n",
       " 'Apothecarium [Download]',\n",
       " 'Aqua Real 2 [Download]',\n",
       " 'Aqua Slider [Download]',\n",
       " 'AquaPazza',\n",
       " 'Aquaball [Download]',\n",
       " 'Aquabble Avalanche [Download]',\n",
       " 'Aquanoid 2 Reloaded (English) [Download]',\n",
       " 'Aquanox 2: Revelation [Download]',\n",
       " 'Aquascapes [Download]',\n",
       " 'Aquitania [Download]',\n",
       " 'Arcade Attack! [Download]',\n",
       " 'Arcade Blockbusters [Download]',\n",
       " 'Arcade Favorites! [Download]',\n",
       " 'Arcana Heart 3',\n",
       " 'ArcaniA - Fall of Setarrif [Download]',\n",
       " 'ArcaniA - Gothic 4 [Download]',\n",
       " \"Arctic Adventures: Polar's Puzzles  [Online Game Code]\",\n",
       " 'Arctic Quest 2 [Download]',\n",
       " 'Arctic Quest [Download]',\n",
       " 'Arena of Heroes [Game Connect]',\n",
       " \"Arizona Rose and the Pirates' Riddles [Download]\",\n",
       " 'ArmA 2: Operation Arrowhead [Download]',\n",
       " 'ArmA II',\n",
       " 'ArmA2: Combined Operations [Download]',\n",
       " 'Armada 2526  [Download]',\n",
       " 'Armada 2526 Gold Edition [Download]',\n",
       " 'Armada 2526 Supernova  [Download]',\n",
       " \"Army of TWO The Devil's Cartel\",\n",
       " 'Around the World in 80 Days [Download]',\n",
       " 'Around the World in 80 Days: The Challenge [Download]',\n",
       " 'Art Mahjongg Egypt (English) [Download]',\n",
       " 'Art of Murder FBI Confidential [Download]',\n",
       " 'Artifacts Of Eternity [Download]',\n",
       " 'Artist Colony [Download]',\n",
       " 'Arxon [Download]',\n",
       " 'Ascension to the Throne [Download]',\n",
       " 'Ashley Clark: Secret of the Ruby [Download]',\n",
       " 'Ashley Jones and the Heart of Egypt [Download]',\n",
       " 'Ashtons Family Resort [Download]',\n",
       " 'Asian Mahjong [Download]',\n",
       " 'Asian Riddles 2 [Download]',\n",
       " 'Asian Riddles [Download]',\n",
       " \"Assassin's Creed\",\n",
       " \"Assassin's Creed 4\",\n",
       " \"Assassin's Creed Chronicles - China - Xbox One Digital Code\",\n",
       " \"Assassin's Creed Freedom Cry [Online Game Code]\",\n",
       " \"Assassin's Creed II [Mac Download]\",\n",
       " \"Assassin's Creed III\",\n",
       " \"Assassin's Creed IV Black Flag - PS3 [Digital Code]\",\n",
       " \"Assassin's Creed IV Black Flag Gold Edition - PS3 [Digital Code]\",\n",
       " \"Assassin's Creed IV Black Flag: Freedom Cry\",\n",
       " \"Assassin's Creed Legacy Bundle [Download]\",\n",
       " \"Assassin's Creed Liberation HD [Download]\",\n",
       " \"Assassin's Creed Revelations\",\n",
       " \"Assassin's Creed Revelations - Gold Edition [Download]\",\n",
       " \"Assassin's Creed Revelations [Download]\",\n",
       " \"Assassin's Creed Rogue\",\n",
       " \"Assassin's Creed Unity\",\n",
       " \"Assassin's Creed Unity Gold Edition [Online Game Code]\",\n",
       " \"Assassin's Creed bundle [Download]\",\n",
       " \"Assassin's Creed: Brotherhood\",\n",
       " 'Assassins Creed II',\n",
       " 'Assassin’s Creed Chronicles China - PS4 [Digital Code]',\n",
       " 'Assassin’s Creed Chronicles: China [Online Game Code]',\n",
       " 'Assault Heroes [Online Game Code]',\n",
       " 'Astro Avenger 2 [Download]',\n",
       " 'Astro Fury [Download]',\n",
       " 'Astro Tripper [Online Game Code]',\n",
       " 'AstroAvenger [Download]',\n",
       " 'Astroloco: Worst Contact',\n",
       " 'Atari 80 Classic Games in One [Download]',\n",
       " 'Atari: The 80 Classic Games in One [Download]',\n",
       " 'Atelier Rorona Plus The Alchemist Of Arland',\n",
       " 'Atlanta International Airport (KATL) for Tower! 2011 [DOWNLOAD]',\n",
       " 'Atlantic Quest the Underwater Match-3 Adventure [Download]',\n",
       " 'Atlantis 2 - Beyond Atlantis [Download]',\n",
       " 'Atlantis 3 - The New World [Download]',\n",
       " 'Atlantis Evolution [Download]',\n",
       " 'Atlantis Quest [Download]',\n",
       " 'Atlantis Trilogy Bundle [Download]',\n",
       " 'Atlantis: Pearls of the Deep [Download]',\n",
       " 'Australia Zoo Quest [Download]',\n",
       " 'Auto Club Revolution',\n",
       " \"Autumn's Treasures: The Jade Coin [Download]\",\n",
       " 'Avadon: The Black Fortress [Download]',\n",
       " 'Avalon Legends Solitaire [Download]',\n",
       " 'Avalon [Download]',\n",
       " 'Avatar',\n",
       " 'Avencast: Rise of the Mage [Download]',\n",
       " 'Avenue Flo [Download]',\n",
       " 'Avenue Flo: Special Delivery  [Download]',\n",
       " 'Avernum 6 [Download]',\n",
       " 'Avernum IV [Download]',\n",
       " 'Avernum: Escape From the Pit [Download]',\n",
       " 'Aveyond 2 [Download]',\n",
       " 'Aveyond [Download]',\n",
       " 'Aveyond: Gates of Night [Download]',\n",
       " 'Aveyond: Lord of Twilight [Download]',\n",
       " 'Aveyond: The Lost Orb [Download]',\n",
       " 'Aviator - Bush Pilot [Download]',\n",
       " 'Awakening: The Dreamless Castle [Download]',\n",
       " 'Axel & Pixel [Online Game Code]',\n",
       " 'Azada [Download]',\n",
       " 'Azada: Ancient Magic',\n",
       " 'Azkend [Download]',\n",
       " 'Aztaka [Download]',\n",
       " 'Aztec Ball [Download]',\n",
       " 'Aztec Bricks [Download]',\n",
       " 'Aztec Tribe [Download]',\n",
       " 'Aztec Tribe: New Land [Download]',\n",
       " 'Azteca [Download]',\n",
       " 'B17 Flying Fortress',\n",
       " 'B17 Flying Fortress [Download]',\n",
       " 'BC Kings [Download]',\n",
       " 'BC:Rearmed [Online Game Code]',\n",
       " 'BEYOND: Two Souls',\n",
       " 'BIT.TRIP BEAT',\n",
       " 'BIT.TRIP CORE',\n",
       " 'BIT.TRIP Presents - Runner2: Future Legend of Rhythm Alien',\n",
       " 'BIT.TRIP RUNNER',\n",
       " 'BLASTO! Space Bombardiers (Windows_x86_64) [Download]',\n",
       " 'BORDERLANDS 2 AND BORDERLANDS GOTY [Online Game Code]',\n",
       " 'Babel Deluxe [Download]',\n",
       " 'Babel Rising',\n",
       " 'Baby Luv [Download]',\n",
       " 'Babylonia [Download]',\n",
       " 'Back Lanes - Hidden Object Games [Download]',\n",
       " 'Back to the Future: The Game [Online Game Code]',\n",
       " 'Backgammon [Download]',\n",
       " 'Backroom Horror Story-No Way Out Deluxe [Download]',\n",
       " 'Backyard - Hidden Object Game [Download]',\n",
       " 'Backyard Sports: Rookie Rush [Download]',\n",
       " 'Bad Rats [Download]',\n",
       " \"Baldur's Gate Enhanced Edition [Online Game Code]\",\n",
       " \"Baldur's Gate II: Enhanced Edition [Online Game Code]\",\n",
       " 'Ball Buster Collection [Download]',\n",
       " 'Ballad of Solar [Download]',\n",
       " 'Ballistik [Download]',\n",
       " 'Ballville: The Beginning [Download]',\n",
       " 'Band of Bugs [Online Game Code]',\n",
       " 'Banjo-Kazooie [Online Game Code]',\n",
       " 'Barn Yarn [Download]',\n",
       " 'Barnyard Invasion [Download]',\n",
       " 'Baron Wittard [Download]',\n",
       " 'Baseball Home Run Derby [Download]',\n",
       " 'Baseball Mogul 2008',\n",
       " 'Baseball Mogul 2015 [Download]',\n",
       " 'Baseball World Series - 2014 [Download]',\n",
       " 'Baseball [Download]',\n",
       " 'Basketball Pro Management 2014 [Download]',\n",
       " 'Basketball Toss 3D [Download]',\n",
       " 'Bastion [Download]',\n",
       " 'Batman Arkham City',\n",
       " 'Batman Arkham City GOTY [Download]',\n",
       " 'Batman Arkham Origins',\n",
       " 'Batman Mega Bundle [Online Game Code]',\n",
       " 'Batman: Arkham Asylum',\n",
       " 'Batman: Arkham Asylum Game of the Year Edition',\n",
       " 'Batman: Arkham Knight',\n",
       " 'Batman: Arkham Knight: A Matter Of Family - PS4 [Digital Code]',\n",
       " 'Batman: Arkham Origins - Cold, Cold Heart [Online Game Code]',\n",
       " 'Battle Group 2 [Online Game Code]',\n",
       " 'Battle Mages [Download]',\n",
       " 'Battle Slots [Download]',\n",
       " 'Battle of Britain II: Wings of Victory',\n",
       " 'Battle: Los Angeles [Online Game Code]',\n",
       " 'BattlePaths [Download]',\n",
       " 'BattleSpace [Game Connect]',\n",
       " 'Battlefield 2 Complete Collection',\n",
       " 'Battlefield 2142 Deluxe Edition [Instant Access]',\n",
       " 'Battlefield 3',\n",
       " 'Battlefield 3 - Limited Edition - Preload Available [Download]',\n",
       " 'Battlefield 3 Close Quarters [Online Game Code]',\n",
       " 'Battlefield 3 Ultimate Shortcut Bundle [Online Game Code]',\n",
       " 'Battlefield 3 plus Premium Bundle [Download]',\n",
       " 'Battlefield 3: Aftermath [Download]',\n",
       " 'Battlefield 3: End Game [Instant Access]',\n",
       " 'Battlefield 3: Ultimate Shortcut Bundle [Instant Access]',\n",
       " 'Battlefield 4',\n",
       " 'Battlefield 4 + Battlefield 4 Premium [Online Game Code]',\n",
       " 'Battlefield 4 - PS3 [Digital Code]',\n",
       " 'Battlefield 4 Soldier Shortcut Bundle [Instant Access]',\n",
       " 'Battlefield 4 The Ultimate Shortcut Bundle [Instant Access]',\n",
       " \"Battlefield 4: Dragon's Teeth\",\n",
       " 'Battlefield 4: Final Stand - PS3 [Digital Code]',\n",
       " 'Battlefield 4: Naval Strike',\n",
       " 'Battlefield 4: Rising China',\n",
       " 'Battlefield 4: Second Assault',\n",
       " 'Battlefield 4: Weapon Shortcut Bundle  - PS3 [Digital Code]',\n",
       " 'Battlefield Bad Company 2 Ultimate Digital Collection [Download]',\n",
       " 'Battlefield Hardline',\n",
       " 'Battlefield: Bad Company 2',\n",
       " 'Battlefield: Bad Company 2 Vietnam - Expansion [Download]',\n",
       " 'Battleforge',\n",
       " 'Battlelost [Download]',\n",
       " 'Battleplan: American Civil War [Online Game Code]',\n",
       " 'Battleship Chess [Download]',\n",
       " 'Battleship [Download]',\n",
       " 'Battlestar Galactica Online [Game Connect]',\n",
       " 'Battlestations Midway',\n",
       " 'Battlestations Midway [Download]',\n",
       " 'Battlestations Pacific',\n",
       " 'Battlestations: Pacific [Online Game Code]',\n",
       " 'Be A King [Download]',\n",
       " 'Beach Party Craze [Download]',\n",
       " 'Beat Sketcher [Online Game Code]',\n",
       " 'Beat em up pack [Download]',\n",
       " 'Beats  [Online Game Code - Full Game]',\n",
       " 'Beauty Parlour - Hidden Object Game [Download]',\n",
       " 'Becky Brogan: The Mystery of Meane Manor [Download]',\n",
       " 'Bedtime Stories: The Lost Dreams (Mystery Masters) [Download]',\n",
       " 'Beetle Bomp [Download]',\n",
       " 'Beetle Bug 3 [Download]',\n",
       " 'Beetle Bug [Download]',\n",
       " 'Behind The Reflection 2 [Download]',\n",
       " 'Behind the Reflection [Download]',\n",
       " 'Bejeweled 2 [Online Game Code]',\n",
       " 'Bejeweled 3',\n",
       " 'Bejeweled Twist',\n",
       " 'Believe In Santa [Download]',\n",
       " 'Bengal: Game of Gods [Download]',\n",
       " 'Betrayer [Online Game Code]',\n",
       " \"Betty's Beer Bar [Download]\",\n",
       " 'Between the Worlds [Download]',\n",
       " 'Beware Planet Earth! [Download]',\n",
       " 'Beyond Good & Evil',\n",
       " 'Biathlon 2009 [Download]',\n",
       " 'Bible CrossWords [Download]',\n",
       " 'Bible Hangman Quest [Download]',\n",
       " 'Bible Word Scramble [Download]',\n",
       " 'Bible Word Search [Download]',\n",
       " 'Bicycle Blackjack [Download]',\n",
       " 'Bicycle Canasta [Download]',\n",
       " 'Bicycle Rummy [Download]',\n",
       " \"Bicycle Texas Hold 'em [Download]\",\n",
       " 'Bicylce Family Card Games [Download]',\n",
       " 'Bicyle Gin Rummy [Download]',\n",
       " 'Bicyle Solitaire [Download]',\n",
       " 'Big Barn - Hidden Object Games [Download]',\n",
       " 'Big City Adventure: Istanbul [Download]',\n",
       " 'Big City Adventure: London Classic [Download]',\n",
       " 'Big City Adventure: London Story [Download]',\n",
       " 'Big City Adventure: Paris [Download]',\n",
       " 'Big City Adventure: Rio de Janeiro [Download]',\n",
       " 'Big City Adventure: Tokyo [Download]',\n",
       " 'Big Island Blends [Download]',\n",
       " 'Big Kahuna Reef',\n",
       " 'Big Kahuna Reef 2: Chain Reaction',\n",
       " 'Big Kahuna Reef 3   [Download]',\n",
       " 'Big Kahuna Words',\n",
       " 'Big Mutha Truckers 2 [Download]',\n",
       " 'Big Rig Europe [Download]',\n",
       " 'Bigfoot: Chasing Shadows',\n",
       " 'Biggest Little Adventure [Download]',\n",
       " 'Bilbo: The Four Corners of the World [Download]',\n",
       " 'Billiards Champ 3D',\n",
       " 'Billy Hatcher and the Giant Egg',\n",
       " 'Binary Domain',\n",
       " 'Bingo [Instant Access]',\n",
       " 'BioShock',\n",
       " \"BioShock 2 - Minerva's Den [Online Game Code]\",\n",
       " 'BioShock 2 Rapture Metro [Online Game Code]',\n",
       " 'BioShock Challenge Rooms [Online Game Code]',\n",
       " 'BioShock Infinite',\n",
       " 'BioShock Infinite: Burial at Sea - Episode 2',\n",
       " 'BioShock Infinite: Burial at Sea Episode 1',\n",
       " 'BioWare Points',\n",
       " 'Bionic Commando Rearmed / Bionic Commando Rearmed 2 (2-For-1 Bundle) - PS3 [Digital Code]',\n",
       " 'Bioschock Infinite: Clash in the Clouds',\n",
       " \"Bioschock Infinite: Columbia's Finest\",\n",
       " 'Bioshock 2',\n",
       " 'Bird Watcher - Hidden Object Game [Download]',\n",
       " 'Birds On A Wire [Download]',\n",
       " 'Birth of America II: Wars in America [Download]',\n",
       " 'Birth of America: American Civil War [Download]',\n",
       " 'Bistro Boulevard [Download]',\n",
       " 'Bistro Boulevard [Mac Download]',\n",
       " 'Bistro Stars [Download]',\n",
       " 'Black & White 2 [Online Game Code]',\n",
       " 'Black Friday - Hidden Object Game [Download]',\n",
       " 'Black Mirror 2',\n",
       " 'Black Mirror [Download]',\n",
       " 'Black Rainbow [Download]',\n",
       " 'Black Turn: Operation Barbarossa 1941 [Download]',\n",
       " 'Blackguards',\n",
       " 'Blackguards 2 [Download]',\n",
       " 'Blacklight Tango Down [Online Game Code]',\n",
       " 'Blacklight: Tango Down [Online Game Code]',\n",
       " 'Blade Kitten [Download]',\n",
       " 'Blades of Time Limited Edition [Download]',\n",
       " 'Blades of Time [Download]',\n",
       " 'Blast Off [Online Game Code]',\n",
       " 'Blast Runner [Download]',\n",
       " 'Blast it Out [Download]',\n",
       " 'Blaster Simulator [Download]',\n",
       " 'Blaster Simulator [Mac Download]',\n",
       " 'BlazBlue: Calamity Trigger [Online Game Code]',\n",
       " 'Blazing Angels 2: Secret Missions',\n",
       " 'Blazing Angels Bundle [Download]',\n",
       " 'Blazing Angels: Squadrons of WWII',\n",
       " 'Blazing Souls Accelate',\n",
       " 'Blini Kids: Animals [Download]',\n",
       " 'Block Puzzle [Download]',\n",
       " 'Blockland',\n",
       " 'Blockstorm [Download]',\n",
       " 'Blokus World Tour [Download]',\n",
       " 'Blokus [Online Game Code]',\n",
       " 'Blood Bowl',\n",
       " 'Blood Bowl Legendary Edition [Download]',\n",
       " 'Blood Bowl: Chaos Edition [Online Game Code]',\n",
       " 'Blood Knights [Download]',\n",
       " 'Blood Omen 2: Legacy of Kain [Online Game Code]',\n",
       " 'Blood Ties [Download]',\n",
       " 'Blood of the Werewolf [Online Game Code]',\n",
       " 'BloodRayne Betrayal [Online Game Code]',\n",
       " 'Bloodborne',\n",
       " \"Bloodline of the Fallen: Anna's Sacrifice [Download]\",\n",
       " 'Bloxxit! [Download]',\n",
       " 'Blue Estate - The Game - PS4 [Digital Code]',\n",
       " 'Blue Madonna: A Carol Reed Mystery [Download]',\n",
       " 'Blue Ribbon Show Jumper [Download]',\n",
       " 'Blue Toad Murder Files: The Mysteries of Little Riddle (Episode 1) [Online Game Code]',\n",
       " 'Blue Toad Murder Files: The Mysteries of Little Riddle (Episodes 1-3) [Online Game Code]',\n",
       " 'Blue Toad Murder Files: The Mysteries of Little Riddle [Download]',\n",
       " \"Bob Howitzer's Human Cannonball [Download]\",\n",
       " 'Bob the Builder: Can-Do Carnival [Download]',\n",
       " 'Boggle [Download]',\n",
       " 'Bomberman Fantasy Race [Online Game Code]',\n",
       " 'Bomberman LIVE [Online Game Code]',\n",
       " 'Bonus Mania Slots',\n",
       " 'Book Club - Hidden Object Game [Download]',\n",
       " 'Book of Legends [Download]',\n",
       " 'Bookworm',\n",
       " 'Bookworm Adventures 2',\n",
       " 'Bookworm Adventures [Instant Access]',\n",
       " 'Bookworm Deluxe (Mac) [Online Game Code]',\n",
       " 'Bookworm Deluxe [Instant Access]',\n",
       " 'Bookworm Deluxe [Online Game Code]',\n",
       " 'Boot Camp Tycoon: Built for Victory [Download]',\n",
       " 'Borderlands',\n",
       " 'Borderlands - Secret Armory [Online Game Code]',\n",
       " 'Borderlands 2',\n",
       " 'Borderlands 2 - Headhunter 1: Bloody Harvest',\n",
       " 'Borderlands 2 - Headhunter 2: Wattle Gobbler',\n",
       " 'Borderlands 2 - Headhunter 3: Mercenary Day',\n",
       " 'Borderlands 2 - Headhunter 4: Wedding Day Massacre',\n",
       " 'Borderlands 2 - Headhunter 5: Son of Crawmerax',\n",
       " 'Borderlands 2 Mechromancer (Mac Download) [Download]',\n",
       " \"Borderlands 2: Tiny Tina's Assault on Dragon Keep (Mac) [Online Game Code]\",\n",
       " 'Borderlands Bundleganza [Download]',\n",
       " \"Borderlands: Mad Moxxi's Underdome Riot [Online Game Code]\",\n",
       " 'Borderlands: The Handsome Collection - Xbox One Digital Code',\n",
       " 'Borderlands: The Handsome Collection PC Bundle  [Online Game Code]',\n",
       " 'Borderlands: The Pre-Sequel',\n",
       " 'Borderlands: The Zombie Island of Dr. Ned [Online Game Code - Game Add-on]',\n",
       " 'Borgia [Download]',\n",
       " 'Born Into Darkness [Download]',\n",
       " 'Botanicula',\n",
       " 'Bound by Flame',\n",
       " 'Bowling 300 [Download]',\n",
       " 'Braid',\n",
       " 'Braid [Online Game Code]',\n",
       " 'Brain Challenge',\n",
       " 'Brain Power [Download]',\n",
       " 'Brain Spa',\n",
       " 'Brave Pistols 3D [Download]',\n",
       " 'Brawl - PS4 [Digital Code]',\n",
       " 'Brawl Busters',\n",
       " 'Breach & Clear [Online Game Code]',\n",
       " 'Break Ball 2 Gold [Download]',\n",
       " 'BreakQuest [Online Game Code]',\n",
       " 'Breakout Velocity [Download]',\n",
       " 'Breath of Fire IV [Online Game Code]',\n",
       " 'Brick Buster [Download]',\n",
       " 'Brick-Force [Download]',\n",
       " 'Bricks of Atlantis [Download]',\n",
       " 'Brickshooter Egypt [Download]',\n",
       " 'Bridge Constructor [Download]',\n",
       " 'Bridge Project [Download]',\n",
       " \"Brink of Consciousness: Dorian Gray Syndrome Collector's Edition [Download]\",\n",
       " 'Brink of Consciousness: Dorian Gray Syndrome [Download]',\n",
       " \"Brink of Consciousness: Lonely Hearts Murders - Collector's Edition\",\n",
       " 'Brink of Consciousness: The Lonely Hearts Murders [Download]',\n",
       " 'Britannica Puzzle Potpourri [Download]',\n",
       " 'Britannica Quiz Show [Download]',\n",
       " 'Britannica Sudoku Unlimited [Download]',\n",
       " 'Britannica Word Search [Download]',\n",
       " 'Broforce [Online Game Code]',\n",
       " \"Broken Hearts: A Soldier's Duty [Download]\",\n",
       " 'Brothers in Arms Earned in Blood',\n",
       " 'Brothers in Arms Road to Hill 30',\n",
       " 'Brothers-In-Arms: Double Time',\n",
       " 'Brothers: A Tale of Two Sons',\n",
       " 'Brownies [Download]',\n",
       " \"Brtiannica World's Best Solitaire [Download]\",\n",
       " 'Brunhilda and the Dark Crystal [Download]',\n",
       " 'Brutal Legend',\n",
       " 'Bubbels [Download]',\n",
       " 'Bubble Girl [Download]',\n",
       " 'Bubble Odyssey [Download]',\n",
       " 'Bubble Shooter Premium Edition [Download]',\n",
       " 'Bubble Town [Download]',\n",
       " 'Bubblefish Bob [Download]',\n",
       " 'Bubbly Burst [Download]',\n",
       " 'Buccaneer [Download]',\n",
       " 'Bud Redhead: The Time Chase [Download]',\n",
       " 'Bug Attack [Download]',\n",
       " 'Build In Time',\n",
       " 'Build It! Miami Beach Resort [Download]',\n",
       " 'Build a Body [Download]',\n",
       " 'Build-a-lot 2: Town of the Year [Download]',\n",
       " 'Build-a-lot 3: Passport to Europe [Download]',\n",
       " 'Build-a-lot 4: Power Source [Download]',\n",
       " 'Build-a-lot Fairy Tales [Download]',\n",
       " 'Build-a-lot Mysteries 2 [Download]',\n",
       " 'Build-a-lot Mysteries [Download]',\n",
       " 'Build-a-lot [Download]',\n",
       " 'Build-a-lot: On Vacation [Download]',\n",
       " 'Build-a-lot: The Elizabethan Era [Download]',\n",
       " 'Building The Great Wall of China [Download]',\n",
       " 'Bulldozer',\n",
       " 'Bulletstorm [Download]',\n",
       " 'Bully + MANHUNT + MANHUNT 2 + Midnight Club 2 [Online Game Code]',\n",
       " 'Bully - Scholarship Edition [Download]',\n",
       " 'Bully: Scholarship Edition',\n",
       " 'Bundle of Nancys [Download]',\n",
       " 'Burger Bustle [Download]',\n",
       " 'Burger Island 2: The Missing Ingredient [Download]',\n",
       " 'Burger Island [Download]',\n",
       " 'Burger Rush [Download]',\n",
       " 'Burger Shop 2 [Download]',\n",
       " 'Burger Shop [Download]',\n",
       " 'Burger Time Deluxe [Download]',\n",
       " 'Buried in Time [Download]',\n",
       " 'Burn Zombie Burn [Online Game Code]',\n",
       " 'Burning Hot Bundle [Download]',\n",
       " 'Burnout Paradise: The Ultimate Box [Download]',\n",
       " 'Bus Driver [Download]',\n",
       " 'Bus Simulator 2012 [Online Game Code]',\n",
       " 'Butterfly Escape [Download]',\n",
       " 'Buy Furniture - Hidden Object Games [Download]',\n",
       " 'Buzz Jr. Monster Rally [Online Game Code]',\n",
       " 'Buzz Quiz World [Online Game Code]',\n",
       " 'Buzzy Bumble [Download]',\n",
       " 'CAG Bundle 2 [Download]',\n",
       " 'CAG Bundle 3 [Download + Online Game Code - Mixed DRM]',\n",
       " 'CIV V GOLD + Brave New World [Online Game Code]',\n",
       " 'CLUE Classic [Download]',\n",
       " 'COGNITION PC BUNDLE [Download]',\n",
       " 'CROSSED QUOTES [Download]',\n",
       " 'CSI: Crime Scene Investigation: Hard Evidence [Download]',\n",
       " 'CSI: Deadly Intent',\n",
       " 'CSI: Fatal Conspiracy',\n",
       " 'CSI: NY-The Game',\n",
       " 'CSX SD80MAC Loco Add-On [Online Game Code]',\n",
       " 'CTR: Crash Team Racing',\n",
       " 'Cabby Gils [Download]',\n",
       " \"Cabela's Bundle [Download]\",\n",
       " \"Cabela's Dangerous Hunts 2013 [Download]\",\n",
       " \"Cabela's Hunting Expeditions [Download]\",\n",
       " 'Cabelas: Big Game Hunter Pro Hunts',\n",
       " 'Caesar III [Download]',\n",
       " 'Cafe Mahjongg [Download]',\n",
       " 'Cafe Mania - Hidden Objects Game [Download]',\n",
       " 'Cajun Cop [Download]',\n",
       " 'Cake Mania 2 [Download]',\n",
       " 'Cake Mania 3 [Download]',\n",
       " 'Cake Mania [Download]',\n",
       " 'Cake Mania: Back to the Bakery [Download]',\n",
       " 'Cake Mania: Lights, Camera, Action! [Download]',\n",
       " 'Cake Mania: Main Street [Download]',\n",
       " 'Cake Mania: To the Max! [Download]',\n",
       " 'Call Of Duty: Advanced Warfare - Havoc - PS3 [Digital Code]',\n",
       " 'Call Of Duty: Advanced Warfare - Havoc - PS4 [Digital Code]',\n",
       " 'Call Of Duty: Ghosts - Bling Character Pac',\n",
       " 'Call Of Duty: Ghosts - Weapon - The Maverick',\n",
       " 'Call Of Duty: Ghosts - Weapon - The Ripper',\n",
       " 'Call Of Juarez: The Gunslinger',\n",
       " 'Call of Atlantis',\n",
       " 'Call of Atlantis: Treasures of Poseidon [Download]',\n",
       " 'Call of Cthulhu: Dark Corners of the Earth',\n",
       " 'Call of Cthulhu: The Wasted Land [Download]',\n",
       " 'Call of Duty 2',\n",
       " 'Call of Duty 2 [Online Game Code]',\n",
       " 'Call of Duty 4: Modern Warfare',\n",
       " 'Call of Duty 4: Modern Warfare [Download]',\n",
       " 'Call of Duty Classic [Online Game Code]',\n",
       " 'Call of Duty Deluxe Edition',\n",
       " 'Call of Duty Ghosts Digital Bundle: Game + 1-Year PS Plus - PS4 [Digital Code]',\n",
       " 'Call of Duty War Chest [Download]',\n",
       " 'Call of Duty [Online Game Code]',\n",
       " 'Call of Duty: Advanced Warfare',\n",
       " 'Call of Duty: Advanced Warfare - Ascendance - PS3 [Digital Code]',\n",
       " 'Call of Duty: Advanced Warfare - Ascendance - PS4 [Digital Code]',\n",
       " 'Call of Duty: Advanced Warfare - Ascendance [Online Game Code]',\n",
       " 'Call of Duty: Advanced Warfare - Havoc [Online Game Code]',\n",
       " 'Call of Duty: Advanced Warfare - PC [Online Game Code]',\n",
       " 'Call of Duty: Advanced Warfare - PS3 [Digital Code]',\n",
       " 'Call of Duty: Advanced Warfare - PS4 [Digital Code]',\n",
       " 'Call of Duty: Advanced Warfare - Supremacy - PS3 [Digital Code]',\n",
       " 'Call of Duty: Advanced Warfare - Supremacy - PS4 [Digital Code]',\n",
       " 'Call of Duty: Black Ops',\n",
       " 'Call of Duty: Black Ops - Rezurrection [Online Game Code]',\n",
       " 'Call of Duty: Black Ops Annihilation [Online Game Code]',\n",
       " 'Call of Duty: Black Ops Escalation [Online Game Code]',\n",
       " 'Call of Duty: Black Ops II',\n",
       " 'Call of Duty: Black Ops Rezurrection [Online Game Code]',\n",
       " 'Call of Duty: Ghost - Onslaught',\n",
       " 'Call of Duty: Ghosts',\n",
       " 'Call of Duty: Ghosts - Devastation',\n",
       " 'Call of Duty: Ghosts - Invasion',\n",
       " 'Call of Duty: Modern Warfare 2',\n",
       " 'Call of Duty: Modern Warfare 3',\n",
       " 'Call of Duty: Mordern Warfare 3 Collection 4: Final Assault [Online Game Code]',\n",
       " 'Call of Duty: United Offensive [Online Game Code]',\n",
       " 'Call of Duty: World at War',\n",
       " 'Call of Juarez',\n",
       " 'Call of Juarez: Bound in Blood',\n",
       " 'Call of Juarez: The Cartel',\n",
       " 'Call of the Ages [Download]',\n",
       " 'Calling All Cars  [Online Game Code - Full Game]',\n",
       " 'Camp - Hidden Object Games [Download]',\n",
       " 'Campfire Legends - The Babysitter [Download]',\n",
       " 'Campfire Legends: The Hookman [Download]',\n",
       " 'Can You See What I See - Dream Machine [Download]',\n",
       " 'Can You See What I See [Download]',\n",
       " 'Canasta',\n",
       " 'Canasta [Download]',\n",
       " 'Candy POP! Sweet and Delicious - Match-3 Sugar Puzzle [Download]',\n",
       " 'Candyz [Download]',\n",
       " 'Capcom Classics Collection Reloaded',\n",
       " 'Capcom vs SNK2: Mark of the Millennium',\n",
       " 'Capitalism 2',\n",
       " 'Capitalism 2 [Download]',\n",
       " 'Car Mechanic Simulator 2014 [Online Game Code]',\n",
       " 'Car Mechanic Simulator 2015 [Online Game Code]',\n",
       " 'Carcassonne [Download]',\n",
       " 'Carcassonne [Online Game Code]',\n",
       " 'Card Crazy! [Download]',\n",
       " 'Cargo - The Quest for Gravity',\n",
       " 'Cargo Commander [Online Game Code]',\n",
       " 'Caribbean Hideaway [Download]',\n",
       " 'Caribbean Mah Jong [Download]',\n",
       " 'Carl The Caveman [Download]',\n",
       " \"Carl's Classics [Download]\",\n",
       " 'Carmen Sandiego Returns',\n",
       " 'Carnivores Dinosaur Hunter [Online Game Code]',\n",
       " 'Carnivores: Ice Age [Online Game Code]',\n",
       " 'Carrier Command Gaea Mission [Online Game Code]',\n",
       " 'Cars 2',\n",
       " 'Case Files - Hidden Object Game [Download]',\n",
       " 'Casebook Trilogy [Download]',\n",
       " 'Casino Blackjack [Download]',\n",
       " 'Casino Chaos [Download]',\n",
       " 'Casino Island To Go [Download]',\n",
       " \"Cassandra's Journey 2: The Fifth Sun of Nostradamus [Download]\",\n",
       " 'Castle',\n",
       " 'Castle Crashers',\n",
       " 'Castle Crashers [Online Game Code]',\n",
       " 'Castle Secrets: Between Day and Night [Download]',\n",
       " 'Castle of Illusion (Relaunch) [Online Game Code]',\n",
       " 'CastleStorm - PS3 [Digital Code]',\n",
       " 'Castlevania Harmony of Despair [Online Game Code]',\n",
       " 'Castlevania Lords of Shadow (Reverie) [Online Game Code]',\n",
       " 'Castlevania: Lament of Innocence',\n",
       " 'Castlevania: Lords of Shadow - Mirror of Fate HD',\n",
       " 'Castlevania: Lords of Shadow - Ultimate Edition [Online Game Code]',\n",
       " 'Castlevania: Lords of Shadow 2',\n",
       " 'Castlevania: Lords of Shadow 2 - Armored Dracula Costume [Online Game Code]',\n",
       " 'Castlevania: Lords of Shadow 2 - Dark Dracula Costume  [Online Game Code]',\n",
       " 'Castlevania: Lords of Shadow 2 [Online Game Code]',\n",
       " 'Castlevania: Symphony of the Night [Online Game Code]',\n",
       " 'Castlevania: The Dracula X Chronicles [Online Game Code]',\n",
       " 'Casual Strike! [Download]',\n",
       " 'Catan [Online Game Code]',\n",
       " 'Cate West: The Vanishing Files [Download]',\n",
       " 'Cate West: The Velvet Keys [Download]',\n",
       " 'Catherine',\n",
       " 'Caveman Rocks [Download]',\n",
       " 'Caveman Survival [Download]',\n",
       " 'Cell HD: Emergence',\n",
       " 'Ceville',\n",
       " 'Chains [Download]',\n",
       " 'Chainz 2 [Download]',\n",
       " 'Chainz Galaxy [Download]',\n",
       " 'Chainz [Download]',\n",
       " \"Chak's Temple [Download]\",\n",
       " 'Champion Board Games [Download]',\n",
       " 'Champions Online [Download]',\n",
       " 'Champions Online: Free for All Plus Additional In-Game Content [Download]',\n",
       " 'Championship Chess',\n",
       " 'Championship Manager 2010 [Mac Download]',\n",
       " 'Championship Riding Star [Download]',\n",
       " 'Chaos on Deponia [Download]',\n",
       " \"Charlotte's Web: Word Rescue [Download]\",\n",
       " 'Charm Solitaire [Download]',\n",
       " 'Charm Tale 2: Mermaid Lagoon [Download]',\n",
       " 'Charm Tale [Download]',\n",
       " 'Chaser [Download]',\n",
       " 'Check VS Mate [Download]',\n",
       " 'Check vs Mate [Download]',\n",
       " 'Check vs Mate [Online Game Code]',\n",
       " 'Chernobyl Terrorist Attack [Download]',\n",
       " 'Chess (Psone Classic) - PS3 [Digital Code]',\n",
       " 'Chess Match [Download]',\n",
       " 'Chessfire Educational Edition [Download]',\n",
       " 'Chessmaster Challenge [Download]',\n",
       " 'Chessmaster Live [Online Game Code]',\n",
       " 'Chessmaster: The Art of Learning',\n",
       " 'Chicken Attack Deluxe [Download]',\n",
       " 'Chicken Invaders 2 [Download]',\n",
       " 'Chicken Invaders 3 Christmas Edition [Download]',\n",
       " 'Chicken Invaders 3 [Download]',\n",
       " 'Chicken Invaders 4 Christmas Edition [Download]',\n",
       " 'Chicken Invaders 4 Thanksgiving [Download]',\n",
       " 'Chicken Invaders 4 [Download]',\n",
       " 'Chicken Rush Deluxe [Download]',\n",
       " 'Chicken Shoot 1 and Chicken Shoot 2 [Download]',\n",
       " 'Child of Light - PS4 [Digital Code]',\n",
       " 'Child of Light - Xbox 360 Digital Code',\n",
       " 'Child of Light - Xbox One Digital Code',\n",
       " 'Child of Light [Online Game Code]',\n",
       " 'Children of the Nile',\n",
       " 'Chime Super Deluxe [Online Game Code]',\n",
       " 'Chinatown Chronicles - Hidden Objects Game [Download]',\n",
       " 'Chinese Checkers Mania [FREE]',\n",
       " 'Chinese Chess Deluxe',\n",
       " 'Chinese Dragon - Match 3 [Download]',\n",
       " 'Chivalry: Deadliest Warrior [Online Game Code]',\n",
       " 'Chivalry: Medieval Warfare [Online Game Code]',\n",
       " \"Chloe's Dream Resort [Game Download]\",\n",
       " \"Chloe's Dream Resort [Mac Download]\",\n",
       " 'Chocolatier 2: Secret Ingredients [Download]',\n",
       " 'Chocolatier [Download]',\n",
       " 'Chocolatier: Decadence by Design [Download]',\n",
       " 'Chompy Chomp Chomp [Download]',\n",
       " 'Christian: The Video Game [Download]',\n",
       " 'Christmas Ball The Game [Download]',\n",
       " 'Christmas Chocolate Factory - Hidden Object Game [Download]',\n",
       " 'Christmas Dreams - Hidden Object Game [Download]',\n",
       " 'Christmas Holly - Hidden Objects Game [Download]',\n",
       " 'Christmas Mahjong [Download]',\n",
       " 'Christmas Mania - Hidden Objects Game [Download]',\n",
       " 'Christmas Patchwork: Frozen [Download]',\n",
       " 'Christmas Secrets - Hidden Object Game [Download]',\n",
       " 'Christmas Tale - Hidden Object Game [Download]',\n",
       " 'Christmas Tale\\xa0- A Fathers Gift - Hidden Object [Download]',\n",
       " ...]"
      ]
     },
     "execution_count": 422,
     "metadata": {},
     "output_type": "execute_result"
    }
   ],
   "source": [
    "sorted(df_raw_noSub_no_DLC['product_title'].unique())"
   ]
  },
  {
   "cell_type": "markdown",
   "metadata": {},
   "source": [
    "Some games include a substring next to the title, it describes the way buyers could access the game, for example:\n",
    "\n",
    "<br>\n",
    "\n",
    "`18 Wheels of Steel American Long Haul [Download]`\n",
    "\n",
    "`18 Wheels of Steel American Long Haul [Online Game Code]`\n",
    "\n",
    "<br>\n",
    "\n",
    "Definitely the same game, just different \"delivery\" method.\n"
   ]
  },
  {
   "cell_type": "code",
   "execution_count": 423,
   "metadata": {
    "scrolled": false
   },
   "outputs": [
    {
     "data": {
      "text/html": [
       "<div>\n",
       "<style scoped>\n",
       "    .dataframe tbody tr th:only-of-type {\n",
       "        vertical-align: middle;\n",
       "    }\n",
       "\n",
       "    .dataframe tbody tr th {\n",
       "        vertical-align: top;\n",
       "    }\n",
       "\n",
       "    .dataframe thead th {\n",
       "        text-align: right;\n",
       "    }\n",
       "</style>\n",
       "<table border=\"1\" class=\"dataframe\">\n",
       "  <thead>\n",
       "    <tr style=\"text-align: right;\">\n",
       "      <th></th>\n",
       "      <th>marketplace</th>\n",
       "      <th>customer_id</th>\n",
       "      <th>review_id</th>\n",
       "      <th>product_id</th>\n",
       "      <th>product_parent</th>\n",
       "      <th>product_title</th>\n",
       "      <th>product_category</th>\n",
       "      <th>star_rating</th>\n",
       "      <th>helpful_votes</th>\n",
       "      <th>total_votes</th>\n",
       "      <th>vine</th>\n",
       "      <th>verified_purchase</th>\n",
       "      <th>review_headline</th>\n",
       "      <th>review_body</th>\n",
       "      <th>review_date</th>\n",
       "    </tr>\n",
       "  </thead>\n",
       "  <tbody>\n",
       "    <tr>\n",
       "      <th>39224</th>\n",
       "      <td>US</td>\n",
       "      <td>36420328</td>\n",
       "      <td>R2LOZS1XJTWZNN</td>\n",
       "      <td>B004GHNG0E</td>\n",
       "      <td>614285704</td>\n",
       "      <td>18 Wheels of Steel American Long Haul [Download]</td>\n",
       "      <td>Digital_Video_Games</td>\n",
       "      <td>4</td>\n",
       "      <td>0</td>\n",
       "      <td>0</td>\n",
       "      <td>N</td>\n",
       "      <td>Y</td>\n",
       "      <td>Four Stars</td>\n",
       "      <td>ok</td>\n",
       "      <td>2014-10-15</td>\n",
       "    </tr>\n",
       "    <tr>\n",
       "      <th>50242</th>\n",
       "      <td>US</td>\n",
       "      <td>17845931</td>\n",
       "      <td>R2TJLHZ9X7EG83</td>\n",
       "      <td>B004GHNG0E</td>\n",
       "      <td>614285704</td>\n",
       "      <td>18 Wheels of Steel American Long Haul [Download]</td>\n",
       "      <td>Digital_Video_Games</td>\n",
       "      <td>4</td>\n",
       "      <td>0</td>\n",
       "      <td>0</td>\n",
       "      <td>N</td>\n",
       "      <td>Y</td>\n",
       "      <td>Four Stars</td>\n",
       "      <td>Like driving trucks.</td>\n",
       "      <td>2014-07-14</td>\n",
       "    </tr>\n",
       "    <tr>\n",
       "      <th>74152</th>\n",
       "      <td>US</td>\n",
       "      <td>21374226</td>\n",
       "      <td>R388BHLY4GIU5E</td>\n",
       "      <td>B00CLVZGPK</td>\n",
       "      <td>775610170</td>\n",
       "      <td>18 Wheels of Steel American Long Haul [Online ...</td>\n",
       "      <td>Digital_Video_Games</td>\n",
       "      <td>1</td>\n",
       "      <td>1</td>\n",
       "      <td>1</td>\n",
       "      <td>N</td>\n",
       "      <td>Y</td>\n",
       "      <td>Doesn't work, no manufacturer support</td>\n",
       "      <td>The code I got does not work. Amazon referred ...</td>\n",
       "      <td>2013-12-29</td>\n",
       "    </tr>\n",
       "  </tbody>\n",
       "</table>\n",
       "</div>"
      ],
      "text/plain": [
       "      marketplace  customer_id       review_id  product_id  product_parent  \\\n",
       "39224          US     36420328  R2LOZS1XJTWZNN  B004GHNG0E       614285704   \n",
       "50242          US     17845931  R2TJLHZ9X7EG83  B004GHNG0E       614285704   \n",
       "74152          US     21374226  R388BHLY4GIU5E  B00CLVZGPK       775610170   \n",
       "\n",
       "                                           product_title     product_category  \\\n",
       "39224   18 Wheels of Steel American Long Haul [Download]  Digital_Video_Games   \n",
       "50242   18 Wheels of Steel American Long Haul [Download]  Digital_Video_Games   \n",
       "74152  18 Wheels of Steel American Long Haul [Online ...  Digital_Video_Games   \n",
       "\n",
       "       star_rating  helpful_votes  total_votes vine verified_purchase  \\\n",
       "39224            4              0            0    N                 Y   \n",
       "50242            4              0            0    N                 Y   \n",
       "74152            1              1            1    N                 Y   \n",
       "\n",
       "                             review_headline  \\\n",
       "39224                             Four Stars   \n",
       "50242                             Four Stars   \n",
       "74152  Doesn't work, no manufacturer support   \n",
       "\n",
       "                                             review_body review_date  \n",
       "39224                                                 ok  2014-10-15  \n",
       "50242                               Like driving trucks.  2014-07-14  \n",
       "74152  The code I got does not work. Amazon referred ...  2013-12-29  "
      ]
     },
     "execution_count": 423,
     "metadata": {},
     "output_type": "execute_result"
    }
   ],
   "source": [
    "df_raw_noSub_no_DLC[df_raw_noSub_no_DLC['product_title'].str.contains('18 Wheels of Steel American Long Haul')].head(3)"
   ]
  },
  {
   "cell_type": "markdown",
   "metadata": {},
   "source": [
    "\n",
    "<br>\n",
    "\n",
    "The `[Download]` edition of the game, on the second row above, has a different `product_id` than its `[Online Game Code]` edition (on the 3rd row above), it's the same game but taged with different ID\n",
    "\n",
    "<br>\n",
    "\n",
    "I find it easier to modify the name than the id number, i need to group those reviews togeter, the delivery method doesnt change the software performance, so the review for a specific version is still relevant for a different one.\n"
   ]
  },
  {
   "cell_type": "markdown",
   "metadata": {},
   "source": [
    "At first sight, `[Instant Access]`, `[Download]`, `[Digital Code]`, `[Game Connect]` and `[Online Game Code]` seem to be the most frequent tags at the end of the games titles, if delete those out of the title name, i could use them so the rec system instead of the id, which was my first thought"
   ]
  },
  {
   "cell_type": "code",
   "execution_count": 424,
   "metadata": {},
   "outputs": [
    {
     "name": "stderr",
     "output_type": "stream",
     "text": [
      "<ipython-input-424-b14017d6bda3>:1: SettingWithCopyWarning: \n",
      "A value is trying to be set on a copy of a slice from a DataFrame.\n",
      "Try using .loc[row_indexer,col_indexer] = value instead\n",
      "\n",
      "See the caveats in the documentation: https://pandas.pydata.org/pandas-docs/stable/user_guide/indexing.html#returning-a-view-versus-a-copy\n",
      "  df_raw_noSub_no_DLC['clean_title'] = df_raw_noSub_no_DLC['product_title'].str.replace(\" \\[Instant Access\\]\", \"\")\n"
     ]
    }
   ],
   "source": [
    "df_raw_noSub_no_DLC['clean_title'] = df_raw_noSub_no_DLC['product_title'].str.replace(\" \\[Instant Access\\]\", \"\")"
   ]
  },
  {
   "cell_type": "code",
   "execution_count": 425,
   "metadata": {
    "collapsed": true
   },
   "outputs": [
    {
     "name": "stderr",
     "output_type": "stream",
     "text": [
      "<ipython-input-425-99a1810dbb21>:1: SettingWithCopyWarning: \n",
      "A value is trying to be set on a copy of a slice from a DataFrame.\n",
      "Try using .loc[row_indexer,col_indexer] = value instead\n",
      "\n",
      "See the caveats in the documentation: https://pandas.pydata.org/pandas-docs/stable/user_guide/indexing.html#returning-a-view-versus-a-copy\n",
      "  df_raw_noSub_no_DLC['clean_title'] = df_raw_noSub_no_DLC['clean_title'].str.replace(\" \\[Download\\]\", \"\")\n"
     ]
    }
   ],
   "source": [
    "df_raw_noSub_no_DLC['clean_title'] = df_raw_noSub_no_DLC['clean_title'].str.replace(\" \\[Download\\]\", \"\")"
   ]
  },
  {
   "cell_type": "code",
   "execution_count": 426,
   "metadata": {
    "collapsed": true
   },
   "outputs": [
    {
     "name": "stderr",
     "output_type": "stream",
     "text": [
      "<ipython-input-426-25a576e86d73>:1: SettingWithCopyWarning: \n",
      "A value is trying to be set on a copy of a slice from a DataFrame.\n",
      "Try using .loc[row_indexer,col_indexer] = value instead\n",
      "\n",
      "See the caveats in the documentation: https://pandas.pydata.org/pandas-docs/stable/user_guide/indexing.html#returning-a-view-versus-a-copy\n",
      "  df_raw_noSub_no_DLC['clean_title'] = df_raw_noSub_no_DLC['clean_title'].str.replace(\" \\[Game Connect\\]\", \"\")\n"
     ]
    }
   ],
   "source": [
    "df_raw_noSub_no_DLC['clean_title'] = df_raw_noSub_no_DLC['clean_title'].str.replace(\" \\[Game Connect\\]\", \"\")"
   ]
  },
  {
   "cell_type": "code",
   "execution_count": 427,
   "metadata": {
    "collapsed": true
   },
   "outputs": [
    {
     "name": "stderr",
     "output_type": "stream",
     "text": [
      "<ipython-input-427-c45c2ef4d1d9>:1: SettingWithCopyWarning: \n",
      "A value is trying to be set on a copy of a slice from a DataFrame.\n",
      "Try using .loc[row_indexer,col_indexer] = value instead\n",
      "\n",
      "See the caveats in the documentation: https://pandas.pydata.org/pandas-docs/stable/user_guide/indexing.html#returning-a-view-versus-a-copy\n",
      "  df_raw_noSub_no_DLC['clean_title'] = df_raw_noSub_no_DLC['clean_title'].str.replace(\" \\[Online Game Code\\]\", \"\")\n"
     ]
    }
   ],
   "source": [
    "df_raw_noSub_no_DLC['clean_title'] = df_raw_noSub_no_DLC['clean_title'].str.replace(\" \\[Online Game Code\\]\", \"\")"
   ]
  },
  {
   "cell_type": "code",
   "execution_count": 428,
   "metadata": {
    "collapsed": true
   },
   "outputs": [
    {
     "name": "stderr",
     "output_type": "stream",
     "text": [
      "<ipython-input-428-8ff831ac1d22>:1: SettingWithCopyWarning: \n",
      "A value is trying to be set on a copy of a slice from a DataFrame.\n",
      "Try using .loc[row_indexer,col_indexer] = value instead\n",
      "\n",
      "See the caveats in the documentation: https://pandas.pydata.org/pandas-docs/stable/user_guide/indexing.html#returning-a-view-versus-a-copy\n",
      "  df_raw_noSub_no_DLC['clean_title'] = df_raw_noSub_no_DLC['clean_title'].str.replace(\" \\[Digital Code\\]\", \"\")\n"
     ]
    }
   ],
   "source": [
    "df_raw_noSub_no_DLC['clean_title'] = df_raw_noSub_no_DLC['clean_title'].str.replace(\" \\[Digital Code\\]\", \"\")"
   ]
  },
  {
   "cell_type": "markdown",
   "metadata": {},
   "source": [
    "The first title (on index 0) has 'Xbox One Digital Code' in its name, will check if there are more games with this same substring, or even for a different platform other than xbox"
   ]
  },
  {
   "cell_type": "code",
   "execution_count": 430,
   "metadata": {
    "scrolled": true
   },
   "outputs": [
    {
     "data": {
      "text/html": [
       "<div>\n",
       "<style scoped>\n",
       "    .dataframe tbody tr th:only-of-type {\n",
       "        vertical-align: middle;\n",
       "    }\n",
       "\n",
       "    .dataframe tbody tr th {\n",
       "        vertical-align: top;\n",
       "    }\n",
       "\n",
       "    .dataframe thead th {\n",
       "        text-align: right;\n",
       "    }\n",
       "</style>\n",
       "<table border=\"1\" class=\"dataframe\">\n",
       "  <thead>\n",
       "    <tr style=\"text-align: right;\">\n",
       "      <th></th>\n",
       "      <th>marketplace</th>\n",
       "      <th>customer_id</th>\n",
       "      <th>review_id</th>\n",
       "      <th>product_id</th>\n",
       "      <th>product_parent</th>\n",
       "      <th>product_title</th>\n",
       "      <th>product_category</th>\n",
       "      <th>star_rating</th>\n",
       "      <th>helpful_votes</th>\n",
       "      <th>total_votes</th>\n",
       "      <th>vine</th>\n",
       "      <th>verified_purchase</th>\n",
       "      <th>review_headline</th>\n",
       "      <th>review_body</th>\n",
       "      <th>review_date</th>\n",
       "      <th>clean_title</th>\n",
       "    </tr>\n",
       "  </thead>\n",
       "  <tbody>\n",
       "    <tr>\n",
       "      <th>0</th>\n",
       "      <td>US</td>\n",
       "      <td>21269168</td>\n",
       "      <td>RSH1OZ87OYK92</td>\n",
       "      <td>B013PURRZW</td>\n",
       "      <td>603406193</td>\n",
       "      <td>Madden NFL 16 - Xbox One Digital Code</td>\n",
       "      <td>Digital_Video_Games</td>\n",
       "      <td>2</td>\n",
       "      <td>2</td>\n",
       "      <td>3</td>\n",
       "      <td>N</td>\n",
       "      <td>N</td>\n",
       "      <td>A slight improvement from last year.</td>\n",
       "      <td>I keep buying madden every year hoping they ge...</td>\n",
       "      <td>2015-08-31</td>\n",
       "      <td>Madden NFL 16 - Xbox One Digital Code</td>\n",
       "    </tr>\n",
       "    <tr>\n",
       "      <th>104</th>\n",
       "      <td>US</td>\n",
       "      <td>36076198</td>\n",
       "      <td>RL9RFGWHGPJGO</td>\n",
       "      <td>B00TFVDR32</td>\n",
       "      <td>479126001</td>\n",
       "      <td>Ori and the Blind Forest - Xbox One Digital Code</td>\n",
       "      <td>Digital_Video_Games</td>\n",
       "      <td>5</td>\n",
       "      <td>0</td>\n",
       "      <td>0</td>\n",
       "      <td>N</td>\n",
       "      <td>Y</td>\n",
       "      <td>Exactly what the reviews said it would be</td>\n",
       "      <td>I bought this game after reading all the revie...</td>\n",
       "      <td>2015-08-31</td>\n",
       "      <td>Ori and the Blind Forest - Xbox One Digital Code</td>\n",
       "    </tr>\n",
       "    <tr>\n",
       "      <th>159</th>\n",
       "      <td>US</td>\n",
       "      <td>51447735</td>\n",
       "      <td>R253MSTC5ECVRS</td>\n",
       "      <td>B00TFVDR32</td>\n",
       "      <td>479126001</td>\n",
       "      <td>Ori and the Blind Forest - Xbox One Digital Code</td>\n",
       "      <td>Digital_Video_Games</td>\n",
       "      <td>5</td>\n",
       "      <td>0</td>\n",
       "      <td>0</td>\n",
       "      <td>N</td>\n",
       "      <td>Y</td>\n",
       "      <td>FANTASTIC!</td>\n",
       "      <td>I'd say it took me less than a week to finish ...</td>\n",
       "      <td>2015-08-30</td>\n",
       "      <td>Ori and the Blind Forest - Xbox One Digital Code</td>\n",
       "    </tr>\n",
       "    <tr>\n",
       "      <th>175</th>\n",
       "      <td>US</td>\n",
       "      <td>14884528</td>\n",
       "      <td>RWQI661DFFIF3</td>\n",
       "      <td>B00R6HA3XY</td>\n",
       "      <td>608413618</td>\n",
       "      <td>Child of Light - Xbox One Digital Code</td>\n",
       "      <td>Digital_Video_Games</td>\n",
       "      <td>5</td>\n",
       "      <td>3</td>\n",
       "      <td>3</td>\n",
       "      <td>N</td>\n",
       "      <td>Y</td>\n",
       "      <td>Great game - storybook gameplay and dreamy gra...</td>\n",
       "      <td>This is one of the best games I have played in...</td>\n",
       "      <td>2015-08-30</td>\n",
       "      <td>Child of Light - Xbox One Digital Code</td>\n",
       "    </tr>\n",
       "    <tr>\n",
       "      <th>263</th>\n",
       "      <td>US</td>\n",
       "      <td>2919462</td>\n",
       "      <td>R1XT34JC176BLS</td>\n",
       "      <td>B012P5WRQM</td>\n",
       "      <td>63259150</td>\n",
       "      <td>Gears of War: Ultimate Edition Deluxe Version ...</td>\n",
       "      <td>Digital_Video_Games</td>\n",
       "      <td>5</td>\n",
       "      <td>0</td>\n",
       "      <td>2</td>\n",
       "      <td>N</td>\n",
       "      <td>Y</td>\n",
       "      <td>Works perfectly</td>\n",
       "      <td>I bought the game and Amazon gave me the code ...</td>\n",
       "      <td>2015-08-29</td>\n",
       "      <td>Gears of War: Ultimate Edition Deluxe Version ...</td>\n",
       "    </tr>\n",
       "    <tr>\n",
       "      <th>...</th>\n",
       "      <td>...</td>\n",
       "      <td>...</td>\n",
       "      <td>...</td>\n",
       "      <td>...</td>\n",
       "      <td>...</td>\n",
       "      <td>...</td>\n",
       "      <td>...</td>\n",
       "      <td>...</td>\n",
       "      <td>...</td>\n",
       "      <td>...</td>\n",
       "      <td>...</td>\n",
       "      <td>...</td>\n",
       "      <td>...</td>\n",
       "      <td>...</td>\n",
       "      <td>...</td>\n",
       "      <td>...</td>\n",
       "    </tr>\n",
       "    <tr>\n",
       "      <th>41070</th>\n",
       "      <td>US</td>\n",
       "      <td>39846241</td>\n",
       "      <td>RUUJU7BAQUPBU</td>\n",
       "      <td>B00NMO0IA8</td>\n",
       "      <td>567442793</td>\n",
       "      <td>Minecraft - Xbox One Digital Code</td>\n",
       "      <td>Digital_Video_Games</td>\n",
       "      <td>5</td>\n",
       "      <td>0</td>\n",
       "      <td>1</td>\n",
       "      <td>N</td>\n",
       "      <td>N</td>\n",
       "      <td>Games bomb</td>\n",
       "      <td>Fun game, I like this better then the laptop c...</td>\n",
       "      <td>2014-09-30</td>\n",
       "      <td>Minecraft - Xbox One Digital Code</td>\n",
       "    </tr>\n",
       "    <tr>\n",
       "      <th>41122</th>\n",
       "      <td>US</td>\n",
       "      <td>44156652</td>\n",
       "      <td>R3P036FJ9S6P2A</td>\n",
       "      <td>B00NMO0IA8</td>\n",
       "      <td>567442793</td>\n",
       "      <td>Minecraft - Xbox One Digital Code</td>\n",
       "      <td>Digital_Video_Games</td>\n",
       "      <td>5</td>\n",
       "      <td>5</td>\n",
       "      <td>5</td>\n",
       "      <td>N</td>\n",
       "      <td>N</td>\n",
       "      <td>This code variant is perfect for anyone who wa...</td>\n",
       "      <td>Minecraft for the Xbox One is just amazing. It...</td>\n",
       "      <td>2014-09-29</td>\n",
       "      <td>Minecraft - Xbox One Digital Code</td>\n",
       "    </tr>\n",
       "    <tr>\n",
       "      <th>41279</th>\n",
       "      <td>US</td>\n",
       "      <td>13709778</td>\n",
       "      <td>RP50H0ZMHSWP7</td>\n",
       "      <td>B00NMO0IA8</td>\n",
       "      <td>567442793</td>\n",
       "      <td>Minecraft - Xbox One Digital Code</td>\n",
       "      <td>Digital_Video_Games</td>\n",
       "      <td>5</td>\n",
       "      <td>4</td>\n",
       "      <td>5</td>\n",
       "      <td>N</td>\n",
       "      <td>N</td>\n",
       "      <td>My kifs love it</td>\n",
       "      <td>This is a great version of Minecraft.  Once yo...</td>\n",
       "      <td>2014-09-28</td>\n",
       "      <td>Minecraft - Xbox One Digital Code</td>\n",
       "    </tr>\n",
       "    <tr>\n",
       "      <th>41563</th>\n",
       "      <td>US</td>\n",
       "      <td>33074509</td>\n",
       "      <td>R1LVHPFL52JKSG</td>\n",
       "      <td>B00NMO0IA8</td>\n",
       "      <td>567442793</td>\n",
       "      <td>Minecraft - Xbox One Digital Code</td>\n",
       "      <td>Digital_Video_Games</td>\n",
       "      <td>1</td>\n",
       "      <td>3</td>\n",
       "      <td>24</td>\n",
       "      <td>N</td>\n",
       "      <td>Y</td>\n",
       "      <td>Buggy right out of the \"gates\"</td>\n",
       "      <td>The game freezes my son's Xbox1 console upon s...</td>\n",
       "      <td>2014-09-25</td>\n",
       "      <td>Minecraft - Xbox One Digital Code</td>\n",
       "    </tr>\n",
       "    <tr>\n",
       "      <th>41623</th>\n",
       "      <td>US</td>\n",
       "      <td>50573861</td>\n",
       "      <td>R2DXWEARM5XU71</td>\n",
       "      <td>B00NMO0IA8</td>\n",
       "      <td>567442793</td>\n",
       "      <td>Minecraft - Xbox One Digital Code</td>\n",
       "      <td>Digital_Video_Games</td>\n",
       "      <td>5</td>\n",
       "      <td>19</td>\n",
       "      <td>20</td>\n",
       "      <td>N</td>\n",
       "      <td>N</td>\n",
       "      <td>Great new version of a great game</td>\n",
       "      <td>Great new version of a great game. Playing on ...</td>\n",
       "      <td>2014-09-25</td>\n",
       "      <td>Minecraft - Xbox One Digital Code</td>\n",
       "    </tr>\n",
       "  </tbody>\n",
       "</table>\n",
       "<p>206 rows × 16 columns</p>\n",
       "</div>"
      ],
      "text/plain": [
       "      marketplace  customer_id       review_id  product_id  product_parent  \\\n",
       "0              US     21269168   RSH1OZ87OYK92  B013PURRZW       603406193   \n",
       "104            US     36076198   RL9RFGWHGPJGO  B00TFVDR32       479126001   \n",
       "159            US     51447735  R253MSTC5ECVRS  B00TFVDR32       479126001   \n",
       "175            US     14884528   RWQI661DFFIF3  B00R6HA3XY       608413618   \n",
       "263            US      2919462  R1XT34JC176BLS  B012P5WRQM        63259150   \n",
       "...           ...          ...             ...         ...             ...   \n",
       "41070          US     39846241   RUUJU7BAQUPBU  B00NMO0IA8       567442793   \n",
       "41122          US     44156652  R3P036FJ9S6P2A  B00NMO0IA8       567442793   \n",
       "41279          US     13709778   RP50H0ZMHSWP7  B00NMO0IA8       567442793   \n",
       "41563          US     33074509  R1LVHPFL52JKSG  B00NMO0IA8       567442793   \n",
       "41623          US     50573861  R2DXWEARM5XU71  B00NMO0IA8       567442793   \n",
       "\n",
       "                                           product_title     product_category  \\\n",
       "0                  Madden NFL 16 - Xbox One Digital Code  Digital_Video_Games   \n",
       "104     Ori and the Blind Forest - Xbox One Digital Code  Digital_Video_Games   \n",
       "159     Ori and the Blind Forest - Xbox One Digital Code  Digital_Video_Games   \n",
       "175               Child of Light - Xbox One Digital Code  Digital_Video_Games   \n",
       "263    Gears of War: Ultimate Edition Deluxe Version ...  Digital_Video_Games   \n",
       "...                                                  ...                  ...   \n",
       "41070                  Minecraft - Xbox One Digital Code  Digital_Video_Games   \n",
       "41122                  Minecraft - Xbox One Digital Code  Digital_Video_Games   \n",
       "41279                  Minecraft - Xbox One Digital Code  Digital_Video_Games   \n",
       "41563                  Minecraft - Xbox One Digital Code  Digital_Video_Games   \n",
       "41623                  Minecraft - Xbox One Digital Code  Digital_Video_Games   \n",
       "\n",
       "       star_rating  helpful_votes  total_votes vine verified_purchase  \\\n",
       "0                2              2            3    N                 N   \n",
       "104              5              0            0    N                 Y   \n",
       "159              5              0            0    N                 Y   \n",
       "175              5              3            3    N                 Y   \n",
       "263              5              0            2    N                 Y   \n",
       "...            ...            ...          ...  ...               ...   \n",
       "41070            5              0            1    N                 N   \n",
       "41122            5              5            5    N                 N   \n",
       "41279            5              4            5    N                 N   \n",
       "41563            1              3           24    N                 Y   \n",
       "41623            5             19           20    N                 N   \n",
       "\n",
       "                                         review_headline  \\\n",
       "0                   A slight improvement from last year.   \n",
       "104            Exactly what the reviews said it would be   \n",
       "159                                           FANTASTIC!   \n",
       "175    Great game - storybook gameplay and dreamy gra...   \n",
       "263                                      Works perfectly   \n",
       "...                                                  ...   \n",
       "41070                                         Games bomb   \n",
       "41122  This code variant is perfect for anyone who wa...   \n",
       "41279                                    My kifs love it   \n",
       "41563                     Buggy right out of the \"gates\"   \n",
       "41623                  Great new version of a great game   \n",
       "\n",
       "                                             review_body review_date  \\\n",
       "0      I keep buying madden every year hoping they ge...  2015-08-31   \n",
       "104    I bought this game after reading all the revie...  2015-08-31   \n",
       "159    I'd say it took me less than a week to finish ...  2015-08-30   \n",
       "175    This is one of the best games I have played in...  2015-08-30   \n",
       "263    I bought the game and Amazon gave me the code ...  2015-08-29   \n",
       "...                                                  ...         ...   \n",
       "41070  Fun game, I like this better then the laptop c...  2014-09-30   \n",
       "41122  Minecraft for the Xbox One is just amazing. It...  2014-09-29   \n",
       "41279  This is a great version of Minecraft.  Once yo...  2014-09-28   \n",
       "41563  The game freezes my son's Xbox1 console upon s...  2014-09-25   \n",
       "41623  Great new version of a great game. Playing on ...  2014-09-25   \n",
       "\n",
       "                                             clean_title  \n",
       "0                  Madden NFL 16 - Xbox One Digital Code  \n",
       "104     Ori and the Blind Forest - Xbox One Digital Code  \n",
       "159     Ori and the Blind Forest - Xbox One Digital Code  \n",
       "175               Child of Light - Xbox One Digital Code  \n",
       "263    Gears of War: Ultimate Edition Deluxe Version ...  \n",
       "...                                                  ...  \n",
       "41070                  Minecraft - Xbox One Digital Code  \n",
       "41122                  Minecraft - Xbox One Digital Code  \n",
       "41279                  Minecraft - Xbox One Digital Code  \n",
       "41563                  Minecraft - Xbox One Digital Code  \n",
       "41623                  Minecraft - Xbox One Digital Code  \n",
       "\n",
       "[206 rows x 16 columns]"
      ]
     },
     "execution_count": 430,
     "metadata": {},
     "output_type": "execute_result"
    }
   ],
   "source": [
    "df_raw_noSub_no_DLC[df_raw_noSub_no_DLC['product_title'].str.contains('Xbox One Digital Code')]"
   ]
  },
  {
   "cell_type": "markdown",
   "metadata": {},
   "source": [
    "below i deleted the susbstring using same method as before"
   ]
  },
  {
   "cell_type": "code",
   "execution_count": 431,
   "metadata": {
    "collapsed": true
   },
   "outputs": [
    {
     "name": "stderr",
     "output_type": "stream",
     "text": [
      "<ipython-input-431-5c6311b342c7>:1: SettingWithCopyWarning: \n",
      "A value is trying to be set on a copy of a slice from a DataFrame.\n",
      "Try using .loc[row_indexer,col_indexer] = value instead\n",
      "\n",
      "See the caveats in the documentation: https://pandas.pydata.org/pandas-docs/stable/user_guide/indexing.html#returning-a-view-versus-a-copy\n",
      "  df_raw_noSub_no_DLC['clean_title'] = df_raw_noSub_no_DLC['clean_title'].str.replace(\" - Xbox One Digital Code\", \"\")\n"
     ]
    }
   ],
   "source": [
    "df_raw_noSub_no_DLC['clean_title'] = df_raw_noSub_no_DLC['clean_title'].str.replace(\" - Xbox One Digital Code\", \"\")"
   ]
  },
  {
   "cell_type": "markdown",
   "metadata": {},
   "source": [
    "found it for the 360 console too"
   ]
  },
  {
   "cell_type": "code",
   "execution_count": 450,
   "metadata": {
    "collapsed": true
   },
   "outputs": [
    {
     "name": "stderr",
     "output_type": "stream",
     "text": [
      "<ipython-input-450-b0b9589e068e>:1: SettingWithCopyWarning: \n",
      "A value is trying to be set on a copy of a slice from a DataFrame.\n",
      "Try using .loc[row_indexer,col_indexer] = value instead\n",
      "\n",
      "See the caveats in the documentation: https://pandas.pydata.org/pandas-docs/stable/user_guide/indexing.html#returning-a-view-versus-a-copy\n",
      "  df_raw_noSub_no_DLC['clean_title'] = df_raw_noSub_no_DLC['clean_title'].str.replace(\" - Xbox 360 Digital Code\", \"\")\n"
     ]
    }
   ],
   "source": [
    "df_raw_noSub_no_DLC['clean_title'] = df_raw_noSub_no_DLC['clean_title'].str.replace(\" - Xbox 360 Digital Code\", \"\")"
   ]
  },
  {
   "cell_type": "markdown",
   "metadata": {},
   "source": [
    "Now will look for something similar in a different platform"
   ]
  },
  {
   "cell_type": "code",
   "execution_count": 451,
   "metadata": {
    "scrolled": true
   },
   "outputs": [
    {
     "data": {
      "text/html": [
       "<div>\n",
       "<style scoped>\n",
       "    .dataframe tbody tr th:only-of-type {\n",
       "        vertical-align: middle;\n",
       "    }\n",
       "\n",
       "    .dataframe tbody tr th {\n",
       "        vertical-align: top;\n",
       "    }\n",
       "\n",
       "    .dataframe thead th {\n",
       "        text-align: right;\n",
       "    }\n",
       "</style>\n",
       "<table border=\"1\" class=\"dataframe\">\n",
       "  <thead>\n",
       "    <tr style=\"text-align: right;\">\n",
       "      <th></th>\n",
       "      <th>marketplace</th>\n",
       "      <th>customer_id</th>\n",
       "      <th>review_id</th>\n",
       "      <th>product_id</th>\n",
       "      <th>product_parent</th>\n",
       "      <th>product_title</th>\n",
       "      <th>product_category</th>\n",
       "      <th>star_rating</th>\n",
       "      <th>helpful_votes</th>\n",
       "      <th>total_votes</th>\n",
       "      <th>vine</th>\n",
       "      <th>verified_purchase</th>\n",
       "      <th>review_headline</th>\n",
       "      <th>review_body</th>\n",
       "      <th>review_date</th>\n",
       "      <th>clean_title</th>\n",
       "    </tr>\n",
       "  </thead>\n",
       "  <tbody>\n",
       "    <tr>\n",
       "      <th>57</th>\n",
       "      <td>US</td>\n",
       "      <td>9095823</td>\n",
       "      <td>R2642823GCWLND</td>\n",
       "      <td>B011WI7U0G</td>\n",
       "      <td>864854550</td>\n",
       "      <td>Batman: Arkham Knight: A Matter Of Family - PS...</td>\n",
       "      <td>Digital_Video_Games</td>\n",
       "      <td>3</td>\n",
       "      <td>1</td>\n",
       "      <td>1</td>\n",
       "      <td>N</td>\n",
       "      <td>Y</td>\n",
       "      <td>Three Stars</td>\n",
       "      <td>It's easily better than the Harley Quinn dlc a...</td>\n",
       "      <td>2015-08-31</td>\n",
       "      <td>Batman: Arkham Knight: A Matter Of Family</td>\n",
       "    </tr>\n",
       "    <tr>\n",
       "      <th>76</th>\n",
       "      <td>US</td>\n",
       "      <td>51688000</td>\n",
       "      <td>R34Y0NX6RHTWH1</td>\n",
       "      <td>B012PRO97A</td>\n",
       "      <td>56796613</td>\n",
       "      <td>Sword Art Online Re: Hollow Fragment - PS4 [Di...</td>\n",
       "      <td>Digital_Video_Games</td>\n",
       "      <td>5</td>\n",
       "      <td>1</td>\n",
       "      <td>2</td>\n",
       "      <td>N</td>\n",
       "      <td>Y</td>\n",
       "      <td>Great gift option</td>\n",
       "      <td>Received code in seconds.  No issues with the ...</td>\n",
       "      <td>2015-08-31</td>\n",
       "      <td>Sword Art Online Re: Hollow Fragment</td>\n",
       "    </tr>\n",
       "    <tr>\n",
       "      <th>81</th>\n",
       "      <td>US</td>\n",
       "      <td>17746031</td>\n",
       "      <td>R2BYOTSDJJY65O</td>\n",
       "      <td>B00DRKJBC8</td>\n",
       "      <td>29664234</td>\n",
       "      <td>Final Fantasy VII - PS4 [Digital Code]</td>\n",
       "      <td>Digital_Video_Games</td>\n",
       "      <td>4</td>\n",
       "      <td>0</td>\n",
       "      <td>0</td>\n",
       "      <td>N</td>\n",
       "      <td>Y</td>\n",
       "      <td>An amazing game</td>\n",
       "      <td>First of all, I never played the original Play...</td>\n",
       "      <td>2015-08-31</td>\n",
       "      <td>Final Fantasy VII</td>\n",
       "    </tr>\n",
       "    <tr>\n",
       "      <th>97</th>\n",
       "      <td>US</td>\n",
       "      <td>28034012</td>\n",
       "      <td>R2GFH6IGSW33MP</td>\n",
       "      <td>B00GMPJKDA</td>\n",
       "      <td>806044015</td>\n",
       "      <td>Trine 2: Complete Story - PS4 [Digital Code]</td>\n",
       "      <td>Digital_Video_Games</td>\n",
       "      <td>4</td>\n",
       "      <td>1</td>\n",
       "      <td>1</td>\n",
       "      <td>N</td>\n",
       "      <td>Y</td>\n",
       "      <td>Four Stars</td>\n",
       "      <td>Awesome brain candy, visually beautiful and in...</td>\n",
       "      <td>2015-08-31</td>\n",
       "      <td>Trine 2: Complete Story</td>\n",
       "    </tr>\n",
       "    <tr>\n",
       "      <th>122</th>\n",
       "      <td>US</td>\n",
       "      <td>3978884</td>\n",
       "      <td>R1GQER9Z4SUO2A</td>\n",
       "      <td>B00JAPIV84</td>\n",
       "      <td>841717561</td>\n",
       "      <td>Dead Nation Apocalypse Edition - PS4 [Digital ...</td>\n",
       "      <td>Digital_Video_Games</td>\n",
       "      <td>5</td>\n",
       "      <td>1</td>\n",
       "      <td>1</td>\n",
       "      <td>N</td>\n",
       "      <td>Y</td>\n",
       "      <td>Five Stars</td>\n",
       "      <td>very good</td>\n",
       "      <td>2015-08-30</td>\n",
       "      <td>Dead Nation Apocalypse Edition</td>\n",
       "    </tr>\n",
       "    <tr>\n",
       "      <th>...</th>\n",
       "      <td>...</td>\n",
       "      <td>...</td>\n",
       "      <td>...</td>\n",
       "      <td>...</td>\n",
       "      <td>...</td>\n",
       "      <td>...</td>\n",
       "      <td>...</td>\n",
       "      <td>...</td>\n",
       "      <td>...</td>\n",
       "      <td>...</td>\n",
       "      <td>...</td>\n",
       "      <td>...</td>\n",
       "      <td>...</td>\n",
       "      <td>...</td>\n",
       "      <td>...</td>\n",
       "      <td>...</td>\n",
       "    </tr>\n",
       "    <tr>\n",
       "      <th>87719</th>\n",
       "      <td>US</td>\n",
       "      <td>44206257</td>\n",
       "      <td>R28CULMVKI3STF</td>\n",
       "      <td>B00DRKJBC8</td>\n",
       "      <td>29664234</td>\n",
       "      <td>Final Fantasy VII - PS4 [Digital Code]</td>\n",
       "      <td>Digital_Video_Games</td>\n",
       "      <td>4</td>\n",
       "      <td>2</td>\n",
       "      <td>5</td>\n",
       "      <td>N</td>\n",
       "      <td>Y</td>\n",
       "      <td>I can't believe I found it</td>\n",
       "      <td>I have been a huge fan of FF since the first o...</td>\n",
       "      <td>2013-08-20</td>\n",
       "      <td>Final Fantasy VII</td>\n",
       "    </tr>\n",
       "    <tr>\n",
       "      <th>88499</th>\n",
       "      <td>US</td>\n",
       "      <td>18170799</td>\n",
       "      <td>R1WK8YSYXTH0ZW</td>\n",
       "      <td>B00DRKJBC8</td>\n",
       "      <td>29664234</td>\n",
       "      <td>Final Fantasy VII - PS4 [Digital Code]</td>\n",
       "      <td>Digital_Video_Games</td>\n",
       "      <td>5</td>\n",
       "      <td>1</td>\n",
       "      <td>1</td>\n",
       "      <td>N</td>\n",
       "      <td>Y</td>\n",
       "      <td>Awesome</td>\n",
       "      <td>I used to play this when I was younger, and is...</td>\n",
       "      <td>2013-08-13</td>\n",
       "      <td>Final Fantasy VII</td>\n",
       "    </tr>\n",
       "    <tr>\n",
       "      <th>89606</th>\n",
       "      <td>US</td>\n",
       "      <td>30522361</td>\n",
       "      <td>R2JM2FL74BQWUE</td>\n",
       "      <td>B00DRKJBC8</td>\n",
       "      <td>29664234</td>\n",
       "      <td>Final Fantasy VII - PS4 [Digital Code]</td>\n",
       "      <td>Digital_Video_Games</td>\n",
       "      <td>3</td>\n",
       "      <td>1</td>\n",
       "      <td>19</td>\n",
       "      <td>N</td>\n",
       "      <td>Y</td>\n",
       "      <td>Best RPG ever!</td>\n",
       "      <td>The game is amazing and gets 5 stars. The down...</td>\n",
       "      <td>2013-08-03</td>\n",
       "      <td>Final Fantasy VII</td>\n",
       "    </tr>\n",
       "    <tr>\n",
       "      <th>90688</th>\n",
       "      <td>US</td>\n",
       "      <td>17058574</td>\n",
       "      <td>R1K7X74SN65PV4</td>\n",
       "      <td>B00DRKJBC8</td>\n",
       "      <td>29664234</td>\n",
       "      <td>Final Fantasy VII - PS4 [Digital Code]</td>\n",
       "      <td>Digital_Video_Games</td>\n",
       "      <td>4</td>\n",
       "      <td>40</td>\n",
       "      <td>47</td>\n",
       "      <td>N</td>\n",
       "      <td>N</td>\n",
       "      <td>(Almost) Exactly as you remember it</td>\n",
       "      <td>...For better or worse.&lt;br /&gt;&lt;br /&gt;This is in ...</td>\n",
       "      <td>2013-07-24</td>\n",
       "      <td>Final Fantasy VII</td>\n",
       "    </tr>\n",
       "    <tr>\n",
       "      <th>91038</th>\n",
       "      <td>US</td>\n",
       "      <td>22968847</td>\n",
       "      <td>R1O0A1S7YFANI1</td>\n",
       "      <td>B00DRKJBC8</td>\n",
       "      <td>29664234</td>\n",
       "      <td>Final Fantasy VII - PS4 [Digital Code]</td>\n",
       "      <td>Digital_Video_Games</td>\n",
       "      <td>5</td>\n",
       "      <td>1</td>\n",
       "      <td>3</td>\n",
       "      <td>N</td>\n",
       "      <td>Y</td>\n",
       "      <td>Great game, great acquisition</td>\n",
       "      <td>I finally can play this Great Game on Windows ...</td>\n",
       "      <td>2013-07-20</td>\n",
       "      <td>Final Fantasy VII</td>\n",
       "    </tr>\n",
       "  </tbody>\n",
       "</table>\n",
       "<p>652 rows × 16 columns</p>\n",
       "</div>"
      ],
      "text/plain": [
       "      marketplace  customer_id       review_id  product_id  product_parent  \\\n",
       "57             US      9095823  R2642823GCWLND  B011WI7U0G       864854550   \n",
       "76             US     51688000  R34Y0NX6RHTWH1  B012PRO97A        56796613   \n",
       "81             US     17746031  R2BYOTSDJJY65O  B00DRKJBC8        29664234   \n",
       "97             US     28034012  R2GFH6IGSW33MP  B00GMPJKDA       806044015   \n",
       "122            US      3978884  R1GQER9Z4SUO2A  B00JAPIV84       841717561   \n",
       "...           ...          ...             ...         ...             ...   \n",
       "87719          US     44206257  R28CULMVKI3STF  B00DRKJBC8        29664234   \n",
       "88499          US     18170799  R1WK8YSYXTH0ZW  B00DRKJBC8        29664234   \n",
       "89606          US     30522361  R2JM2FL74BQWUE  B00DRKJBC8        29664234   \n",
       "90688          US     17058574  R1K7X74SN65PV4  B00DRKJBC8        29664234   \n",
       "91038          US     22968847  R1O0A1S7YFANI1  B00DRKJBC8        29664234   \n",
       "\n",
       "                                           product_title     product_category  \\\n",
       "57     Batman: Arkham Knight: A Matter Of Family - PS...  Digital_Video_Games   \n",
       "76     Sword Art Online Re: Hollow Fragment - PS4 [Di...  Digital_Video_Games   \n",
       "81                Final Fantasy VII - PS4 [Digital Code]  Digital_Video_Games   \n",
       "97          Trine 2: Complete Story - PS4 [Digital Code]  Digital_Video_Games   \n",
       "122    Dead Nation Apocalypse Edition - PS4 [Digital ...  Digital_Video_Games   \n",
       "...                                                  ...                  ...   \n",
       "87719             Final Fantasy VII - PS4 [Digital Code]  Digital_Video_Games   \n",
       "88499             Final Fantasy VII - PS4 [Digital Code]  Digital_Video_Games   \n",
       "89606             Final Fantasy VII - PS4 [Digital Code]  Digital_Video_Games   \n",
       "90688             Final Fantasy VII - PS4 [Digital Code]  Digital_Video_Games   \n",
       "91038             Final Fantasy VII - PS4 [Digital Code]  Digital_Video_Games   \n",
       "\n",
       "       star_rating  helpful_votes  total_votes vine verified_purchase  \\\n",
       "57               3              1            1    N                 Y   \n",
       "76               5              1            2    N                 Y   \n",
       "81               4              0            0    N                 Y   \n",
       "97               4              1            1    N                 Y   \n",
       "122              5              1            1    N                 Y   \n",
       "...            ...            ...          ...  ...               ...   \n",
       "87719            4              2            5    N                 Y   \n",
       "88499            5              1            1    N                 Y   \n",
       "89606            3              1           19    N                 Y   \n",
       "90688            4             40           47    N                 N   \n",
       "91038            5              1            3    N                 Y   \n",
       "\n",
       "                           review_headline  \\\n",
       "57                             Three Stars   \n",
       "76                       Great gift option   \n",
       "81                         An amazing game   \n",
       "97                              Four Stars   \n",
       "122                             Five Stars   \n",
       "...                                    ...   \n",
       "87719           I can't believe I found it   \n",
       "88499                              Awesome   \n",
       "89606                       Best RPG ever!   \n",
       "90688  (Almost) Exactly as you remember it   \n",
       "91038        Great game, great acquisition   \n",
       "\n",
       "                                             review_body review_date  \\\n",
       "57     It's easily better than the Harley Quinn dlc a...  2015-08-31   \n",
       "76     Received code in seconds.  No issues with the ...  2015-08-31   \n",
       "81     First of all, I never played the original Play...  2015-08-31   \n",
       "97     Awesome brain candy, visually beautiful and in...  2015-08-31   \n",
       "122                                            very good  2015-08-30   \n",
       "...                                                  ...         ...   \n",
       "87719  I have been a huge fan of FF since the first o...  2013-08-20   \n",
       "88499  I used to play this when I was younger, and is...  2013-08-13   \n",
       "89606  The game is amazing and gets 5 stars. The down...  2013-08-03   \n",
       "90688  ...For better or worse.<br /><br />This is in ...  2013-07-24   \n",
       "91038  I finally can play this Great Game on Windows ...  2013-07-20   \n",
       "\n",
       "                                     clean_title  \n",
       "57     Batman: Arkham Knight: A Matter Of Family  \n",
       "76          Sword Art Online Re: Hollow Fragment  \n",
       "81                             Final Fantasy VII  \n",
       "97                       Trine 2: Complete Story  \n",
       "122               Dead Nation Apocalypse Edition  \n",
       "...                                          ...  \n",
       "87719                          Final Fantasy VII  \n",
       "88499                          Final Fantasy VII  \n",
       "89606                          Final Fantasy VII  \n",
       "90688                          Final Fantasy VII  \n",
       "91038                          Final Fantasy VII  \n",
       "\n",
       "[652 rows x 16 columns]"
      ]
     },
     "execution_count": 451,
     "metadata": {},
     "output_type": "execute_result"
    }
   ],
   "source": [
    "df_raw_noSub_no_DLC[df_raw_noSub_no_DLC['product_title'].str.contains('PS4')]"
   ]
  },
  {
   "cell_type": "markdown",
   "metadata": {},
   "source": [
    "found `' - PS4'`, `' - PS3'`, `' - PS Vita / PS4 / PS3'`, `' - PS Vita'`"
   ]
  },
  {
   "cell_type": "code",
   "execution_count": 452,
   "metadata": {
    "collapsed": true
   },
   "outputs": [
    {
     "name": "stderr",
     "output_type": "stream",
     "text": [
      "<ipython-input-452-4f158f66e1b8>:1: SettingWithCopyWarning: \n",
      "A value is trying to be set on a copy of a slice from a DataFrame.\n",
      "Try using .loc[row_indexer,col_indexer] = value instead\n",
      "\n",
      "See the caveats in the documentation: https://pandas.pydata.org/pandas-docs/stable/user_guide/indexing.html#returning-a-view-versus-a-copy\n",
      "  df_raw_noSub_no_DLC['clean_title'] = df_raw_noSub_no_DLC['clean_title'].str.replace(\" - PS Vita / PS4 / PS3\", \"\")\n"
     ]
    }
   ],
   "source": [
    "df_raw_noSub_no_DLC['clean_title'] = df_raw_noSub_no_DLC['clean_title'].str.replace(\" - PS Vita / PS4 / PS3\", \"\")"
   ]
  },
  {
   "cell_type": "code",
   "execution_count": 453,
   "metadata": {
    "collapsed": true
   },
   "outputs": [
    {
     "name": "stderr",
     "output_type": "stream",
     "text": [
      "<ipython-input-453-2a9ede935cff>:1: SettingWithCopyWarning: \n",
      "A value is trying to be set on a copy of a slice from a DataFrame.\n",
      "Try using .loc[row_indexer,col_indexer] = value instead\n",
      "\n",
      "See the caveats in the documentation: https://pandas.pydata.org/pandas-docs/stable/user_guide/indexing.html#returning-a-view-versus-a-copy\n",
      "  df_raw_noSub_no_DLC['clean_title'] = df_raw_noSub_no_DLC['clean_title'].str.replace(\" - PS Vita\", \"\")\n"
     ]
    }
   ],
   "source": [
    "df_raw_noSub_no_DLC['clean_title'] = df_raw_noSub_no_DLC['clean_title'].str.replace(\" - PS Vita\", \"\")"
   ]
  },
  {
   "cell_type": "code",
   "execution_count": 454,
   "metadata": {
    "collapsed": true
   },
   "outputs": [
    {
     "name": "stderr",
     "output_type": "stream",
     "text": [
      "<ipython-input-454-e719a298f0a4>:1: SettingWithCopyWarning: \n",
      "A value is trying to be set on a copy of a slice from a DataFrame.\n",
      "Try using .loc[row_indexer,col_indexer] = value instead\n",
      "\n",
      "See the caveats in the documentation: https://pandas.pydata.org/pandas-docs/stable/user_guide/indexing.html#returning-a-view-versus-a-copy\n",
      "  df_raw_noSub_no_DLC['clean_title'] = df_raw_noSub_no_DLC['clean_title'].str.replace(\" - PS3\", \"\")\n"
     ]
    }
   ],
   "source": [
    "df_raw_noSub_no_DLC['clean_title'] = df_raw_noSub_no_DLC['clean_title'].str.replace(\" - PS3\", \"\")"
   ]
  },
  {
   "cell_type": "code",
   "execution_count": 455,
   "metadata": {
    "collapsed": true
   },
   "outputs": [
    {
     "name": "stderr",
     "output_type": "stream",
     "text": [
      "<ipython-input-455-c82fab12cb74>:1: SettingWithCopyWarning: \n",
      "A value is trying to be set on a copy of a slice from a DataFrame.\n",
      "Try using .loc[row_indexer,col_indexer] = value instead\n",
      "\n",
      "See the caveats in the documentation: https://pandas.pydata.org/pandas-docs/stable/user_guide/indexing.html#returning-a-view-versus-a-copy\n",
      "  df_raw_noSub_no_DLC['clean_title'] = df_raw_noSub_no_DLC['clean_title'].str.replace(\" - PS4\", \"\")\n"
     ]
    }
   ],
   "source": [
    "df_raw_noSub_no_DLC['clean_title'] = df_raw_noSub_no_DLC['clean_title'].str.replace(\" - PS4\", \"\")"
   ]
  },
  {
   "cell_type": "markdown",
   "metadata": {},
   "source": [
    "### Clean DF"
   ]
  },
  {
   "cell_type": "code",
   "execution_count": 456,
   "metadata": {},
   "outputs": [],
   "source": [
    "Df_clean = df_raw_noSub_no_DLC[['customer_id', 'clean_title', 'star_rating']]"
   ]
  },
  {
   "cell_type": "code",
   "execution_count": 457,
   "metadata": {},
   "outputs": [],
   "source": [
    "Df_clean.reset_index(drop=True, inplace=True)"
   ]
  },
  {
   "cell_type": "code",
   "execution_count": 458,
   "metadata": {},
   "outputs": [
    {
     "data": {
      "text/plain": [
       "76961"
      ]
     },
     "execution_count": 458,
     "metadata": {},
     "output_type": "execute_result"
    }
   ],
   "source": [
    "Df_clean['customer_id'].nunique()"
   ]
  },
  {
   "cell_type": "code",
   "execution_count": 459,
   "metadata": {
    "scrolled": true
   },
   "outputs": [
    {
     "data": {
      "text/plain": [
       "6006"
      ]
     },
     "execution_count": 459,
     "metadata": {},
     "output_type": "execute_result"
    }
   ],
   "source": [
    "Df_clean['clean_title'].nunique()"
   ]
  },
  {
   "cell_type": "code",
   "execution_count": 460,
   "metadata": {},
   "outputs": [
    {
     "name": "stdout",
     "output_type": "stream",
     "text": [
      "Digital_Video_Games.tsv  GameRatings.csv          meta_Video_Games.json.gz\r\n"
     ]
    }
   ],
   "source": [
    "!ls data"
   ]
  },
  {
   "cell_type": "code",
   "execution_count": 469,
   "metadata": {},
   "outputs": [],
   "source": [
    "Df_clean.to_csv('./data/GameRatings.csv')"
   ]
  },
  {
   "cell_type": "code",
   "execution_count": 470,
   "metadata": {},
   "outputs": [],
   "source": [
    "Ratings = pd.read_csv('./data/GameRatings.csv')"
   ]
  },
  {
   "cell_type": "code",
   "execution_count": 404,
   "metadata": {
    "scrolled": true
   },
   "outputs": [
    {
     "name": "stdout",
     "output_type": "stream",
     "text": [
      "<class 'pandas.core.frame.DataFrame'>\n",
      "RangeIndex: 101228 entries, 0 to 101227\n",
      "Data columns (total 3 columns):\n",
      " #   Column       Non-Null Count   Dtype \n",
      "---  ------       --------------   ----- \n",
      " 0   customer_id  101228 non-null  int64 \n",
      " 1   clean_title  101228 non-null  object\n",
      " 2   star_rating  101228 non-null  int64 \n",
      "dtypes: int64(2), object(1)\n",
      "memory usage: 2.3+ MB\n"
     ]
    }
   ],
   "source": [
    "Ratings.info()"
   ]
  },
  {
   "cell_type": "code",
   "execution_count": 462,
   "metadata": {},
   "outputs": [],
   "source": [
    "from surprise import Dataset, Reader"
   ]
  },
  {
   "cell_type": "code",
   "execution_count": 465,
   "metadata": {},
   "outputs": [],
   "source": [
    "reader = Reader(line_format='user item rating',\n",
    "                sep=',', skip_lines=1)"
   ]
  },
  {
   "cell_type": "code",
   "execution_count": 466,
   "metadata": {},
   "outputs": [
    {
     "ename": "ValueError",
     "evalue": "could not convert string to float: 'She Wrote 2: Return to Cabot Cove\"'",
     "output_type": "error",
     "traceback": [
      "\u001b[0;31m---------------------------------------------------------------------------\u001b[0m",
      "\u001b[0;31mValueError\u001b[0m                                Traceback (most recent call last)",
      "\u001b[0;32m<ipython-input-466-4643311f4f61>\u001b[0m in \u001b[0;36m<module>\u001b[0;34m\u001b[0m\n\u001b[0;32m----> 1\u001b[0;31m \u001b[0mdata\u001b[0m \u001b[0;34m=\u001b[0m \u001b[0mDataset\u001b[0m\u001b[0;34m.\u001b[0m\u001b[0mload_from_file\u001b[0m\u001b[0;34m(\u001b[0m\u001b[0;34m'./data/GameRatings.csv'\u001b[0m\u001b[0;34m,\u001b[0m \u001b[0mreader\u001b[0m\u001b[0;34m=\u001b[0m\u001b[0mreader\u001b[0m\u001b[0;34m)\u001b[0m\u001b[0;34m\u001b[0m\u001b[0;34m\u001b[0m\u001b[0m\n\u001b[0m",
      "\u001b[0;32m/opt/anaconda3/envs/learn-env/lib/python3.8/site-packages/surprise/dataset.py\u001b[0m in \u001b[0;36mload_from_file\u001b[0;34m(cls, file_path, reader)\u001b[0m\n\u001b[1;32m    118\u001b[0m         \"\"\"\n\u001b[1;32m    119\u001b[0m \u001b[0;34m\u001b[0m\u001b[0m\n\u001b[0;32m--> 120\u001b[0;31m         \u001b[0;32mreturn\u001b[0m \u001b[0mDatasetAutoFolds\u001b[0m\u001b[0;34m(\u001b[0m\u001b[0mratings_file\u001b[0m\u001b[0;34m=\u001b[0m\u001b[0mfile_path\u001b[0m\u001b[0;34m,\u001b[0m \u001b[0mreader\u001b[0m\u001b[0;34m=\u001b[0m\u001b[0mreader\u001b[0m\u001b[0;34m)\u001b[0m\u001b[0;34m\u001b[0m\u001b[0;34m\u001b[0m\u001b[0m\n\u001b[0m\u001b[1;32m    121\u001b[0m \u001b[0;34m\u001b[0m\u001b[0m\n\u001b[1;32m    122\u001b[0m     \u001b[0;34m@\u001b[0m\u001b[0mclassmethod\u001b[0m\u001b[0;34m\u001b[0m\u001b[0;34m\u001b[0m\u001b[0m\n",
      "\u001b[0;32m/opt/anaconda3/envs/learn-env/lib/python3.8/site-packages/surprise/dataset.py\u001b[0m in \u001b[0;36m__init__\u001b[0;34m(self, ratings_file, reader, df)\u001b[0m\n\u001b[1;32m    251\u001b[0m         \u001b[0;32mif\u001b[0m \u001b[0mratings_file\u001b[0m \u001b[0;32mis\u001b[0m \u001b[0;32mnot\u001b[0m \u001b[0;32mNone\u001b[0m\u001b[0;34m:\u001b[0m\u001b[0;34m\u001b[0m\u001b[0;34m\u001b[0m\u001b[0m\n\u001b[1;32m    252\u001b[0m             \u001b[0mself\u001b[0m\u001b[0;34m.\u001b[0m\u001b[0mratings_file\u001b[0m \u001b[0;34m=\u001b[0m \u001b[0mratings_file\u001b[0m\u001b[0;34m\u001b[0m\u001b[0;34m\u001b[0m\u001b[0m\n\u001b[0;32m--> 253\u001b[0;31m             \u001b[0mself\u001b[0m\u001b[0;34m.\u001b[0m\u001b[0mraw_ratings\u001b[0m \u001b[0;34m=\u001b[0m \u001b[0mself\u001b[0m\u001b[0;34m.\u001b[0m\u001b[0mread_ratings\u001b[0m\u001b[0;34m(\u001b[0m\u001b[0mself\u001b[0m\u001b[0;34m.\u001b[0m\u001b[0mratings_file\u001b[0m\u001b[0;34m)\u001b[0m\u001b[0;34m\u001b[0m\u001b[0;34m\u001b[0m\u001b[0m\n\u001b[0m\u001b[1;32m    254\u001b[0m         \u001b[0;32melif\u001b[0m \u001b[0mdf\u001b[0m \u001b[0;32mis\u001b[0m \u001b[0;32mnot\u001b[0m \u001b[0;32mNone\u001b[0m\u001b[0;34m:\u001b[0m\u001b[0;34m\u001b[0m\u001b[0;34m\u001b[0m\u001b[0m\n\u001b[1;32m    255\u001b[0m             \u001b[0mself\u001b[0m\u001b[0;34m.\u001b[0m\u001b[0mdf\u001b[0m \u001b[0;34m=\u001b[0m \u001b[0mdf\u001b[0m\u001b[0;34m\u001b[0m\u001b[0;34m\u001b[0m\u001b[0m\n",
      "\u001b[0;32m/opt/anaconda3/envs/learn-env/lib/python3.8/site-packages/surprise/dataset.py\u001b[0m in \u001b[0;36mread_ratings\u001b[0;34m(self, file_name)\u001b[0m\n\u001b[1;32m    169\u001b[0m \u001b[0;34m\u001b[0m\u001b[0m\n\u001b[1;32m    170\u001b[0m         \u001b[0;32mwith\u001b[0m \u001b[0mopen\u001b[0m\u001b[0;34m(\u001b[0m\u001b[0mos\u001b[0m\u001b[0;34m.\u001b[0m\u001b[0mpath\u001b[0m\u001b[0;34m.\u001b[0m\u001b[0mexpanduser\u001b[0m\u001b[0;34m(\u001b[0m\u001b[0mfile_name\u001b[0m\u001b[0;34m)\u001b[0m\u001b[0;34m)\u001b[0m \u001b[0;32mas\u001b[0m \u001b[0mf\u001b[0m\u001b[0;34m:\u001b[0m\u001b[0;34m\u001b[0m\u001b[0;34m\u001b[0m\u001b[0m\n\u001b[0;32m--> 171\u001b[0;31m             raw_ratings = [self.reader.parse_line(line) for line in\n\u001b[0m\u001b[1;32m    172\u001b[0m                            itertools.islice(f, self.reader.skip_lines, None)]\n\u001b[1;32m    173\u001b[0m         \u001b[0;32mreturn\u001b[0m \u001b[0mraw_ratings\u001b[0m\u001b[0;34m\u001b[0m\u001b[0;34m\u001b[0m\u001b[0m\n",
      "\u001b[0;32m/opt/anaconda3/envs/learn-env/lib/python3.8/site-packages/surprise/dataset.py\u001b[0m in \u001b[0;36m<listcomp>\u001b[0;34m(.0)\u001b[0m\n\u001b[1;32m    169\u001b[0m \u001b[0;34m\u001b[0m\u001b[0m\n\u001b[1;32m    170\u001b[0m         \u001b[0;32mwith\u001b[0m \u001b[0mopen\u001b[0m\u001b[0;34m(\u001b[0m\u001b[0mos\u001b[0m\u001b[0;34m.\u001b[0m\u001b[0mpath\u001b[0m\u001b[0;34m.\u001b[0m\u001b[0mexpanduser\u001b[0m\u001b[0;34m(\u001b[0m\u001b[0mfile_name\u001b[0m\u001b[0;34m)\u001b[0m\u001b[0;34m)\u001b[0m \u001b[0;32mas\u001b[0m \u001b[0mf\u001b[0m\u001b[0;34m:\u001b[0m\u001b[0;34m\u001b[0m\u001b[0;34m\u001b[0m\u001b[0m\n\u001b[0;32m--> 171\u001b[0;31m             raw_ratings = [self.reader.parse_line(line) for line in\n\u001b[0m\u001b[1;32m    172\u001b[0m                            itertools.islice(f, self.reader.skip_lines, None)]\n\u001b[1;32m    173\u001b[0m         \u001b[0;32mreturn\u001b[0m \u001b[0mraw_ratings\u001b[0m\u001b[0;34m\u001b[0m\u001b[0;34m\u001b[0m\u001b[0m\n",
      "\u001b[0;32m/opt/anaconda3/envs/learn-env/lib/python3.8/site-packages/surprise/reader.py\u001b[0m in \u001b[0;36mparse_line\u001b[0;34m(self, line)\u001b[0m\n\u001b[1;32m    101\u001b[0m                              ' and sep parameters.')\n\u001b[1;32m    102\u001b[0m \u001b[0;34m\u001b[0m\u001b[0m\n\u001b[0;32m--> 103\u001b[0;31m         \u001b[0;32mreturn\u001b[0m \u001b[0muid\u001b[0m\u001b[0;34m,\u001b[0m \u001b[0miid\u001b[0m\u001b[0;34m,\u001b[0m \u001b[0mfloat\u001b[0m\u001b[0;34m(\u001b[0m\u001b[0mr\u001b[0m\u001b[0;34m)\u001b[0m\u001b[0;34m,\u001b[0m \u001b[0mtimestamp\u001b[0m\u001b[0;34m\u001b[0m\u001b[0;34m\u001b[0m\u001b[0m\n\u001b[0m",
      "\u001b[0;31mValueError\u001b[0m: could not convert string to float: 'She Wrote 2: Return to Cabot Cove\"'"
     ]
    }
   ],
   "source": [
    "data = Dataset.load_from_file('./data/GameRatings.csv', reader=reader)"
   ]
  },
  {
   "cell_type": "code",
   "execution_count": null,
   "metadata": {},
   "outputs": [],
   "source": []
  },
  {
   "cell_type": "code",
   "execution_count": null,
   "metadata": {},
   "outputs": [],
   "source": []
  },
  {
   "cell_type": "code",
   "execution_count": null,
   "metadata": {},
   "outputs": [],
   "source": []
  },
  {
   "cell_type": "code",
   "execution_count": null,
   "metadata": {},
   "outputs": [],
   "source": []
  },
  {
   "cell_type": "markdown",
   "metadata": {},
   "source": [
    "## Modeling"
   ]
  },
  {
   "cell_type": "markdown",
   "metadata": {},
   "source": [
    "I will train models using the collaborative filtering aproach, and for a first simple model i picked a memory-based one, "
   ]
  },
  {
   "cell_type": "markdown",
   "metadata": {},
   "source": [
    "Memory-based models calculate the similarities between users / items based on user-item rating pairs.\n",
    "\n",
    "\n",
    "Model-based models (admittedly, a weird name) use some sort of machine learning algorithm to estimate the ratings. A typical example is singular value decomposition of the user-item ratings matrix."
   ]
  },
  {
   "cell_type": "code",
   "execution_count": null,
   "metadata": {},
   "outputs": [],
   "source": []
  },
  {
   "cell_type": "code",
   "execution_count": null,
   "metadata": {},
   "outputs": [],
   "source": []
  },
  {
   "cell_type": "code",
   "execution_count": null,
   "metadata": {},
   "outputs": [],
   "source": []
  },
  {
   "cell_type": "code",
   "execution_count": null,
   "metadata": {},
   "outputs": [],
   "source": []
  },
  {
   "cell_type": "code",
   "execution_count": null,
   "metadata": {},
   "outputs": [],
   "source": []
  },
  {
   "cell_type": "code",
   "execution_count": null,
   "metadata": {},
   "outputs": [],
   "source": []
  },
  {
   "cell_type": "code",
   "execution_count": null,
   "metadata": {},
   "outputs": [],
   "source": [
    "trainset, testset = train_test_split(jokes, test_size=0.2)"
   ]
  },
  {
   "cell_type": "code",
   "execution_count": null,
   "metadata": {},
   "outputs": [],
   "source": [
    "from surprise.model_selection import train_test_split"
   ]
  },
  {
   "cell_type": "code",
   "execution_count": null,
   "metadata": {},
   "outputs": [],
   "source": [
    "import surprise\n",
    "from surprise.prediction_algorithms import *"
   ]
  },
  {
   "cell_type": "code",
   "execution_count": null,
   "metadata": {},
   "outputs": [],
   "source": [
    "from surprise import Dataset, SVD\n",
    "from surprise.model_selection import cross_validate"
   ]
  },
  {
   "cell_type": "code",
   "execution_count": null,
   "metadata": {},
   "outputs": [],
   "source": [
    "from surprise.prediction_algorithms import SVD\n",
    "from surprise.model_selection import GridSearchCV"
   ]
  },
  {
   "cell_type": "code",
   "execution_count": null,
   "metadata": {},
   "outputs": [],
   "source": []
  },
  {
   "cell_type": "code",
   "execution_count": null,
   "metadata": {},
   "outputs": [],
   "source": []
  },
  {
   "cell_type": "markdown",
   "metadata": {},
   "source": [
    "## Evaluation"
   ]
  },
  {
   "cell_type": "code",
   "execution_count": null,
   "metadata": {},
   "outputs": [],
   "source": [
    "making predictions"
   ]
  },
  {
   "cell_type": "markdown",
   "metadata": {},
   "source": [
    "## Deployment"
   ]
  },
  {
   "cell_type": "code",
   "execution_count": null,
   "metadata": {},
   "outputs": [],
   "source": []
  },
  {
   "cell_type": "markdown",
   "metadata": {},
   "source": [
    "## metadata"
   ]
  },
  {
   "cell_type": "code",
   "execution_count": 2,
   "metadata": {},
   "outputs": [
    {
     "name": "stdout",
     "output_type": "stream",
     "text": [
      "Digital_Video_Games.tsv  meta_Video_Games.json.gz\r\n"
     ]
    }
   ],
   "source": [
    "!ls data\n"
   ]
  },
  {
   "cell_type": "code",
   "execution_count": 3,
   "metadata": {},
   "outputs": [],
   "source": [
    "import gzip"
   ]
  },
  {
   "cell_type": "code",
   "execution_count": 6,
   "metadata": {},
   "outputs": [],
   "source": [
    "def parse(path):\n",
    "  g = gzip.open(path, 'rb')\n",
    "  for l in g:\n",
    "    yield eval(l)\n",
    "\n",
    "def getDF(path):\n",
    "  i = 0\n",
    "  df = {}\n",
    "  for d in parse(path):\n",
    "    df[i] = d\n",
    "    i += 1\n",
    "  return pd.DataFrame.from_dict(df, orient='index')\n",
    "\n",
    "meta_df = getDF('./data/meta_Video_Games.json.gz')"
   ]
  },
  {
   "cell_type": "code",
   "execution_count": null,
   "metadata": {},
   "outputs": [],
   "source": []
  }
 ],
 "metadata": {
  "kernelspec": {
   "display_name": "Python (learn-env)",
   "language": "python",
   "name": "learn-env"
  },
  "language_info": {
   "codemirror_mode": {
    "name": "ipython",
    "version": 3
   },
   "file_extension": ".py",
   "mimetype": "text/x-python",
   "name": "python",
   "nbconvert_exporter": "python",
   "pygments_lexer": "ipython3",
   "version": "3.8.5"
  }
 },
 "nbformat": 4,
 "nbformat_minor": 4
}
