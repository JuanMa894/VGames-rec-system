{
 "cells": [
  {
   "cell_type": "markdown",
   "metadata": {},
   "source": [
    "# Video Game Recomendation System"
   ]
  },
  {
   "cell_type": "markdown",
   "metadata": {},
   "source": [
    "## Business understanding"
   ]
  },
  {
   "cell_type": "code",
   "execution_count": null,
   "metadata": {},
   "outputs": [],
   "source": []
  },
  {
   "cell_type": "markdown",
   "metadata": {},
   "source": [
    "## Data understanding"
   ]
  },
  {
   "cell_type": "code",
   "execution_count": 5,
   "metadata": {},
   "outputs": [],
   "source": [
    "import pandas as pd\n",
    "import numpy as np\n",
    "import matplotlib.pyplot as plt\n",
    "import seaborn as sns\n",
    "%matplotlib inline"
   ]
  },
  {
   "cell_type": "markdown",
   "metadata": {},
   "source": [
    "Dataset from kaggle on [here](https://www.kaggle.com/datasets/cynthiarempel/amazon-us-customer-reviews-dataset?select=amazon_reviews_us_Digital_Video_Games_v1_00.tsv)"
   ]
  },
  {
   "cell_type": "code",
   "execution_count": 24,
   "metadata": {
    "scrolled": true
   },
   "outputs": [],
   "source": [
    "df_raw = pd.read_csv('./data/Digital_Video_Games.tsv', sep='\\t', header=0, error_bad_lines=False)"
   ]
  },
  {
   "cell_type": "markdown",
   "metadata": {},
   "source": [
    "### Columns\n",
    "- **marketplace**: 2 letter country code of the marketplace where the review was written.\n",
    "- **customer_id**: Random identifier that can be used to aggregate reviews written by a single author.\n",
    "- **review_id**: The unique ID of the review.\n",
    "- **productid**: The unique Product ID the review pertains to. In the multilingual dataset the reviews for the same product in different countries can be grouped by the same productid.\n",
    "- **product_parent**: Random identifier that can be used to aggregate reviews for the same product.\n",
    "- **product_title**: Title of the product.\n",
    "- **product_category**: Broad product category that can be used to group reviews (also used to group the dataset into coherent parts).\n",
    "- **star_rating**: The 1-5 star rating of the review.\n",
    "- **helpful_votes**: Number of helpful votes.\n",
    "- **total_votes**: Number of total votes the review received.\n",
    "- **vine**: Review was written as part of the Vine program.\n",
    "- **verified_purchase**: The review is on a verified purchase.\n",
    "- **review_headline**: The title of the review.\n",
    "- **review_body**: The review text.\n",
    "- **review_date**: The date the review was written."
   ]
  },
  {
   "cell_type": "code",
   "execution_count": 26,
   "metadata": {},
   "outputs": [
    {
     "data": {
      "text/html": [
       "<div>\n",
       "<style scoped>\n",
       "    .dataframe tbody tr th:only-of-type {\n",
       "        vertical-align: middle;\n",
       "    }\n",
       "\n",
       "    .dataframe tbody tr th {\n",
       "        vertical-align: top;\n",
       "    }\n",
       "\n",
       "    .dataframe thead th {\n",
       "        text-align: right;\n",
       "    }\n",
       "</style>\n",
       "<table border=\"1\" class=\"dataframe\">\n",
       "  <thead>\n",
       "    <tr style=\"text-align: right;\">\n",
       "      <th></th>\n",
       "      <th>marketplace</th>\n",
       "      <th>customer_id</th>\n",
       "      <th>review_id</th>\n",
       "      <th>product_id</th>\n",
       "      <th>product_parent</th>\n",
       "      <th>product_title</th>\n",
       "      <th>product_category</th>\n",
       "      <th>star_rating</th>\n",
       "      <th>helpful_votes</th>\n",
       "      <th>total_votes</th>\n",
       "      <th>vine</th>\n",
       "      <th>verified_purchase</th>\n",
       "      <th>review_headline</th>\n",
       "      <th>review_body</th>\n",
       "      <th>review_date</th>\n",
       "    </tr>\n",
       "  </thead>\n",
       "  <tbody>\n",
       "    <tr>\n",
       "      <th>0</th>\n",
       "      <td>US</td>\n",
       "      <td>21269168</td>\n",
       "      <td>RSH1OZ87OYK92</td>\n",
       "      <td>B013PURRZW</td>\n",
       "      <td>603406193</td>\n",
       "      <td>Madden NFL 16 - Xbox One Digital Code</td>\n",
       "      <td>Digital_Video_Games</td>\n",
       "      <td>2</td>\n",
       "      <td>2</td>\n",
       "      <td>3</td>\n",
       "      <td>N</td>\n",
       "      <td>N</td>\n",
       "      <td>A slight improvement from last year.</td>\n",
       "      <td>I keep buying madden every year hoping they ge...</td>\n",
       "      <td>2015-08-31</td>\n",
       "    </tr>\n",
       "    <tr>\n",
       "      <th>1</th>\n",
       "      <td>US</td>\n",
       "      <td>133437</td>\n",
       "      <td>R1WFOQ3N9BO65I</td>\n",
       "      <td>B00F4CEHNK</td>\n",
       "      <td>341969535</td>\n",
       "      <td>Xbox Live Gift Card</td>\n",
       "      <td>Digital_Video_Games</td>\n",
       "      <td>5</td>\n",
       "      <td>0</td>\n",
       "      <td>0</td>\n",
       "      <td>N</td>\n",
       "      <td>Y</td>\n",
       "      <td>Five Stars</td>\n",
       "      <td>Awesome</td>\n",
       "      <td>2015-08-31</td>\n",
       "    </tr>\n",
       "    <tr>\n",
       "      <th>2</th>\n",
       "      <td>US</td>\n",
       "      <td>45765011</td>\n",
       "      <td>R3YOOS71KM5M9</td>\n",
       "      <td>B00DNHLFQA</td>\n",
       "      <td>951665344</td>\n",
       "      <td>Command &amp; Conquer The Ultimate Collection [Ins...</td>\n",
       "      <td>Digital_Video_Games</td>\n",
       "      <td>5</td>\n",
       "      <td>0</td>\n",
       "      <td>0</td>\n",
       "      <td>N</td>\n",
       "      <td>Y</td>\n",
       "      <td>Hail to the great Yuri!</td>\n",
       "      <td>If you are prepping for the end of the world t...</td>\n",
       "      <td>2015-08-31</td>\n",
       "    </tr>\n",
       "    <tr>\n",
       "      <th>3</th>\n",
       "      <td>US</td>\n",
       "      <td>113118</td>\n",
       "      <td>R3R14UATT3OUFU</td>\n",
       "      <td>B004RMK5QG</td>\n",
       "      <td>395682204</td>\n",
       "      <td>Playstation Plus Subscription</td>\n",
       "      <td>Digital_Video_Games</td>\n",
       "      <td>5</td>\n",
       "      <td>0</td>\n",
       "      <td>0</td>\n",
       "      <td>N</td>\n",
       "      <td>Y</td>\n",
       "      <td>Five Stars</td>\n",
       "      <td>Perfect</td>\n",
       "      <td>2015-08-31</td>\n",
       "    </tr>\n",
       "    <tr>\n",
       "      <th>4</th>\n",
       "      <td>US</td>\n",
       "      <td>22151364</td>\n",
       "      <td>RV2W9SGDNQA2C</td>\n",
       "      <td>B00G9BNLQE</td>\n",
       "      <td>640460561</td>\n",
       "      <td>Saints Row IV - Enter The Dominatrix [Online G...</td>\n",
       "      <td>Digital_Video_Games</td>\n",
       "      <td>5</td>\n",
       "      <td>0</td>\n",
       "      <td>0</td>\n",
       "      <td>N</td>\n",
       "      <td>Y</td>\n",
       "      <td>Five Stars</td>\n",
       "      <td>Awesome!</td>\n",
       "      <td>2015-08-31</td>\n",
       "    </tr>\n",
       "  </tbody>\n",
       "</table>\n",
       "</div>"
      ],
      "text/plain": [
       "  marketplace  customer_id       review_id  product_id  product_parent  \\\n",
       "0          US     21269168   RSH1OZ87OYK92  B013PURRZW       603406193   \n",
       "1          US       133437  R1WFOQ3N9BO65I  B00F4CEHNK       341969535   \n",
       "2          US     45765011   R3YOOS71KM5M9  B00DNHLFQA       951665344   \n",
       "3          US       113118  R3R14UATT3OUFU  B004RMK5QG       395682204   \n",
       "4          US     22151364   RV2W9SGDNQA2C  B00G9BNLQE       640460561   \n",
       "\n",
       "                                       product_title     product_category  \\\n",
       "0              Madden NFL 16 - Xbox One Digital Code  Digital_Video_Games   \n",
       "1                                Xbox Live Gift Card  Digital_Video_Games   \n",
       "2  Command & Conquer The Ultimate Collection [Ins...  Digital_Video_Games   \n",
       "3                      Playstation Plus Subscription  Digital_Video_Games   \n",
       "4  Saints Row IV - Enter The Dominatrix [Online G...  Digital_Video_Games   \n",
       "\n",
       "   star_rating  helpful_votes  total_votes vine verified_purchase  \\\n",
       "0            2              2            3    N                 N   \n",
       "1            5              0            0    N                 Y   \n",
       "2            5              0            0    N                 Y   \n",
       "3            5              0            0    N                 Y   \n",
       "4            5              0            0    N                 Y   \n",
       "\n",
       "                        review_headline  \\\n",
       "0  A slight improvement from last year.   \n",
       "1                            Five Stars   \n",
       "2               Hail to the great Yuri!   \n",
       "3                            Five Stars   \n",
       "4                            Five Stars   \n",
       "\n",
       "                                         review_body review_date  \n",
       "0  I keep buying madden every year hoping they ge...  2015-08-31  \n",
       "1                                            Awesome  2015-08-31  \n",
       "2  If you are prepping for the end of the world t...  2015-08-31  \n",
       "3                                            Perfect  2015-08-31  \n",
       "4                                           Awesome!  2015-08-31  "
      ]
     },
     "execution_count": 26,
     "metadata": {},
     "output_type": "execute_result"
    }
   ],
   "source": [
    "df_raw.head()"
   ]
  },
  {
   "cell_type": "code",
   "execution_count": 21,
   "metadata": {
    "scrolled": true
   },
   "outputs": [
    {
     "name": "stdout",
     "output_type": "stream",
     "text": [
      "<class 'pandas.core.frame.DataFrame'>\n",
      "RangeIndex: 144724 entries, 0 to 144723\n",
      "Data columns (total 15 columns):\n",
      " #   Column             Non-Null Count   Dtype \n",
      "---  ------             --------------   ----- \n",
      " 0   marketplace        144724 non-null  object\n",
      " 1   customer_id        144724 non-null  int64 \n",
      " 2   review_id          144724 non-null  object\n",
      " 3   product_id         144724 non-null  object\n",
      " 4   product_parent     144724 non-null  int64 \n",
      " 5   product_title      144724 non-null  object\n",
      " 6   product_category   144724 non-null  object\n",
      " 7   star_rating        144724 non-null  int64 \n",
      " 8   helpful_votes      144724 non-null  int64 \n",
      " 9   total_votes        144724 non-null  int64 \n",
      " 10  vine               144724 non-null  object\n",
      " 11  verified_purchase  144724 non-null  object\n",
      " 12  review_headline    144722 non-null  object\n",
      " 13  review_body        144722 non-null  object\n",
      " 14  review_date        144721 non-null  object\n",
      "dtypes: int64(5), object(10)\n",
      "memory usage: 16.6+ MB\n"
     ]
    }
   ],
   "source": [
    "df_raw.info()"
   ]
  },
  {
   "cell_type": "markdown",
   "metadata": {},
   "source": [
    "Some null values in the last 3 columns."
   ]
  },
  {
   "cell_type": "code",
   "execution_count": 28,
   "metadata": {},
   "outputs": [
    {
     "data": {
      "text/plain": [
       "array(['US'], dtype=object)"
      ]
     },
     "execution_count": 28,
     "metadata": {},
     "output_type": "execute_result"
    }
   ],
   "source": [
    "df_raw['marketplace'].unique()"
   ]
  },
  {
   "cell_type": "markdown",
   "metadata": {},
   "source": [
    "All reviews in dataset are from US customers"
   ]
  },
  {
   "cell_type": "code",
   "execution_count": 23,
   "metadata": {},
   "outputs": [
    {
     "data": {
      "text/plain": [
       "112891"
      ]
     },
     "execution_count": 23,
     "metadata": {},
     "output_type": "execute_result"
    }
   ],
   "source": [
    "df_raw['customer_id'].nunique()"
   ]
  },
  {
   "cell_type": "markdown",
   "metadata": {},
   "source": [
    "112891 different customers "
   ]
  },
  {
   "cell_type": "code",
   "execution_count": 29,
   "metadata": {},
   "outputs": [
    {
     "data": {
      "text/plain": [
       "144724"
      ]
     },
     "execution_count": 29,
     "metadata": {},
     "output_type": "execute_result"
    }
   ],
   "source": [
    "df_raw['review_id'].nunique()"
   ]
  },
  {
   "cell_type": "markdown",
   "metadata": {},
   "source": [
    "Seems like there are no duplicate reviews in the set"
   ]
  },
  {
   "cell_type": "code",
   "execution_count": 22,
   "metadata": {},
   "outputs": [
    {
     "data": {
      "text/plain": [
       "7939"
      ]
     },
     "execution_count": 22,
     "metadata": {},
     "output_type": "execute_result"
    }
   ],
   "source": [
    "df_raw['product_id'].nunique()"
   ]
  },
  {
   "cell_type": "markdown",
   "metadata": {},
   "source": [
    "7939 different products, but not all video games, found \"Playstation Plus Subscription\" in row 3, so all digitally sold products related video games, like subscriptions, seem to be included in the data set, will further look for other kind of product other than games and drop those."
   ]
  },
  {
   "cell_type": "code",
   "execution_count": 31,
   "metadata": {},
   "outputs": [
    {
     "data": {
      "text/plain": [
       "7755"
      ]
     },
     "execution_count": 31,
     "metadata": {},
     "output_type": "execute_result"
    }
   ],
   "source": [
    "df_raw['product_parent'].nunique()"
   ]
  },
  {
   "cell_type": "markdown",
   "metadata": {},
   "source": [
    "- **product_parent**: Random identifier that can be used to aggregate reviews for the same product.\n",
    "\n",
    "seems like just another id but we have about 200 less data points in this column than product id"
   ]
  },
  {
   "cell_type": "code",
   "execution_count": 32,
   "metadata": {},
   "outputs": [
    {
     "data": {
      "text/plain": [
       "6946"
      ]
     },
     "execution_count": 32,
     "metadata": {},
     "output_type": "execute_result"
    }
   ],
   "source": [
    "df_raw['product_title'].nunique()"
   ]
  },
  {
   "cell_type": "markdown",
   "metadata": {},
   "source": [
    "if i have 6946 different titles, i would expect the same amount of product_id, wonder if by droping everything that is not a game, like substriptions, would fix this discrepancy."
   ]
  },
  {
   "cell_type": "code",
   "execution_count": 39,
   "metadata": {},
   "outputs": [
    {
     "data": {
      "text/plain": [
       "'Playstation Plus Subscription'"
      ]
     },
     "execution_count": 39,
     "metadata": {},
     "output_type": "execute_result"
    }
   ],
   "source": [
    "df_raw.iloc[3]['product_title']"
   ]
  },
  {
   "cell_type": "markdown",
   "metadata": {},
   "source": [
    "it doesnt specify if the subscription is for 1, 3 or 12 months"
   ]
  },
  {
   "cell_type": "code",
   "execution_count": null,
   "metadata": {},
   "outputs": [],
   "source": []
  },
  {
   "cell_type": "code",
   "execution_count": null,
   "metadata": {},
   "outputs": [],
   "source": []
  },
  {
   "cell_type": "code",
   "execution_count": null,
   "metadata": {},
   "outputs": [],
   "source": []
  },
  {
   "cell_type": "code",
   "execution_count": null,
   "metadata": {},
   "outputs": [],
   "source": []
  },
  {
   "cell_type": "markdown",
   "metadata": {},
   "source": [
    "## Data Preparation"
   ]
  },
  {
   "cell_type": "code",
   "execution_count": null,
   "metadata": {},
   "outputs": [],
   "source": []
  },
  {
   "cell_type": "markdown",
   "metadata": {},
   "source": [
    "## Modeling"
   ]
  },
  {
   "cell_type": "code",
   "execution_count": null,
   "metadata": {},
   "outputs": [],
   "source": []
  },
  {
   "cell_type": "markdown",
   "metadata": {},
   "source": [
    "## Evaluation"
   ]
  },
  {
   "cell_type": "code",
   "execution_count": null,
   "metadata": {},
   "outputs": [],
   "source": []
  },
  {
   "cell_type": "markdown",
   "metadata": {},
   "source": [
    "## Deployment"
   ]
  },
  {
   "cell_type": "code",
   "execution_count": null,
   "metadata": {},
   "outputs": [],
   "source": []
  }
 ],
 "metadata": {
  "kernelspec": {
   "display_name": "Python (learn-env)",
   "language": "python",
   "name": "learn-env"
  },
  "language_info": {
   "codemirror_mode": {
    "name": "ipython",
    "version": 3
   },
   "file_extension": ".py",
   "mimetype": "text/x-python",
   "name": "python",
   "nbconvert_exporter": "python",
   "pygments_lexer": "ipython3",
   "version": "3.8.5"
  }
 },
 "nbformat": 4,
 "nbformat_minor": 4
}
